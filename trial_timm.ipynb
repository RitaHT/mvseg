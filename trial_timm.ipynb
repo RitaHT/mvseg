{
 "cells": [
  {
   "cell_type": "markdown",
   "metadata": {},
   "source": [
    "### Intro\n",
    "This is a practice notebook for Rita. \n",
    "Since no GPU, training on Colab: https://colab.research.google.com/drive/1Lp5xPuN4hG4n2LNZp44G9CBzC-fqYC7Q?usp=sharing "
   ]
  },
  {
   "cell_type": "code",
   "execution_count": 1,
   "metadata": {},
   "outputs": [
    {
     "name": "stderr",
     "output_type": "stream",
     "text": [
      "/Users/rita/anaconda3/envs/hfenv/lib/python3.12/site-packages/tqdm/auto.py:21: TqdmWarning: IProgress not found. Please update jupyter and ipywidgets. See https://ipywidgets.readthedocs.io/en/stable/user_install.html\n",
      "  from .autonotebook import tqdm as notebook_tqdm\n"
     ]
    }
   ],
   "source": [
    "import os\n",
    "from os import listdir\n",
    "import numpy as np\n",
    "import nibabel as nib #for reading .nii.gz format MRI files\n",
    "import matplotlib.pyplot as plt\n",
    "import pandas as pd\n",
    "\n",
    "import pickle\n",
    "\n",
    "import monai\n",
    "from monai.data import CacheDataset, DataLoader, CSVDataset\n",
    "from monai.transforms import (\n",
    "    EnsureChannelFirstd, EnsureChannelFirst,\n",
    "    Activations,\n",
    "    AsDiscreted, AsDiscrete,\n",
    "    Compose,\n",
    "    LoadImaged, LoadImage,\n",
    "    SplitDimd, SplitDim,\n",
    "    Orientationd,\n",
    "    Randomizable,\n",
    "    Resized, Resize,\n",
    "    CenterSpatialCropd, CenterSpatialCrop,\n",
    "    ScaleIntensityd,\n",
    "    Spacingd,\n",
    "    EnsureTyped,\n",
    "    ToTensord,ToTensor,\n",
    "    NormalizeIntensityd, NormalizeIntensity,\n",
    ")\n",
    "\n",
    "from tqdm.auto import tqdm\n",
    "#import cv2 #opencv"
   ]
  },
  {
   "cell_type": "code",
   "execution_count": 2,
   "metadata": {},
   "outputs": [],
   "source": [
    "import timm\n",
    "import torch\n",
    "import torch.nn as nn\n",
    "from torchvision.models.segmentation.deeplabv3 import DeepLabHead"
   ]
  },
  {
   "cell_type": "markdown",
   "metadata": {},
   "source": [
    "### Take a look at models"
   ]
  },
  {
   "cell_type": "code",
   "execution_count": 4,
   "metadata": {},
   "outputs": [],
   "source": [
    "import huggingface_hub"
   ]
  },
  {
   "cell_type": "code",
   "execution_count": 8,
   "metadata": {},
   "outputs": [
    {
     "ename": "RuntimeError",
     "evalue": "Hugging Face hub model specified but package not installed. Run `pip install huggingface_hub`.",
     "output_type": "error",
     "traceback": [
      "\u001b[0;31m---------------------------------------------------------------------------\u001b[0m",
      "\u001b[0;31mRuntimeError\u001b[0m                              Traceback (most recent call last)",
      "Cell \u001b[0;32mIn[8], line 2\u001b[0m\n\u001b[1;32m      1\u001b[0m \u001b[38;5;66;03m# default model with classifier\u001b[39;00m\n\u001b[0;32m----> 2\u001b[0m m0 \u001b[38;5;241m=\u001b[39m \u001b[43mtimm\u001b[49m\u001b[38;5;241;43m.\u001b[39;49m\u001b[43mcreate_model\u001b[49m\u001b[43m(\u001b[49m\u001b[38;5;124;43m\"\u001b[39;49m\u001b[38;5;124;43mmobilevit_xxs.cvnets_in1k\u001b[39;49m\u001b[38;5;124;43m\"\u001b[39;49m\u001b[43m,\u001b[49m\u001b[43m \u001b[49m\u001b[43mpretrained\u001b[49m\u001b[38;5;241;43m=\u001b[39;49m\u001b[38;5;28;43;01mTrue\u001b[39;49;00m\u001b[43m)\u001b[49m\n\u001b[1;32m      3\u001b[0m \u001b[38;5;28mprint\u001b[39m(m0)\n",
      "File \u001b[0;32m~/anaconda3/envs/hfenv/lib/python3.12/site-packages/timm/models/_factory.py:117\u001b[0m, in \u001b[0;36mcreate_model\u001b[0;34m(model_name, pretrained, pretrained_cfg, pretrained_cfg_overlay, checkpoint_path, scriptable, exportable, no_jit, **kwargs)\u001b[0m\n\u001b[1;32m    115\u001b[0m create_fn \u001b[38;5;241m=\u001b[39m model_entrypoint(model_name)\n\u001b[1;32m    116\u001b[0m \u001b[38;5;28;01mwith\u001b[39;00m set_layer_config(scriptable\u001b[38;5;241m=\u001b[39mscriptable, exportable\u001b[38;5;241m=\u001b[39mexportable, no_jit\u001b[38;5;241m=\u001b[39mno_jit):\n\u001b[0;32m--> 117\u001b[0m     model \u001b[38;5;241m=\u001b[39m \u001b[43mcreate_fn\u001b[49m\u001b[43m(\u001b[49m\n\u001b[1;32m    118\u001b[0m \u001b[43m        \u001b[49m\u001b[43mpretrained\u001b[49m\u001b[38;5;241;43m=\u001b[39;49m\u001b[43mpretrained\u001b[49m\u001b[43m,\u001b[49m\n\u001b[1;32m    119\u001b[0m \u001b[43m        \u001b[49m\u001b[43mpretrained_cfg\u001b[49m\u001b[38;5;241;43m=\u001b[39;49m\u001b[43mpretrained_cfg\u001b[49m\u001b[43m,\u001b[49m\n\u001b[1;32m    120\u001b[0m \u001b[43m        \u001b[49m\u001b[43mpretrained_cfg_overlay\u001b[49m\u001b[38;5;241;43m=\u001b[39;49m\u001b[43mpretrained_cfg_overlay\u001b[49m\u001b[43m,\u001b[49m\n\u001b[1;32m    121\u001b[0m \u001b[43m        \u001b[49m\u001b[38;5;241;43m*\u001b[39;49m\u001b[38;5;241;43m*\u001b[39;49m\u001b[43mkwargs\u001b[49m\u001b[43m,\u001b[49m\n\u001b[1;32m    122\u001b[0m \u001b[43m    \u001b[49m\u001b[43m)\u001b[49m\n\u001b[1;32m    124\u001b[0m \u001b[38;5;28;01mif\u001b[39;00m checkpoint_path:\n\u001b[1;32m    125\u001b[0m     load_checkpoint(model, checkpoint_path)\n",
      "File \u001b[0;32m~/anaconda3/envs/hfenv/lib/python3.12/site-packages/timm/models/mobilevit.py:625\u001b[0m, in \u001b[0;36mmobilevit_xxs\u001b[0;34m(pretrained, **kwargs)\u001b[0m\n\u001b[1;32m    623\u001b[0m \u001b[38;5;129m@register_model\u001b[39m\n\u001b[1;32m    624\u001b[0m \u001b[38;5;28;01mdef\u001b[39;00m \u001b[38;5;21mmobilevit_xxs\u001b[39m(pretrained\u001b[38;5;241m=\u001b[39m\u001b[38;5;28;01mFalse\u001b[39;00m, \u001b[38;5;241m*\u001b[39m\u001b[38;5;241m*\u001b[39mkwargs) \u001b[38;5;241m-\u001b[39m\u001b[38;5;241m>\u001b[39m ByobNet:\n\u001b[0;32m--> 625\u001b[0m     \u001b[38;5;28;01mreturn\u001b[39;00m \u001b[43m_create_mobilevit\u001b[49m\u001b[43m(\u001b[49m\u001b[38;5;124;43m'\u001b[39;49m\u001b[38;5;124;43mmobilevit_xxs\u001b[39;49m\u001b[38;5;124;43m'\u001b[39;49m\u001b[43m,\u001b[49m\u001b[43m \u001b[49m\u001b[43mpretrained\u001b[49m\u001b[38;5;241;43m=\u001b[39;49m\u001b[43mpretrained\u001b[49m\u001b[43m,\u001b[49m\u001b[43m \u001b[49m\u001b[38;5;241;43m*\u001b[39;49m\u001b[38;5;241;43m*\u001b[39;49m\u001b[43mkwargs\u001b[49m\u001b[43m)\u001b[49m\n",
      "File \u001b[0;32m~/anaconda3/envs/hfenv/lib/python3.12/site-packages/timm/models/mobilevit.py:548\u001b[0m, in \u001b[0;36m_create_mobilevit\u001b[0;34m(variant, cfg_variant, pretrained, **kwargs)\u001b[0m\n\u001b[1;32m    547\u001b[0m \u001b[38;5;28;01mdef\u001b[39;00m \u001b[38;5;21m_create_mobilevit\u001b[39m(variant, cfg_variant\u001b[38;5;241m=\u001b[39m\u001b[38;5;28;01mNone\u001b[39;00m, pretrained\u001b[38;5;241m=\u001b[39m\u001b[38;5;28;01mFalse\u001b[39;00m, \u001b[38;5;241m*\u001b[39m\u001b[38;5;241m*\u001b[39mkwargs):\n\u001b[0;32m--> 548\u001b[0m     \u001b[38;5;28;01mreturn\u001b[39;00m \u001b[43mbuild_model_with_cfg\u001b[49m\u001b[43m(\u001b[49m\n\u001b[1;32m    549\u001b[0m \u001b[43m        \u001b[49m\u001b[43mByobNet\u001b[49m\u001b[43m,\u001b[49m\u001b[43m \u001b[49m\u001b[43mvariant\u001b[49m\u001b[43m,\u001b[49m\u001b[43m \u001b[49m\u001b[43mpretrained\u001b[49m\u001b[43m,\u001b[49m\n\u001b[1;32m    550\u001b[0m \u001b[43m        \u001b[49m\u001b[43mmodel_cfg\u001b[49m\u001b[38;5;241;43m=\u001b[39;49m\u001b[43mmodel_cfgs\u001b[49m\u001b[43m[\u001b[49m\u001b[43mvariant\u001b[49m\u001b[43m]\u001b[49m\u001b[43m \u001b[49m\u001b[38;5;28;43;01mif\u001b[39;49;00m\u001b[43m \u001b[49m\u001b[38;5;129;43;01mnot\u001b[39;49;00m\u001b[43m \u001b[49m\u001b[43mcfg_variant\u001b[49m\u001b[43m \u001b[49m\u001b[38;5;28;43;01melse\u001b[39;49;00m\u001b[43m \u001b[49m\u001b[43mmodel_cfgs\u001b[49m\u001b[43m[\u001b[49m\u001b[43mcfg_variant\u001b[49m\u001b[43m]\u001b[49m\u001b[43m,\u001b[49m\n\u001b[1;32m    551\u001b[0m \u001b[43m        \u001b[49m\u001b[43mfeature_cfg\u001b[49m\u001b[38;5;241;43m=\u001b[39;49m\u001b[38;5;28;43mdict\u001b[39;49m\u001b[43m(\u001b[49m\u001b[43mflatten_sequential\u001b[49m\u001b[38;5;241;43m=\u001b[39;49m\u001b[38;5;28;43;01mTrue\u001b[39;49;00m\u001b[43m)\u001b[49m\u001b[43m,\u001b[49m\n\u001b[1;32m    552\u001b[0m \u001b[43m        \u001b[49m\u001b[38;5;241;43m*\u001b[39;49m\u001b[38;5;241;43m*\u001b[39;49m\u001b[43mkwargs\u001b[49m\u001b[43m)\u001b[49m\n",
      "File \u001b[0;32m~/anaconda3/envs/hfenv/lib/python3.12/site-packages/timm/models/_builder.py:418\u001b[0m, in \u001b[0;36mbuild_model_with_cfg\u001b[0;34m(model_cls, variant, pretrained, pretrained_cfg, pretrained_cfg_overlay, model_cfg, feature_cfg, pretrained_strict, pretrained_filter_fn, kwargs_filter, **kwargs)\u001b[0m\n\u001b[1;32m    416\u001b[0m num_classes_pretrained \u001b[38;5;241m=\u001b[39m \u001b[38;5;241m0\u001b[39m \u001b[38;5;28;01mif\u001b[39;00m features \u001b[38;5;28;01melse\u001b[39;00m \u001b[38;5;28mgetattr\u001b[39m(model, \u001b[38;5;124m'\u001b[39m\u001b[38;5;124mnum_classes\u001b[39m\u001b[38;5;124m'\u001b[39m, kwargs\u001b[38;5;241m.\u001b[39mget(\u001b[38;5;124m'\u001b[39m\u001b[38;5;124mnum_classes\u001b[39m\u001b[38;5;124m'\u001b[39m, \u001b[38;5;241m1000\u001b[39m))\n\u001b[1;32m    417\u001b[0m \u001b[38;5;28;01mif\u001b[39;00m pretrained:\n\u001b[0;32m--> 418\u001b[0m     \u001b[43mload_pretrained\u001b[49m\u001b[43m(\u001b[49m\n\u001b[1;32m    419\u001b[0m \u001b[43m        \u001b[49m\u001b[43mmodel\u001b[49m\u001b[43m,\u001b[49m\n\u001b[1;32m    420\u001b[0m \u001b[43m        \u001b[49m\u001b[43mpretrained_cfg\u001b[49m\u001b[38;5;241;43m=\u001b[39;49m\u001b[43mpretrained_cfg\u001b[49m\u001b[43m,\u001b[49m\n\u001b[1;32m    421\u001b[0m \u001b[43m        \u001b[49m\u001b[43mnum_classes\u001b[49m\u001b[38;5;241;43m=\u001b[39;49m\u001b[43mnum_classes_pretrained\u001b[49m\u001b[43m,\u001b[49m\n\u001b[1;32m    422\u001b[0m \u001b[43m        \u001b[49m\u001b[43min_chans\u001b[49m\u001b[38;5;241;43m=\u001b[39;49m\u001b[43mkwargs\u001b[49m\u001b[38;5;241;43m.\u001b[39;49m\u001b[43mget\u001b[49m\u001b[43m(\u001b[49m\u001b[38;5;124;43m'\u001b[39;49m\u001b[38;5;124;43min_chans\u001b[39;49m\u001b[38;5;124;43m'\u001b[39;49m\u001b[43m,\u001b[49m\u001b[43m \u001b[49m\u001b[38;5;241;43m3\u001b[39;49m\u001b[43m)\u001b[49m\u001b[43m,\u001b[49m\n\u001b[1;32m    423\u001b[0m \u001b[43m        \u001b[49m\u001b[43mfilter_fn\u001b[49m\u001b[38;5;241;43m=\u001b[39;49m\u001b[43mpretrained_filter_fn\u001b[49m\u001b[43m,\u001b[49m\n\u001b[1;32m    424\u001b[0m \u001b[43m        \u001b[49m\u001b[43mstrict\u001b[49m\u001b[38;5;241;43m=\u001b[39;49m\u001b[43mpretrained_strict\u001b[49m\u001b[43m,\u001b[49m\n\u001b[1;32m    425\u001b[0m \u001b[43m    \u001b[49m\u001b[43m)\u001b[49m\n\u001b[1;32m    427\u001b[0m \u001b[38;5;66;03m# Wrap the model in a feature extraction module if enabled\u001b[39;00m\n\u001b[1;32m    428\u001b[0m \u001b[38;5;28;01mif\u001b[39;00m features:\n",
      "File \u001b[0;32m~/anaconda3/envs/hfenv/lib/python3.12/site-packages/timm/models/_builder.py:158\u001b[0m, in \u001b[0;36mload_pretrained\u001b[0;34m(model, pretrained_cfg, num_classes, in_chans, filter_fn, strict)\u001b[0m\n\u001b[1;32m    155\u001b[0m \u001b[38;5;28;01mif\u001b[39;00m \u001b[38;5;129;01mnot\u001b[39;00m pretrained_cfg:\n\u001b[1;32m    156\u001b[0m     \u001b[38;5;28;01mraise\u001b[39;00m \u001b[38;5;167;01mRuntimeError\u001b[39;00m(\u001b[38;5;124m\"\u001b[39m\u001b[38;5;124mInvalid pretrained config, cannot load weights. Use `pretrained=False` for random init.\u001b[39m\u001b[38;5;124m\"\u001b[39m)\n\u001b[0;32m--> 158\u001b[0m load_from, pretrained_loc \u001b[38;5;241m=\u001b[39m \u001b[43m_resolve_pretrained_source\u001b[49m\u001b[43m(\u001b[49m\u001b[43mpretrained_cfg\u001b[49m\u001b[43m)\u001b[49m\n\u001b[1;32m    159\u001b[0m \u001b[38;5;28;01mif\u001b[39;00m load_from \u001b[38;5;241m==\u001b[39m \u001b[38;5;124m'\u001b[39m\u001b[38;5;124mstate_dict\u001b[39m\u001b[38;5;124m'\u001b[39m:\n\u001b[1;32m    160\u001b[0m     _logger\u001b[38;5;241m.\u001b[39minfo(\u001b[38;5;124mf\u001b[39m\u001b[38;5;124m'\u001b[39m\u001b[38;5;124mLoading pretrained weights from state dict\u001b[39m\u001b[38;5;124m'\u001b[39m)\n",
      "File \u001b[0;32m~/anaconda3/envs/hfenv/lib/python3.12/site-packages/timm/models/_builder.py:63\u001b[0m, in \u001b[0;36m_resolve_pretrained_source\u001b[0;34m(pretrained_cfg)\u001b[0m\n\u001b[1;32m     60\u001b[0m \u001b[38;5;28;01mif\u001b[39;00m _USE_OLD_CACHE:\n\u001b[1;32m     61\u001b[0m     \u001b[38;5;66;03m# prioritized old cached weights if exists and env var enabled\u001b[39;00m\n\u001b[1;32m     62\u001b[0m     old_cache_valid \u001b[38;5;241m=\u001b[39m check_cached_file(pretrained_url) \u001b[38;5;28;01mif\u001b[39;00m pretrained_url \u001b[38;5;28;01melse\u001b[39;00m \u001b[38;5;28;01mFalse\u001b[39;00m\n\u001b[0;32m---> 63\u001b[0m \u001b[38;5;28;01mif\u001b[39;00m \u001b[38;5;129;01mnot\u001b[39;00m old_cache_valid \u001b[38;5;129;01mand\u001b[39;00m hf_hub_id \u001b[38;5;129;01mand\u001b[39;00m \u001b[43mhas_hf_hub\u001b[49m\u001b[43m(\u001b[49m\u001b[43mnecessary\u001b[49m\u001b[38;5;241;43m=\u001b[39;49m\u001b[38;5;28;43;01mTrue\u001b[39;49;00m\u001b[43m)\u001b[49m:\n\u001b[1;32m     64\u001b[0m     \u001b[38;5;66;03m# hf-hub available as alternate weight source in default_cfg\u001b[39;00m\n\u001b[1;32m     65\u001b[0m     load_from \u001b[38;5;241m=\u001b[39m \u001b[38;5;124m'\u001b[39m\u001b[38;5;124mhf-hub\u001b[39m\u001b[38;5;124m'\u001b[39m\n\u001b[1;32m     66\u001b[0m     pretrained_loc \u001b[38;5;241m=\u001b[39m hf_hub_id\n",
      "File \u001b[0;32m~/anaconda3/envs/hfenv/lib/python3.12/site-packages/timm/models/_hub.py:111\u001b[0m, in \u001b[0;36mhas_hf_hub\u001b[0;34m(necessary)\u001b[0m\n\u001b[1;32m    108\u001b[0m \u001b[38;5;28;01mdef\u001b[39;00m \u001b[38;5;21mhas_hf_hub\u001b[39m(necessary\u001b[38;5;241m=\u001b[39m\u001b[38;5;28;01mFalse\u001b[39;00m):\n\u001b[1;32m    109\u001b[0m     \u001b[38;5;28;01mif\u001b[39;00m \u001b[38;5;129;01mnot\u001b[39;00m _has_hf_hub \u001b[38;5;129;01mand\u001b[39;00m necessary:\n\u001b[1;32m    110\u001b[0m         \u001b[38;5;66;03m# if no HF Hub module installed, and it is necessary to continue, raise error\u001b[39;00m\n\u001b[0;32m--> 111\u001b[0m         \u001b[38;5;28;01mraise\u001b[39;00m \u001b[38;5;167;01mRuntimeError\u001b[39;00m(\n\u001b[1;32m    112\u001b[0m             \u001b[38;5;124m'\u001b[39m\u001b[38;5;124mHugging Face hub model specified but package not installed. Run `pip install huggingface_hub`.\u001b[39m\u001b[38;5;124m'\u001b[39m)\n\u001b[1;32m    113\u001b[0m     \u001b[38;5;28;01mreturn\u001b[39;00m _has_hf_hub\n",
      "\u001b[0;31mRuntimeError\u001b[0m: Hugging Face hub model specified but package not installed. Run `pip install huggingface_hub`."
     ]
    }
   ],
   "source": [
    "# default model with classifier\n",
    "m0 = timm.create_model(\"mobilevit_xxs.cvnets_in1k\", pretrained=True)\n",
    "print(m0)"
   ]
  },
  {
   "cell_type": "code",
   "execution_count": 9,
   "metadata": {},
   "outputs": [
    {
     "name": "stdout",
     "output_type": "stream",
     "text": [
      "['/Users/rita/anaconda3/envs/hfenv/lib/python312.zip', '/Users/rita/anaconda3/envs/hfenv/lib/python3.12', '/Users/rita/anaconda3/envs/hfenv/lib/python3.12/lib-dynload', '', '/Users/rita/anaconda3/envs/hfenv/lib/python3.12/site-packages', '/Users/rita/anaconda3/envs/hfenv/lib/python3.12/site-packages/huggingface_hub']\n"
     ]
    }
   ],
   "source": [
    "import sys; \n",
    "#print(sys.executable) #/Users/rita/anaconda3/envs/hfenv/bin/python\n",
    "print(sys.path) \n",
    "#sys.path.append('/Users/rita/anaconda3/envs/hfenv/lib/python3.12/site-packages/huggingface_hub')"
   ]
  },
  {
   "cell_type": "code",
   "execution_count": 12,
   "metadata": {},
   "outputs": [
    {
     "name": "stdout",
     "output_type": "stream",
     "text": [
      "[{'num_chs': 32, 'reduction': 2, 'module': 'stages.0', 'stage': 1, 'index': 0}, {'num_chs': 64, 'reduction': 4, 'module': 'stages.1', 'stage': 2, 'index': 1}, {'num_chs': 128, 'reduction': 8, 'module': 'stages.2', 'stage': 3, 'index': 2}, {'num_chs': 192, 'reduction': 16, 'module': 'stages.3', 'stage': 4, 'index': 3}, {'num_chs': 256, 'reduction': 32, 'module': 'final_conv', 'stage': 5, 'index': 4}]\n"
     ]
    }
   ],
   "source": [
    "m0 = timm.create_model(\"mobilevitv2_050\", features_only=True)\n",
    "#print(m0.feature_info.get_dicts())\n",
    "#mobilevit_xxs\n",
    "#[{'num_chs': 16, 'reduction': 2, 'module': 'stages.0', 'stage': 1, 'index': 0}, \n",
    "# {'num_chs': 24, 'reduction': 4, 'module': 'stages.1', 'stage': 2, 'index': 1}, \n",
    "# {'num_chs': 48, 'reduction': 8, 'module': 'stages.2', 'stage': 3, 'index': 2}, \n",
    "# {'num_chs': 64, 'reduction': 16, 'module': 'stages.3', 'stage': 4, 'index': 3}, \n",
    "# {'num_chs': 320, 'reduction': 32, 'module': 'final_conv', 'stage': 5, 'index': 4}]\n",
    "\n",
    "#mobilevitv2_050\n",
    "#[{'num_chs': 32, 'reduction': 2, 'module': 'stages.0', 'stage': 1, 'index': 0}, \n",
    "# {'num_chs': 64, 'reduction': 4, 'module': 'stages.1', 'stage': 2, 'index': 1}, \n",
    "# {'num_chs': 128, 'reduction': 8, 'module': 'stages.2', 'stage': 3, 'index': 2}, \n",
    "# {'num_chs': 192, 'reduction': 16, 'module': 'stages.3', 'stage': 4, 'index': 3}, \n",
    "# {'num_chs': 256, 'reduction': 32, 'module': 'final_conv', 'stage': 5, 'index': 4}]"
   ]
  },
  {
   "cell_type": "code",
   "execution_count": 16,
   "metadata": {},
   "outputs": [
    {
     "name": "stdout",
     "output_type": "stream",
     "text": [
      "192\n"
     ]
    }
   ],
   "source": [
    "# Loop through the model's layers and print their weights\n",
    "i = 0\n",
    "for name, param in m0.named_parameters():\n",
    "    #print(f\"Layer: {name} | Shape: {param.shape} \") #| Values: {param[:2]}\")  # printing only first 2 values for brevity\n",
    "    i+=1\n",
    "print(i)"
   ]
  },
  {
   "cell_type": "code",
   "execution_count": null,
   "metadata": {},
   "outputs": [],
   "source": [
    "# We want Penultimate Layer Features (Pre-Classifier Features), not classification\n",
    "# this one ends with:\n",
    "#   (fc): Identity()\n",
    "#   (flatten): Identity()\n",
    "m1 = timm.create_model(\n",
    "    \"mobilevit_xxs.cvnets_in1k\", \n",
    "    pretrained=True, \n",
    "    num_classes=0, \n",
    "    global_pool='')\n",
    "\n",
    "\n",
    "# pretrained weights need <batch B, 3 channels, H, W>:\n",
    "# ex. (1, 3, 224, 224) -> torch.Size([1,1000]) if classifier\n",
    "# ex.                  -> torch.Size([1, 320, 7, 7]) if preclassifier (no classifier head & pooling)\n",
    "# ex. (1, 3, 96, 96)   -> torch.Size([1, 320, 3, 3]) if classifier\n",
    "x = torch.randn(1, 3, 96, 96) \n",
    "o = m1(x)  \n",
    "#print(m1)"
   ]
  },
  {
   "cell_type": "code",
   "execution_count": null,
   "metadata": {},
   "outputs": [],
   "source": [
    "# MobileViTv2\n",
    "# This one with LinearTransformerBlock(...), LinearSelfAttention(...) classes \n",
    "#   crop_pct=0.888?\n",
    "m2 = timm.create_model(\n",
    "    \"mobilevitv2_050.cvnets_in1k\", \n",
    "    pretrained=True, \n",
    "    num_classes=0, \n",
    "    global_pool='')\n",
    "\n",
    "# pretrained weights need <batch B, 3 channels, H, W>:\n",
    "# ex. (1, 3, 224, 224) -> torch.Size([1,1000]) if classifier\n",
    "# ex.                  -> torch.Size([1, 256, 8, 8]) if preclassifier (no classifier head & pooling)\n",
    "# ex. (1, 3, 96, 96)   -> torch.Size([1, 256, 4, 4]) if classifier\n",
    "x = torch.randn(1, 3, 224, 224) \n",
    "o = m2(x)\n",
    "print(o.shape)  \n",
    "print(m2)"
   ]
  },
  {
   "cell_type": "markdown",
   "metadata": {},
   "source": [
    "### Load Images from csv"
   ]
  },
  {
   "cell_type": "code",
   "execution_count": null,
   "metadata": {},
   "outputs": [],
   "source": [
    "os.chdir(\"/Users/rita/Desktop/harini_lab/\")\n",
    "cwd = os.getcwd() #/Users/rita/Desktop/\n",
    "print(cwd)"
   ]
  },
  {
   "cell_type": "code",
   "execution_count": null,
   "metadata": {},
   "outputs": [],
   "source": [
    "file_dir = 'PROSTATEx/Files/lesions/'\n",
    "csvFile_image = pd.read_csv(os.path.join(file_dir,'image_list.csv')) #(201,2)\n",
    "csvFile_score = pd.read_csv(os.path.join(file_dir,'prostatex_classes.csv')) #(299,3)\n",
    "\n",
    "img_dir_ADC = os.path.join(file_dir, 'Images/ADC') #PROSTATEx/Files/lesions/Images/ADC/X.nii.gz\n",
    "label_dir_ADC = os.path.join(file_dir, 'Masks/ADC') #PROSTATEx/Files/lesions/Masks/ADC/X.nii.gz\n",
    "\n",
    "img_dir_T2 = os.path.join(file_dir, 'Images/T2') #PROSTATEx/Files/lesions/Images/T2/X.nii.gz\n",
    "label_dir_T2 = os.path.join(file_dir, 'Masks/T2') #PROSTATEx/Files/lesions/Masks/ADC/X.nii.gz\n",
    "\n"
   ]
  },
  {
   "cell_type": "code",
   "execution_count": null,
   "metadata": {},
   "outputs": [],
   "source": [
    "print(csvFile_score[\"T2\"])"
   ]
  },
  {
   "cell_type": "code",
   "execution_count": null,
   "metadata": {},
   "outputs": [],
   "source": [
    "#for i in listdir(label_dir_ADC):\n",
    "    # ex. ProstateX-0006-Finding1-ep2d_diff_tra_DYNDIST_ADC_ROI.nii.gz\n",
    " #   chID = i[0:23]\n",
    "#    print(chID)"
   ]
  },
  {
   "cell_type": "code",
   "execution_count": null,
   "metadata": {},
   "outputs": [],
   "source": [
    "#csvFile_score[\"ID\"] = csvFile_score[\"ID\"].str.replace('_', '-', n=1)\n",
    "csvFile_score[\"ADC\"] = label_dir_ADC + '/' + csvFile_score[\"ADC\"]\n",
    "csvFile_score[\"T2\"] = label_dir_T2 + '/' + csvFile_score[\"T2\"]\n",
    "print(csvFile_score)"
   ]
  },
  {
   "cell_type": "code",
   "execution_count": null,
   "metadata": {},
   "outputs": [],
   "source": [
    "# loop to create dataset (IP)\n",
    "X_train_ADC = [] #len = 201\n",
    "X_train_T2 = []\n",
    "\n",
    "#how to deal with clinical significant & Gleason score?\n",
    "#could have multiple lesions mask for one patient?\n",
    "#   check how standard dataset organized them?\n",
    "y_mask_ADC = []\n",
    "y_mask_T2 = []\n",
    "\n",
    "for i in range(len(csvFile_image)): \n",
    "    img_filename_ADC, img_filename_T2 = csvFile_image.iloc[i]\n",
    "    img_complete_path_ADC = os.path.join(img_dir_ADC, img_filename_ADC) + '.nii.gz'\n",
    "    img_ADC = nib.load(img_complete_path_ADC)\n",
    "    imgdata_ADC = img_ADC.get_fdata() #(84, 128, 19)\n",
    "\n",
    "    img_complete_path_T2 = os.path.join(img_dir_T2, img_filename_T2) + '.nii.gz'\n",
    "    img_T2 = nib.load(img_complete_path_T2)\n",
    "    imgdata_T2 = img_T2.get_fdata() #(384, 384, 19)\n",
    "\n",
    "    # 2D network\n",
    "    # or should I just use the middle 3 slices (mask at 13~17) for each?\n",
    "    num_slice = imgdata_ADC.shape[2]\n",
    "    for i in range(0, num_slice-3, 3): #0~16, step=3: 0,3,6,9,12,15\n",
    "        slice_ADC = imgdata_ADC[:,:,i:i+3]\n",
    "        X_train_ADC.append(slice_ADC)\n",
    "\n",
    "        slice_T2 = imgdata_T2[:,:,i:i+3]\n",
    "        X_train_T2.append(slice_T2)\n",
    "    #below is the filename I changed to match csv \n",
    "    #all csv items are added .nii.gz at the end for better MONAI reading\n",
    "    # ADC:\n",
    "    #ProstateX-0025_ep2d_diff_tra_7a.nii.gz ->7\n",
    "    #ProstateX-0113_ep2d_diff_tra_9.nii.gz -> 10\n",
    "    #ProstateX-0203_diffusie-3ProstateX-0203_diffusie-3Scan-4bval_fs_7.niiScan-4bval_fs_7.nii\n",
    "    #-> ProstateX-0203_diffusie-3Scan-4bval_fs_7.nii.gz\n",
    "    # T2:\n",
    "    #ProstateX-0128_t2_tse_tra_5.nii -> _5.nii.gz: nib.load(), nib.save()\n",
    "    # Missing:\n",
    "    # 0052, 0080, 0138, \n",
    "    \n",
    "    "
   ]
  },
  {
   "cell_type": "code",
   "execution_count": null,
   "metadata": {},
   "outputs": [],
   "source": [
    "X_train_T2[5].shape #201*6=1217???"
   ]
  },
  {
   "cell_type": "code",
   "execution_count": null,
   "metadata": {},
   "outputs": [],
   "source": [
    "#csvFile_image['ADC'] = csvFile_image['ADC'] + '.nii.gz'\n",
    "#csvFile_image['T2'] = csvFile_image['T2'] + '.nii.gz'\n",
    "csvFile_image['ADC'] = img_dir_ADC + '/' + csvFile_image['ADC'] \n",
    "csvFile_image['T2'] = img_dir_T2 + '/' + csvFile_image['T2']\n",
    "\n",
    "\n",
    "print(csvFile_image)"
   ]
  },
  {
   "cell_type": "code",
   "execution_count": null,
   "metadata": {},
   "outputs": [],
   "source": [
    "output_file = 'PROSTATEx_Classes.csv'\n",
    "csvFile_score.to_csv(output_file, index=False)\n"
   ]
  },
  {
   "cell_type": "code",
   "execution_count": null,
   "metadata": {},
   "outputs": [],
   "source": [
    "fig = plt.figure()\n",
    "fig.add_subplot(2, 2, 1); plt.imshow(X_train_ADC[7][:,:,1].T, cmap='Greys_r'); plt.title(\"Example ADC Image\")\n",
    "fig.add_subplot(2, 2, 2); plt.imshow(X_train_T2[7][:,:,1].T, cmap='Greys_r'); plt.title(\"Example T2 Image\")\n",
    "print(X_train_T2[7].shape) \n"
   ]
  },
  {
   "cell_type": "code",
   "execution_count": null,
   "metadata": {},
   "outputs": [],
   "source": [
    "# save dataset\n",
    "train_pkl_ADC = open('train_multi_ADC.pkl','wb')\n",
    "pickle.dump(X_train_ADC, train_pkl_ADC, protocol=pickle.HIGHEST_PROTOCOL)\n",
    "train_pkl_ADC.close()\n",
    "train_pkl_T2 = open('train_multi_T2.pkl','wb')\n",
    "pickle.dump(X_train_T2, train_pkl_T2, protocol=pickle.HIGHEST_PROTOCOL)\n",
    "train_pkl_T2.close()"
   ]
  },
  {
   "cell_type": "code",
   "execution_count": null,
   "metadata": {},
   "outputs": [],
   "source": [
    "# example images\n",
    "img_filename_ADC, img_filename_T2 = csvFile_image.iloc[10] #change for different imgs\n",
    "\n",
    "img_complete_path_ADC = os.path.join(img_dir_ADC, img_filename_ADC) + '.nii.gz'\n",
    "img_ADC = nib.load(img_complete_path_ADC)\n",
    "imgdata_ADC = img_ADC.get_fdata() #(84, 128, 19)\n",
    "\n",
    "slice_ADC = imgdata_ADC[:,:,13:16] #(mask at 13~17) #(84,128)\n",
    "plt.imshow(slice_ADC[:,:,2].T, cmap='Greys_r'); plt.title(\"Example ADC Image\")\n",
    "\n",
    "img_complete_path_T2 = os.path.join(img_dir_T2, img_filename_T2) + '.nii.gz'\n",
    "img_T2 = nib.load(img_complete_path_T2)\n",
    "imgdata_T2 = img_T2.get_fdata() #(384, 384, 19)\n",
    "\n",
    "slice_T2 = imgdata_T2[:,:,13:16] #changed\n",
    "#plt.imshow(slice_T2[:,:,2].T, cmap='Greys_r'); plt.title(\"Example T2 Image\")\n",
    "print(slice_ADC.shape) "
   ]
  },
  {
   "cell_type": "code",
   "execution_count": null,
   "metadata": {},
   "outputs": [],
   "source": [
    "# save\n",
    "np.save('ex_multi_slice_ADC', slice_ADC)"
   ]
  },
  {
   "cell_type": "code",
   "execution_count": null,
   "metadata": {},
   "outputs": [],
   "source": [
    "csvFile_label['chID'] = csvFile_label['ID'].str[0:14]\n",
    "csvFile_image['chID'] = csvFile_image_ori['ADC'].str[0:14] #201\n",
    "\n",
    "print(csvFile_image)\n",
    "test = pd.merge(csvFile_image, csvFile_label, on='chID')\n",
    "output_file = 'lesions_total.csv'\n",
    "test.to_csv(output_file, index=False)"
   ]
  },
  {
   "cell_type": "code",
   "execution_count": null,
   "metadata": {},
   "outputs": [],
   "source": [
    "test = pd.merge(csvFile_image, csvFile_label, on='chID')\n",
    "output_file = 'lesions_total.csv'\n",
    "test.to_csv(output_file, index=False)"
   ]
  },
  {
   "cell_type": "code",
   "execution_count": null,
   "metadata": {},
   "outputs": [],
   "source": []
  },
  {
   "cell_type": "markdown",
   "metadata": {},
   "source": [
    "### Playground"
   ]
  },
  {
   "cell_type": "markdown",
   "metadata": {},
   "source": [
    "#### Use pkl"
   ]
  },
  {
   "cell_type": "code",
   "execution_count": null,
   "metadata": {},
   "outputs": [],
   "source": [
    "#load example image\n",
    "slice_ADC = np.load('ex_multi_slice_ADC.npy')[:,:,1]\n",
    "slice_T2 = np.load('ex_multi_slice_T2.npy')[:,:,1]\n",
    "\n",
    "\n",
    "fig = plt.figure()\n",
    "#fig.add_subplot(2, 2, 1); plt.imshow(slice_T2[:,:,1].T, cmap='Greys_r'); plt.title(\"Example T2 Image\")\n",
    "fig.add_subplot(2, 2, 1); plt.imshow(slice_T2.T, cmap='Greys_r'); plt.title(\"Example T2 Image\")\n",
    "print(slice_T2.shape) \n",
    "#fig.add_subplot(2, 2, 2); plt.imshow(slice_ADC[:,:,1].T, cmap='Greys_r'); plt.title(\"Example ADC Image\")\n",
    "fig.add_subplot(2, 2, 2); plt.imshow(slice_ADC.T, cmap='Greys_r'); plt.title(\"Example ADC Image\")\n"
   ]
  },
  {
   "cell_type": "code",
   "execution_count": 5,
   "metadata": {},
   "outputs": [
    {
     "name": "stdout",
     "output_type": "stream",
     "text": [
      "/Users/rita/Desktop/harini_lab\n"
     ]
    }
   ],
   "source": [
    "os.chdir(\"/Users/rita/Desktop/harini_lab/\")\n",
    "cwd = os.getcwd() #/Users/rita/Desktop/\n",
    "print(cwd)"
   ]
  },
  {
   "cell_type": "code",
   "execution_count": null,
   "metadata": {},
   "outputs": [],
   "source": [
    "# load data\n",
    "f = open('PROSTATEx/train_multi_ADC.pkl', 'rb')\n",
    "X_ADC = pickle.load(f)\n",
    "f.close()\n",
    "f = open('PROSTATEx/train_multi_T2.pkl', 'rb')\n",
    "X_T2 = pickle.load(f)\n",
    "f.close()"
   ]
  },
  {
   "cell_type": "code",
   "execution_count": null,
   "metadata": {},
   "outputs": [],
   "source": [
    "fig = plt.figure()\n",
    "fig.add_subplot(2, 2, 1); plt.imshow(X_ADC[7][:,:,1].T, cmap='Greys_r'); plt.title(\"Example ADC Image\")\n",
    "fig.add_subplot(2, 2, 2); plt.imshow(X_T2[7][:,:,1].T, cmap='Greys_r'); plt.title(\"Example T2 Image\")\n",
    "print(X_T2[7].shape) "
   ]
  },
  {
   "cell_type": "code",
   "execution_count": null,
   "metadata": {},
   "outputs": [],
   "source": [
    "slice_ADC = X_ADC[7]"
   ]
  },
  {
   "cell_type": "markdown",
   "metadata": {},
   "source": [
    "#### Use MONAI"
   ]
  },
  {
   "cell_type": "code",
   "execution_count": 5,
   "metadata": {},
   "outputs": [
    {
     "name": "stdout",
     "output_type": "stream",
     "text": [
      "/Users/rita/Desktop/harini_lab\n"
     ]
    }
   ],
   "source": [
    "#copy from above\n",
    "os.chdir(\"/Users/rita/Desktop/harini_lab/\")\n",
    "cwd = os.getcwd() #/Users/rita/Desktop/\n",
    "print(cwd)\n",
    "\n",
    "file_dir = 'PROSTATEx/Files/lesions/'\n",
    "#csvFilePath_image = os.path.join(file_dir,'image_list.csv')\n",
    "#csvFilePath_label = os.path.join(file_dir,'prostatex_classes.csv')\n",
    "csvFilePath_total = os.path.join(file_dir,'lesions_total.csv')\n",
    "\n",
    "#csvFile_image = pd.read_csv(csvFilePath_image)\n",
    "#csvFile_label = pd.read_csv(csvFilePath_label)\n",
    "csvFile_total = pd.read_csv(csvFilePath_total) #(299,8)\n",
    "\n",
    "img_dir_ADC = os.path.join(file_dir, 'Images/ADC') #lesions/Images/ADC/X.nii.gz\n",
    "img_dir_T2 = os.path.join(file_dir, 'Images/T2') #lesions/Images/T2/X.nii.gz\n",
    "label_dir_ADC = os.path.join(file_dir, 'Masks/ADC') #PROSTATEx/Files/lesions/Masks/ADC/X.nii.gz\n",
    "label_dir_T2 = os.path.join(file_dir, 'Masks/T2') #PROSTATEx/Files/lesions/Masks/T2/X.nii.gz\n",
    "\n"
   ]
  },
  {
   "cell_type": "code",
   "execution_count": 6,
   "metadata": {},
   "outputs": [],
   "source": [
    "# load by MONAI\n",
    "\n",
    "# create transform in MONAI format\n",
    "# can also use transform from timm???\n",
    "''' \n",
    "Compose(\n",
    "    Resize(size=288, interpolation=bicubic, max_size=None, antialias=True)\n",
    "    CenterCrop(size=(256, 256))\n",
    "    ToTensor()\n",
    "    Normalize(mean=tensor([0., 0., 0.]), std=tensor([1., 1., 1.]))\n",
    ")\n",
    "'''\n",
    "train_transforms = Compose(\n",
    "    [\n",
    "        LoadImaged(keys=[\"ADC_image\", \"ADC_mask\"],channel_dim=2), #default NibelReader #[84, 128, 19]\n",
    "        EnsureChannelFirstd(keys=[\"ADC_image\", \"ADC_mask\"]), #[19, 84, 128]\n",
    "        #SplitDimd(keys=[\"ADC_image\", \"ADC_mask\"], dim = 0), #leave out the splitting??\n",
    "        Resized(keys=[\"ADC_image\", \"ADC_mask\"], spatial_size=(288,288), anti_aliasing=True), #[1, 288, 288]\n",
    "        CenterSpatialCropd(keys=[\"ADC_image\", \"ADC_mask\"], roi_size=(256,256)), #[1, 256, 256]\n",
    "        #ScaleIntensityd(keys=\"image\"),\n",
    "        #EnsureTyped(keys=\"image\"),\n",
    "        ToTensord(keys=[\"ADC_image\", \"ADC_mask\"]),\n",
    "        NormalizeIntensityd(keys=[\"ADC_image\"]),\n",
    "        \n",
    "    ]\n",
    ")\n",
    "\n",
    "val_transforms = Compose(\n",
    "    [\n",
    "        LoadImaged(keys=[\"ADC_image\", \"ADC_mask\"],channel_dim=2), #default NibelReader #[84, 128, 19]\n",
    "        EnsureChannelFirstd(keys=[\"ADC_image\", \"ADC_mask\"]), #[1, 84, 128, 19]\n",
    "        Resized(keys=[\"ADC_image\", \"ADC_mask\"], spatial_size=(288,288), anti_aliasing=True), #mode='bicubic'??\n",
    "        CenterSpatialCropd(keys=[\"ADC_image\", \"ADC_mask\"], roi_size=(256,256)),\n",
    "        ToTensord(keys=[\"ADC_image\", \"ADC_mask\"]),\n",
    "        NormalizeIntensityd(keys=[\"ADC_image\"]),\n",
    "        \n",
    "    ]\n",
    ")"
   ]
  },
  {
   "cell_type": "code",
   "execution_count": 7,
   "metadata": {},
   "outputs": [
    {
     "name": "stdout",
     "output_type": "stream",
     "text": [
      "               chID                       ID  Clinically Significant  \\\n",
      "0    ProstateX-0000  ProstateX-0000-Finding1                    True   \n",
      "1    ProstateX-0001  ProstateX-0001-Finding1                   False   \n",
      "2    ProstateX-0002  ProstateX-0002-Finding1                    True   \n",
      "3    ProstateX-0002  ProstateX-0002-Finding2                   False   \n",
      "4    ProstateX-0003  ProstateX-0003-Finding1                   False   \n",
      "..              ...                      ...                     ...   \n",
      "294  ProstateX-0201  ProstateX-0201-Finding1                    True   \n",
      "295  ProstateX-0202  ProstateX-0202-Finding1                    True   \n",
      "296  ProstateX-0202  ProstateX-0202-Finding2                   False   \n",
      "297  ProstateX-0203  ProstateX-0203-Finding1                    True   \n",
      "298  ProstateX-0203  ProstateX-0203-Finding2                    True   \n",
      "\n",
      "       Gleason Grade Group                                          ADC_image  \\\n",
      "0                        3  PROSTATEx/Files/lesions/Images/ADC/ProstateX-0...   \n",
      "1                        1  PROSTATEx/Files/lesions/Images/ADC/ProstateX-0...   \n",
      "2                        2  PROSTATEx/Files/lesions/Images/ADC/ProstateX-0...   \n",
      "3                        1  PROSTATEx/Files/lesions/Images/ADC/ProstateX-0...   \n",
      "4    No biopsy information  PROSTATEx/Files/lesions/Images/ADC/ProstateX-0...   \n",
      "..                     ...                                                ...   \n",
      "294                      2  PROSTATEx/Files/lesions/Images/ADC/ProstateX-0...   \n",
      "295                      4  PROSTATEx/Files/lesions/Images/ADC/ProstateX-0...   \n",
      "296  No biopsy information  PROSTATEx/Files/lesions/Images/ADC/ProstateX-0...   \n",
      "297                      2  PROSTATEx/Files/lesions/Images/ADC/ProstateX-0...   \n",
      "298                      3  PROSTATEx/Files/lesions/Images/ADC/ProstateX-0...   \n",
      "\n",
      "                                              T2_image  \\\n",
      "0    PROSTATEx/Files/lesions/Images/T2/ProstateX-00...   \n",
      "1    PROSTATEx/Files/lesions/Images/T2/ProstateX-00...   \n",
      "2    PROSTATEx/Files/lesions/Images/T2/ProstateX-00...   \n",
      "3    PROSTATEx/Files/lesions/Images/T2/ProstateX-00...   \n",
      "4    PROSTATEx/Files/lesions/Images/T2/ProstateX-00...   \n",
      "..                                                 ...   \n",
      "294  PROSTATEx/Files/lesions/Images/T2/ProstateX-02...   \n",
      "295  PROSTATEx/Files/lesions/Images/T2/ProstateX-02...   \n",
      "296  PROSTATEx/Files/lesions/Images/T2/ProstateX-02...   \n",
      "297  PROSTATEx/Files/lesions/Images/T2/ProstateX-02...   \n",
      "298  PROSTATEx/Files/lesions/Images/T2/ProstateX-02...   \n",
      "\n",
      "                                              ADC_mask  \\\n",
      "0    PROSTATEx/Files/lesions/Masks/ADC/ProstateX-00...   \n",
      "1    PROSTATEx/Files/lesions/Masks/ADC/ProstateX-00...   \n",
      "2    PROSTATEx/Files/lesions/Masks/ADC/ProstateX-00...   \n",
      "3    PROSTATEx/Files/lesions/Masks/ADC/ProstateX-00...   \n",
      "4    PROSTATEx/Files/lesions/Masks/ADC/ProstateX-00...   \n",
      "..                                                 ...   \n",
      "294  PROSTATEx/Files/lesions/Masks/ADC/ProstateX-02...   \n",
      "295  PROSTATEx/Files/lesions/Masks/ADC/ProstateX-02...   \n",
      "296  PROSTATEx/Files/lesions/Masks/ADC/ProstateX-02...   \n",
      "297  PROSTATEx/Files/lesions/Masks/ADC/ProstateX-02...   \n",
      "298  PROSTATEx/Files/lesions/Masks/ADC/ProstateX-02...   \n",
      "\n",
      "                                               T2_mask  \n",
      "0    PROSTATEx/Files/lesions/Masks/T2/ProstateX-000...  \n",
      "1    PROSTATEx/Files/lesions/Masks/T2/ProstateX-000...  \n",
      "2    PROSTATEx/Files/lesions/Masks/T2/ProstateX-000...  \n",
      "3    PROSTATEx/Files/lesions/Masks/T2/ProstateX-000...  \n",
      "4    PROSTATEx/Files/lesions/Masks/T2/ProstateX-000...  \n",
      "..                                                 ...  \n",
      "294  PROSTATEx/Files/lesions/Masks/T2/ProstateX-020...  \n",
      "295  PROSTATEx/Files/lesions/Masks/T2/ProstateX-020...  \n",
      "296  PROSTATEx/Files/lesions/Masks/T2/ProstateX-020...  \n",
      "297  PROSTATEx/Files/lesions/Masks/T2/ProstateX-020...  \n",
      "298  PROSTATEx/Files/lesions/Masks/T2/ProstateX-020...  \n",
      "\n",
      "[299 rows x 8 columns]\n"
     ]
    }
   ],
   "source": [
    "total_dataset = CSVDataset(\n",
    "    src=csvFilePath_total,\n",
    "    transform=train_transforms,\n",
    ")\n",
    "print(pd.DataFrame(total_dataset.data))\n",
    "# ADC_image: ProstateX-0000_ep2d_diff_tra_7.nii.gz   ADC_mask: \n"
   ]
  },
  {
   "cell_type": "code",
   "execution_count": 8,
   "metadata": {},
   "outputs": [],
   "source": [
    "total_loader = DataLoader(total_dataset, batch_size=1, num_workers=4, pin_memory=True) #(299)\n",
    "train_loader = DataLoader(total_dataset, batch_size=1, num_workers=4, pin_memory=True) #(299)\n",
    "#shuffle=True??\n",
    "#val_ds = CacheDataset(data=val_files, transform=val_transforms, cache_num=6, cache_rate=1.0, num_workers=4)\n",
    "#val_loader = DataLoader(val_ds, batch_size=1, shuffle=False, num_workers=4, pin_memory=True)"
   ]
  },
  {
   "cell_type": "code",
   "execution_count": 27,
   "metadata": {},
   "outputs": [
    {
     "data": {
      "image/png": "[encoded data removed]",
      "text/plain": [
       "<Figure size 640x480 with 5 Axes>"
      ]
     },
     "metadata": {},
     "output_type": "display_data"
    }
   ],
   "source": [
    "# plot the transformed image array\n",
    "for i in range(5):\n",
    "    plt.subplot(3, 3, i + 1)\n",
    "    #plt.xlabel(dataset[i][\"subject_id\"]) #need this later?\n",
    "    plt.imshow(total_dataset[i][\"ADC_image\"][11,:,:].T, cmap=\"gray\")\n",
    "plt.show()"
   ]
  },
  {
   "cell_type": "code",
   "execution_count": null,
   "metadata": {},
   "outputs": [],
   "source": [
    "fig = monai.visualize.matshow3d(monai.transforms.Orientation(\"SPL\")(total_dataset[2][\"ADC_mask\"]), every_n=1, figsize=(3,3))"
   ]
  },
  {
   "cell_type": "code",
   "execution_count": 9,
   "metadata": {},
   "outputs": [],
   "source": [
    "# function to split image in training loop\n",
    "from monai.transforms.transform import Transform\n",
    "\n",
    "class SplitImageCustom(Transform):\n",
    "    def __init__(self, split_size: int = 3, dim: int = 1, keepdim: bool = True, update_meta=True) -> None:\n",
    "        self.dim = dim #assume ChannelFirst, and dim=0 is batchsize\n",
    "        self.keepdim = keepdim\n",
    "        self.update_meta = update_meta\n",
    "        self.split_size = split_size\n",
    "    def __call__(self, img: torch.Tensor) -> list[torch.Tensor]:\n",
    "        \"\"\"\n",
    "        Apply the transform to `img`.\n",
    "        \"\"\"\n",
    "        n_out = img.shape[self.dim] #img.shape[1]= 19 #[1, 19, 256, 256]\n",
    "        if isinstance(img, torch.Tensor):\n",
    "            outputs = list(torch.split(img, self.split_size, self.dim)) #6 * [1, 3, 256, 256]\n",
    "        else:\n",
    "            outputs = np.split(img, n_out//self.split_size, self.dim)\n",
    "        # check last item dimension (not checked for np.array yet)\n",
    "        if outputs[-1].shape[self.dim] != self.split_size:\n",
    "            outputs = outputs[:-1]\n",
    "        # put it back to a torch tensor of [batch_size, dim, h, w]: put it outside?\n",
    "        combined_tensor = torch.cat(outputs, dim=0)\n",
    "        return combined_tensor"
   ]
  },
  {
   "cell_type": "markdown",
   "metadata": {},
   "source": [
    "#### Define Model"
   ]
  },
  {
   "cell_type": "code",
   "execution_count": 15,
   "metadata": {},
   "outputs": [
    {
     "ename": "RuntimeError",
     "evalue": "Hugging Face hub model specified but package not installed. Run `pip install huggingface_hub`.",
     "output_type": "error",
     "traceback": [
      "\u001b[0;31m---------------------------------------------------------------------------\u001b[0m",
      "\u001b[0;31mRuntimeError\u001b[0m                              Traceback (most recent call last)",
      "Cell \u001b[0;32mIn[15], line 2\u001b[0m\n\u001b[1;32m      1\u001b[0m \u001b[38;5;66;03m# \"Image Embedding\"\u001b[39;00m\n\u001b[0;32m----> 2\u001b[0m model \u001b[38;5;241m=\u001b[39m \u001b[43mtimm\u001b[49m\u001b[38;5;241;43m.\u001b[39;49m\u001b[43mcreate_model\u001b[49m\u001b[43m(\u001b[49m\n\u001b[1;32m      3\u001b[0m \u001b[43m    \u001b[49m\u001b[38;5;124;43m'\u001b[39;49m\u001b[38;5;124;43mmobilevitv2_050.cvnets_in1k\u001b[39;49m\u001b[38;5;124;43m'\u001b[39;49m\u001b[43m,\u001b[49m\n\u001b[1;32m      4\u001b[0m \u001b[43m    \u001b[49m\u001b[43mpretrained\u001b[49m\u001b[38;5;241;43m=\u001b[39;49m\u001b[38;5;28;43;01mTrue\u001b[39;49;00m\u001b[43m,\u001b[49m\n\u001b[1;32m      5\u001b[0m \u001b[43m    \u001b[49m\u001b[43mfeatures_only\u001b[49m\u001b[38;5;241;43m=\u001b[39;49m\u001b[38;5;28;43;01mTrue\u001b[39;49;00m\u001b[43m,\u001b[49m\n\u001b[1;32m      6\u001b[0m \u001b[43m    \u001b[49m\u001b[43mnum_classes\u001b[49m\u001b[38;5;241;43m=\u001b[39;49m\u001b[38;5;241;43m0\u001b[39;49m\u001b[43m,\u001b[49m\u001b[43m \u001b[49m\u001b[38;5;66;43;03m#remove classifier\u001b[39;49;00m\n\u001b[1;32m      7\u001b[0m \u001b[43m    \u001b[49m\u001b[43min_chans\u001b[49m\u001b[43m \u001b[49m\u001b[38;5;241;43m=\u001b[39;49m\u001b[43m \u001b[49m\u001b[38;5;241;43m3\u001b[39;49m\u001b[43m \u001b[49m\u001b[38;5;66;43;03m#change number of input channels, cannot use pretrained weights?\u001b[39;49;00m\n\u001b[1;32m      8\u001b[0m \u001b[43m)\u001b[49m\u001b[38;5;66;03m#.to(device) \u001b[39;00m\n\u001b[1;32m     10\u001b[0m \u001b[38;5;124;03m'''\u001b[39;00m\n\u001b[1;32m     11\u001b[0m \u001b[38;5;124;03m# \"Feature Map Extraction\"\u001b[39;00m\n\u001b[1;32m     12\u001b[0m \u001b[38;5;124;03mmodel = timm.create_model(\u001b[39;00m\n\u001b[0;32m   (...)\u001b[0m\n\u001b[1;32m     22\u001b[0m \u001b[38;5;124;03m).to(device)\u001b[39;00m\n\u001b[1;32m     23\u001b[0m \u001b[38;5;124;03m'''\u001b[39;00m\n",
      "File \u001b[0;32m~/anaconda3/envs/hfenv/lib/python3.12/site-packages/timm/models/_factory.py:117\u001b[0m, in \u001b[0;36mcreate_model\u001b[0;34m(model_name, pretrained, pretrained_cfg, pretrained_cfg_overlay, checkpoint_path, scriptable, exportable, no_jit, **kwargs)\u001b[0m\n\u001b[1;32m    115\u001b[0m create_fn \u001b[38;5;241m=\u001b[39m model_entrypoint(model_name)\n\u001b[1;32m    116\u001b[0m \u001b[38;5;28;01mwith\u001b[39;00m set_layer_config(scriptable\u001b[38;5;241m=\u001b[39mscriptable, exportable\u001b[38;5;241m=\u001b[39mexportable, no_jit\u001b[38;5;241m=\u001b[39mno_jit):\n\u001b[0;32m--> 117\u001b[0m     model \u001b[38;5;241m=\u001b[39m \u001b[43mcreate_fn\u001b[49m\u001b[43m(\u001b[49m\n\u001b[1;32m    118\u001b[0m \u001b[43m        \u001b[49m\u001b[43mpretrained\u001b[49m\u001b[38;5;241;43m=\u001b[39;49m\u001b[43mpretrained\u001b[49m\u001b[43m,\u001b[49m\n\u001b[1;32m    119\u001b[0m \u001b[43m        \u001b[49m\u001b[43mpretrained_cfg\u001b[49m\u001b[38;5;241;43m=\u001b[39;49m\u001b[43mpretrained_cfg\u001b[49m\u001b[43m,\u001b[49m\n\u001b[1;32m    120\u001b[0m \u001b[43m        \u001b[49m\u001b[43mpretrained_cfg_overlay\u001b[49m\u001b[38;5;241;43m=\u001b[39;49m\u001b[43mpretrained_cfg_overlay\u001b[49m\u001b[43m,\u001b[49m\n\u001b[1;32m    121\u001b[0m \u001b[43m        \u001b[49m\u001b[38;5;241;43m*\u001b[39;49m\u001b[38;5;241;43m*\u001b[39;49m\u001b[43mkwargs\u001b[49m\u001b[43m,\u001b[49m\n\u001b[1;32m    122\u001b[0m \u001b[43m    \u001b[49m\u001b[43m)\u001b[49m\n\u001b[1;32m    124\u001b[0m \u001b[38;5;28;01mif\u001b[39;00m checkpoint_path:\n\u001b[1;32m    125\u001b[0m     load_checkpoint(model, checkpoint_path)\n",
      "File \u001b[0;32m~/anaconda3/envs/hfenv/lib/python3.12/site-packages/timm/models/mobilevit.py:640\u001b[0m, in \u001b[0;36mmobilevitv2_050\u001b[0;34m(pretrained, **kwargs)\u001b[0m\n\u001b[1;32m    638\u001b[0m \u001b[38;5;129m@register_model\u001b[39m\n\u001b[1;32m    639\u001b[0m \u001b[38;5;28;01mdef\u001b[39;00m \u001b[38;5;21mmobilevitv2_050\u001b[39m(pretrained\u001b[38;5;241m=\u001b[39m\u001b[38;5;28;01mFalse\u001b[39;00m, \u001b[38;5;241m*\u001b[39m\u001b[38;5;241m*\u001b[39mkwargs) \u001b[38;5;241m-\u001b[39m\u001b[38;5;241m>\u001b[39m ByobNet:\n\u001b[0;32m--> 640\u001b[0m     \u001b[38;5;28;01mreturn\u001b[39;00m \u001b[43m_create_mobilevit\u001b[49m\u001b[43m(\u001b[49m\u001b[38;5;124;43m'\u001b[39;49m\u001b[38;5;124;43mmobilevitv2_050\u001b[39;49m\u001b[38;5;124;43m'\u001b[39;49m\u001b[43m,\u001b[49m\u001b[43m \u001b[49m\u001b[43mpretrained\u001b[49m\u001b[38;5;241;43m=\u001b[39;49m\u001b[43mpretrained\u001b[49m\u001b[43m,\u001b[49m\u001b[43m \u001b[49m\u001b[38;5;241;43m*\u001b[39;49m\u001b[38;5;241;43m*\u001b[39;49m\u001b[43mkwargs\u001b[49m\u001b[43m)\u001b[49m\n",
      "File \u001b[0;32m~/anaconda3/envs/hfenv/lib/python3.12/site-packages/timm/models/mobilevit.py:548\u001b[0m, in \u001b[0;36m_create_mobilevit\u001b[0;34m(variant, cfg_variant, pretrained, **kwargs)\u001b[0m\n\u001b[1;32m    547\u001b[0m \u001b[38;5;28;01mdef\u001b[39;00m \u001b[38;5;21m_create_mobilevit\u001b[39m(variant, cfg_variant\u001b[38;5;241m=\u001b[39m\u001b[38;5;28;01mNone\u001b[39;00m, pretrained\u001b[38;5;241m=\u001b[39m\u001b[38;5;28;01mFalse\u001b[39;00m, \u001b[38;5;241m*\u001b[39m\u001b[38;5;241m*\u001b[39mkwargs):\n\u001b[0;32m--> 548\u001b[0m     \u001b[38;5;28;01mreturn\u001b[39;00m \u001b[43mbuild_model_with_cfg\u001b[49m\u001b[43m(\u001b[49m\n\u001b[1;32m    549\u001b[0m \u001b[43m        \u001b[49m\u001b[43mByobNet\u001b[49m\u001b[43m,\u001b[49m\u001b[43m \u001b[49m\u001b[43mvariant\u001b[49m\u001b[43m,\u001b[49m\u001b[43m \u001b[49m\u001b[43mpretrained\u001b[49m\u001b[43m,\u001b[49m\n\u001b[1;32m    550\u001b[0m \u001b[43m        \u001b[49m\u001b[43mmodel_cfg\u001b[49m\u001b[38;5;241;43m=\u001b[39;49m\u001b[43mmodel_cfgs\u001b[49m\u001b[43m[\u001b[49m\u001b[43mvariant\u001b[49m\u001b[43m]\u001b[49m\u001b[43m \u001b[49m\u001b[38;5;28;43;01mif\u001b[39;49;00m\u001b[43m \u001b[49m\u001b[38;5;129;43;01mnot\u001b[39;49;00m\u001b[43m \u001b[49m\u001b[43mcfg_variant\u001b[49m\u001b[43m \u001b[49m\u001b[38;5;28;43;01melse\u001b[39;49;00m\u001b[43m \u001b[49m\u001b[43mmodel_cfgs\u001b[49m\u001b[43m[\u001b[49m\u001b[43mcfg_variant\u001b[49m\u001b[43m]\u001b[49m\u001b[43m,\u001b[49m\n\u001b[1;32m    551\u001b[0m \u001b[43m        \u001b[49m\u001b[43mfeature_cfg\u001b[49m\u001b[38;5;241;43m=\u001b[39;49m\u001b[38;5;28;43mdict\u001b[39;49m\u001b[43m(\u001b[49m\u001b[43mflatten_sequential\u001b[49m\u001b[38;5;241;43m=\u001b[39;49m\u001b[38;5;28;43;01mTrue\u001b[39;49;00m\u001b[43m)\u001b[49m\u001b[43m,\u001b[49m\n\u001b[1;32m    552\u001b[0m \u001b[43m        \u001b[49m\u001b[38;5;241;43m*\u001b[39;49m\u001b[38;5;241;43m*\u001b[39;49m\u001b[43mkwargs\u001b[49m\u001b[43m)\u001b[49m\n",
      "File \u001b[0;32m~/anaconda3/envs/hfenv/lib/python3.12/site-packages/timm/models/_builder.py:418\u001b[0m, in \u001b[0;36mbuild_model_with_cfg\u001b[0;34m(model_cls, variant, pretrained, pretrained_cfg, pretrained_cfg_overlay, model_cfg, feature_cfg, pretrained_strict, pretrained_filter_fn, kwargs_filter, **kwargs)\u001b[0m\n\u001b[1;32m    416\u001b[0m num_classes_pretrained \u001b[38;5;241m=\u001b[39m \u001b[38;5;241m0\u001b[39m \u001b[38;5;28;01mif\u001b[39;00m features \u001b[38;5;28;01melse\u001b[39;00m \u001b[38;5;28mgetattr\u001b[39m(model, \u001b[38;5;124m'\u001b[39m\u001b[38;5;124mnum_classes\u001b[39m\u001b[38;5;124m'\u001b[39m, kwargs\u001b[38;5;241m.\u001b[39mget(\u001b[38;5;124m'\u001b[39m\u001b[38;5;124mnum_classes\u001b[39m\u001b[38;5;124m'\u001b[39m, \u001b[38;5;241m1000\u001b[39m))\n\u001b[1;32m    417\u001b[0m \u001b[38;5;28;01mif\u001b[39;00m pretrained:\n\u001b[0;32m--> 418\u001b[0m     \u001b[43mload_pretrained\u001b[49m\u001b[43m(\u001b[49m\n\u001b[1;32m    419\u001b[0m \u001b[43m        \u001b[49m\u001b[43mmodel\u001b[49m\u001b[43m,\u001b[49m\n\u001b[1;32m    420\u001b[0m \u001b[43m        \u001b[49m\u001b[43mpretrained_cfg\u001b[49m\u001b[38;5;241;43m=\u001b[39;49m\u001b[43mpretrained_cfg\u001b[49m\u001b[43m,\u001b[49m\n\u001b[1;32m    421\u001b[0m \u001b[43m        \u001b[49m\u001b[43mnum_classes\u001b[49m\u001b[38;5;241;43m=\u001b[39;49m\u001b[43mnum_classes_pretrained\u001b[49m\u001b[43m,\u001b[49m\n\u001b[1;32m    422\u001b[0m \u001b[43m        \u001b[49m\u001b[43min_chans\u001b[49m\u001b[38;5;241;43m=\u001b[39;49m\u001b[43mkwargs\u001b[49m\u001b[38;5;241;43m.\u001b[39;49m\u001b[43mget\u001b[49m\u001b[43m(\u001b[49m\u001b[38;5;124;43m'\u001b[39;49m\u001b[38;5;124;43min_chans\u001b[39;49m\u001b[38;5;124;43m'\u001b[39;49m\u001b[43m,\u001b[49m\u001b[43m \u001b[49m\u001b[38;5;241;43m3\u001b[39;49m\u001b[43m)\u001b[49m\u001b[43m,\u001b[49m\n\u001b[1;32m    423\u001b[0m \u001b[43m        \u001b[49m\u001b[43mfilter_fn\u001b[49m\u001b[38;5;241;43m=\u001b[39;49m\u001b[43mpretrained_filter_fn\u001b[49m\u001b[43m,\u001b[49m\n\u001b[1;32m    424\u001b[0m \u001b[43m        \u001b[49m\u001b[43mstrict\u001b[49m\u001b[38;5;241;43m=\u001b[39;49m\u001b[43mpretrained_strict\u001b[49m\u001b[43m,\u001b[49m\n\u001b[1;32m    425\u001b[0m \u001b[43m    \u001b[49m\u001b[43m)\u001b[49m\n\u001b[1;32m    427\u001b[0m \u001b[38;5;66;03m# Wrap the model in a feature extraction module if enabled\u001b[39;00m\n\u001b[1;32m    428\u001b[0m \u001b[38;5;28;01mif\u001b[39;00m features:\n",
      "File \u001b[0;32m~/anaconda3/envs/hfenv/lib/python3.12/site-packages/timm/models/_builder.py:158\u001b[0m, in \u001b[0;36mload_pretrained\u001b[0;34m(model, pretrained_cfg, num_classes, in_chans, filter_fn, strict)\u001b[0m\n\u001b[1;32m    155\u001b[0m \u001b[38;5;28;01mif\u001b[39;00m \u001b[38;5;129;01mnot\u001b[39;00m pretrained_cfg:\n\u001b[1;32m    156\u001b[0m     \u001b[38;5;28;01mraise\u001b[39;00m \u001b[38;5;167;01mRuntimeError\u001b[39;00m(\u001b[38;5;124m\"\u001b[39m\u001b[38;5;124mInvalid pretrained config, cannot load weights. Use `pretrained=False` for random init.\u001b[39m\u001b[38;5;124m\"\u001b[39m)\n\u001b[0;32m--> 158\u001b[0m load_from, pretrained_loc \u001b[38;5;241m=\u001b[39m \u001b[43m_resolve_pretrained_source\u001b[49m\u001b[43m(\u001b[49m\u001b[43mpretrained_cfg\u001b[49m\u001b[43m)\u001b[49m\n\u001b[1;32m    159\u001b[0m \u001b[38;5;28;01mif\u001b[39;00m load_from \u001b[38;5;241m==\u001b[39m \u001b[38;5;124m'\u001b[39m\u001b[38;5;124mstate_dict\u001b[39m\u001b[38;5;124m'\u001b[39m:\n\u001b[1;32m    160\u001b[0m     _logger\u001b[38;5;241m.\u001b[39minfo(\u001b[38;5;124mf\u001b[39m\u001b[38;5;124m'\u001b[39m\u001b[38;5;124mLoading pretrained weights from state dict\u001b[39m\u001b[38;5;124m'\u001b[39m)\n",
      "File \u001b[0;32m~/anaconda3/envs/hfenv/lib/python3.12/site-packages/timm/models/_builder.py:63\u001b[0m, in \u001b[0;36m_resolve_pretrained_source\u001b[0;34m(pretrained_cfg)\u001b[0m\n\u001b[1;32m     60\u001b[0m \u001b[38;5;28;01mif\u001b[39;00m _USE_OLD_CACHE:\n\u001b[1;32m     61\u001b[0m     \u001b[38;5;66;03m# prioritized old cached weights if exists and env var enabled\u001b[39;00m\n\u001b[1;32m     62\u001b[0m     old_cache_valid \u001b[38;5;241m=\u001b[39m check_cached_file(pretrained_url) \u001b[38;5;28;01mif\u001b[39;00m pretrained_url \u001b[38;5;28;01melse\u001b[39;00m \u001b[38;5;28;01mFalse\u001b[39;00m\n\u001b[0;32m---> 63\u001b[0m \u001b[38;5;28;01mif\u001b[39;00m \u001b[38;5;129;01mnot\u001b[39;00m old_cache_valid \u001b[38;5;129;01mand\u001b[39;00m hf_hub_id \u001b[38;5;129;01mand\u001b[39;00m \u001b[43mhas_hf_hub\u001b[49m\u001b[43m(\u001b[49m\u001b[43mnecessary\u001b[49m\u001b[38;5;241;43m=\u001b[39;49m\u001b[38;5;28;43;01mTrue\u001b[39;49;00m\u001b[43m)\u001b[49m:\n\u001b[1;32m     64\u001b[0m     \u001b[38;5;66;03m# hf-hub available as alternate weight source in default_cfg\u001b[39;00m\n\u001b[1;32m     65\u001b[0m     load_from \u001b[38;5;241m=\u001b[39m \u001b[38;5;124m'\u001b[39m\u001b[38;5;124mhf-hub\u001b[39m\u001b[38;5;124m'\u001b[39m\n\u001b[1;32m     66\u001b[0m     pretrained_loc \u001b[38;5;241m=\u001b[39m hf_hub_id\n",
      "File \u001b[0;32m~/anaconda3/envs/hfenv/lib/python3.12/site-packages/timm/models/_hub.py:111\u001b[0m, in \u001b[0;36mhas_hf_hub\u001b[0;34m(necessary)\u001b[0m\n\u001b[1;32m    108\u001b[0m \u001b[38;5;28;01mdef\u001b[39;00m \u001b[38;5;21mhas_hf_hub\u001b[39m(necessary\u001b[38;5;241m=\u001b[39m\u001b[38;5;28;01mFalse\u001b[39;00m):\n\u001b[1;32m    109\u001b[0m     \u001b[38;5;28;01mif\u001b[39;00m \u001b[38;5;129;01mnot\u001b[39;00m _has_hf_hub \u001b[38;5;129;01mand\u001b[39;00m necessary:\n\u001b[1;32m    110\u001b[0m         \u001b[38;5;66;03m# if no HF Hub module installed, and it is necessary to continue, raise error\u001b[39;00m\n\u001b[0;32m--> 111\u001b[0m         \u001b[38;5;28;01mraise\u001b[39;00m \u001b[38;5;167;01mRuntimeError\u001b[39;00m(\n\u001b[1;32m    112\u001b[0m             \u001b[38;5;124m'\u001b[39m\u001b[38;5;124mHugging Face hub model specified but package not installed. Run `pip install huggingface_hub`.\u001b[39m\u001b[38;5;124m'\u001b[39m)\n\u001b[1;32m    113\u001b[0m     \u001b[38;5;28;01mreturn\u001b[39;00m _has_hf_hub\n",
      "\u001b[0;31mRuntimeError\u001b[0m: Hugging Face hub model specified but package not installed. Run `pip install huggingface_hub`."
     ]
    }
   ],
   "source": [
    "# \"Image Embedding\"\n",
    "model = timm.create_model(\n",
    "    'mobilevitv2_050.cvnets_in1k',\n",
    "    pretrained=True,\n",
    "    features_only=True,\n",
    "    num_classes=0, #remove classifier\n",
    "    in_chans = 3 #change number of input channels, cannot use pretrained weights?\n",
    ")#.to(device) \n",
    "\n",
    "'''\n",
    "# \"Feature Map Extraction\"\n",
    "model = timm.create_model(\n",
    "    'mobilevitv2_050.cvnets_in1k',\n",
    "    pretrained=True,\n",
    "    features_only=True,\n",
    ").to(device)\n",
    "\n",
    "# \"Image Classification\"\n",
    "model = timm.create_model(\n",
    "    'mobilevitv2_050.cvnets_in1k', \n",
    "    pretrained=True\n",
    ").to(device)\n",
    "'''"
   ]
  },
  {
   "cell_type": "code",
   "execution_count": null,
   "metadata": {},
   "outputs": [],
   "source": [
    "# get model specific transforms (normalization, resize)\n",
    "#data_config = timm.data.resolve_model_data_config(m2)\n",
    "#transforms = timm.data.create_transform(**data_config, is_training=False)\n",
    "\n",
    "\n",
    "# torchvision transforms module takes PIL image with 3 channels, need to add lines\n",
    "pil_image = trans.ToPILImage()(slice_ADC) #(384, 384)\n",
    "x = transforms(pil_image).unsqueeze(0) #torch.Size([1, 3, 256, 256])\n",
    "print(\"x.shape = {}\".format(x.shape))\n",
    "output = m2(x) #list with len=5 tensors"
   ]
  },
  {
   "cell_type": "markdown",
   "metadata": {},
   "source": [
    "##### Try use wandb?"
   ]
  },
  {
   "cell_type": "code",
   "execution_count": null,
   "metadata": {},
   "outputs": [],
   "source": [
    "import wandb\n",
    "\n",
    "wandb.login()\n",
    "wandb.init(project=\"monai-brain-tumor-segmentation\")\n",
    "\n",
    "config = wandb.config\n",
    "config.seed = 0\n",
    "config.roi_size = [224, 224, 144]\n",
    "config.batch_size = 1\n",
    "config.num_workers = 4\n",
    "config.max_train_images_visualized = 20\n",
    "config.max_val_images_visualized = 20\n",
    "config.dice_loss_smoothen_numerator = 0\n",
    "config.dice_loss_smoothen_denominator = 1e-5\n",
    "config.dice_loss_squared_prediction = True\n",
    "config.dice_loss_target_onehot = False\n",
    "config.dice_loss_apply_sigmoid = True\n",
    "config.initial_learning_rate = 1e-4\n",
    "config.weight_decay = 1e-5\n",
    "config.max_train_epochs = 50\n",
    "config.validation_intervals = 1\n",
    "config.dataset_dir = \"./dataset/\"\n",
    "config.checkpoint_dir = \"./checkpoints\"\n",
    "config.inference_roi_size = (128, 128, 64)\n",
    "config.max_prediction_images_visualized = 20"
   ]
  },
  {
   "cell_type": "markdown",
   "metadata": {},
   "source": [
    "##### Define loss, optimizer\n",
    "https://colab.research.google.com/drive/1KD7Kvv2-sNCKvhygcWqJc4Lv1F73sbzQ#scrollTo=hu4Qj5P92ifH "
   ]
  },
  {
   "cell_type": "code",
   "execution_count": null,
   "metadata": {},
   "outputs": [],
   "source": [
    "# create optimizer\n",
    "optimizer = torch.optim.Adam(\n",
    "    model.parameters(),\n",
    "    config.initial_learning_rate,\n",
    "    weight_decay=config.weight_decay,\n",
    ")\n",
    "\n",
    "# create learning rate scheduler\n",
    "lr_scheduler = torch.optim.lr_scheduler.CosineAnnealingLR(\n",
    "    optimizer, T_max=config.max_train_epochs\n",
    ")\n"
   ]
  },
  {
   "cell_type": "code",
   "execution_count": null,
   "metadata": {},
   "outputs": [],
   "source": [
    "# define loss\n",
    "#   as multi-label `DiceLoss` using the `monai.losses` API \n",
    "#   and the corresponding dice metrics using the `monai.metrics` API.\n",
    "from monai.losses import DiceLoss\n",
    "from monai.metrics import DiceMetric\n",
    "\n",
    "loss_function = DiceLoss(\n",
    "    smooth_nr=config.dice_loss_smoothen_numerator,\n",
    "    smooth_dr=config.dice_loss_smoothen_denominator,\n",
    "    squared_pred=config.dice_loss_squared_prediction,\n",
    "    to_onehot_y=config.dice_loss_target_onehot,\n",
    "    sigmoid=config.dice_loss_apply_sigmoid,\n",
    ")\n",
    "\n",
    "dice_metric = DiceMetric(include_background=True, reduction=\"mean\")\n",
    "dice_metric_batch = DiceMetric(include_background=True, reduction=\"mean_batch\")\n",
    "post_trans = Compose([Activations(sigmoid=True), AsDiscrete(threshold=0.5)])\n",
    "\n",
    "# use automatic mixed-precision to accelerate training\n",
    "#scaler = torch.cuda.amp.GradScaler()\n",
    "#torch.backends.cudnn.benchmark = True"
   ]
  },
  {
   "cell_type": "markdown",
   "metadata": {},
   "source": [
    "##### Train"
   ]
  },
  {
   "cell_type": "code",
   "execution_count": 31,
   "metadata": {},
   "outputs": [],
   "source": [
    "#device = torch.device(\"cuda:0\")\n",
    "\n",
    "model.train()\n",
    "epoch_loss = 0\n",
    "\n",
    "batch_data = next(iter(train_loader)) #dictionary object, len=8\n",
    "inputs, labels = (\n",
    "    SplitImageCustom(dim = 1)(batch_data[\"ADC_image\"]),#.to(device), #[2, 19, 256, 256] -> [12, 3, 256, 256]\n",
    "    SplitImageCustom(dim = 1)(batch_data[\"ADC_mask\"]),#.to(device),\n",
    ")"
   ]
  },
  {
   "cell_type": "code",
   "execution_count": 32,
   "metadata": {},
   "outputs": [],
   "source": [
    "#with torch.cuda.amp.autocast():\n",
    "outputs = model(inputs)\n",
    "    #loss = loss_function(outputs, labels)"
   ]
  },
  {
   "cell_type": "code",
   "execution_count": 34,
   "metadata": {},
   "outputs": [
    {
     "name": "stdout",
     "output_type": "stream",
     "text": [
      "torch.Size([6, 32, 128, 128])\n",
      "torch.Size([6, 64, 64, 64])\n",
      "torch.Size([6, 128, 32, 32])\n",
      "torch.Size([6, 192, 16, 16])\n",
      "torch.Size([6, 256, 8, 8])\n"
     ]
    }
   ],
   "source": [
    "for item in outputs:\n",
    "    print(item.shape)"
   ]
  },
  {
   "cell_type": "markdown",
   "metadata": {},
   "source": [
    "##### Train (references)"
   ]
  },
  {
   "cell_type": "code",
   "execution_count": null,
   "metadata": {},
   "outputs": [],
   "source": [
    "# official command: \n",
    "# check train.py\n",
    "./distributed_train.sh 4 /data/imagenet \n",
    "--model seresnet34 \n",
    "--sched cosine \n",
    "--epochs 150 \n",
    "--warmup-epochs 5 \n",
    "--lr 0.4 \n",
    "--reprob 0.5 \n",
    "--remode pixel \n",
    "--batch-size 256 \n",
    "--amp -j 4  "
   ]
  },
  {
   "cell_type": "code",
   "execution_count": null,
   "metadata": {},
   "outputs": [],
   "source": [
    "# /timm/ has finetuning tutorial with its own Trainer object\n",
    "# https://huggingface.co/docs/transformers/main/en/training#finetune-with-trainer \n",
    "trainer = Trainer(\n",
    "    model=model,\n",
    "    args=training_args,\n",
    "    train_dataset=small_train_dataset,\n",
    "    eval_dataset=small_eval_dataset,\n",
    "    compute_metrics=compute_metrics,\n",
    ")\n",
    "trainer.train()\n"
   ]
  },
  {
   "cell_type": "code",
   "execution_count": null,
   "metadata": {},
   "outputs": [],
   "source": [
    "# https://huggingface.co/docs/transformers/main/en/training#finetune-with-trainer \n",
    "\n",
    "from torch.optim import AdamW\n",
    "from transformers import get_scheduler\n",
    "from tqdm.auto import tqdm\n",
    "\n",
    "optimizer = AdamW(model.parameters(), lr=5e-5)\n",
    "\n",
    "num_epochs = 3\n",
    "num_training_steps = num_epochs * len(train_dataloader)\n",
    "lr_scheduler = get_scheduler(\n",
    "    name=\"linear\", optimizer=optimizer, num_warmup_steps=0, num_training_steps=num_training_steps\n",
    ")\n",
    "\n",
    "progress_bar = tqdm(range(num_training_steps))\n",
    "\n",
    "for epoch in range(num_epochs):\n",
    "    for batch in train_dataloader:\n",
    "        batch = {k: v.to(device) for k, v in batch.items()}\n",
    "        outputs = model(**batch)\n",
    "        loss = outputs.loss\n",
    "        loss.backward()\n",
    "\n",
    "        optimizer.step()\n",
    "        lr_scheduler.step()\n",
    "        optimizer.zero_grad()\n",
    "        progress_bar.update(1)"
   ]
  },
  {
   "cell_type": "code",
   "execution_count": null,
   "metadata": {},
   "outputs": [],
   "source": [
    "# ref training loop w/ wandb:\n",
    "#https://colab.research.google.com/drive/1KD7Kvv2-sNCKvhygcWqJc4Lv1F73sbzQ#scrollTo=hu4Qj5P92ifH\n",
    "# check paper for their training process"
   ]
  },
  {
   "cell_type": "code",
   "execution_count": null,
   "metadata": {},
   "outputs": [],
   "source": []
  },
  {
   "cell_type": "code",
   "execution_count": 63,
   "metadata": {},
   "outputs": [
    {
     "name": "stderr",
     "output_type": "stream",
     "text": [
      "/Users/rita/anaconda3/envs/hfenv/lib/python3.12/site-packages/transformers/models/mobilevit/feature_extraction_mobilevit.py:28: FutureWarning: The class MobileViTFeatureExtractor is deprecated and will be removed in version 5 of Transformers. Please use MobileViTImageProcessor instead.\n",
      "  warnings.warn(\n"
     ]
    }
   ],
   "source": [
    "# from huggingface transformer git repo:\n",
    "# https://huggingface.co/docs/transformers/main/en/model_doc/mobilevitv2#transformers.MobileViTV2ForSemanticSegmentation \n",
    "import requests\n",
    "import torch\n",
    "from PIL import Image\n",
    "from transformers import AutoImageProcessor, MobileViTV2ForSemanticSegmentation, MobileViTForSemanticSegmentation, MobileViTFeatureExtractor\n",
    "\n",
    "url = \"http://images.cocodataset.org/val2017/000000039769.jpg\"\n",
    "image = Image.open(requests.get(url, stream=True).raw)\n",
    "\n",
    "feature_extractor = MobileViTFeatureExtractor.from_pretrained(\"apple/deeplabv3-mobilevit-xx-small\")\n",
    "model = MobileViTForSemanticSegmentation.from_pretrained(\"apple/deeplabv3-mobilevit-xx-small\")\n",
    "\n",
    "inputs = feature_extractor(images=image, return_tensors=\"pt\")\n",
    "\n",
    "outputs = model(**inputs) #SemanticSegmenterOutput(loss, logits, grad_fn, hidden_states, attentions)\n",
    "logits = outputs.logits #[1, 21, 32, 32]\n",
    "predicted_mask = logits.argmax(1).squeeze(0) #[32, 32]"
   ]
  },
  {
   "cell_type": "code",
   "execution_count": 51,
   "metadata": {},
   "outputs": [],
   "source": [
    "model.train()\n",
    "\n",
    "batch_data = next(iter(train_loader)) #dictionary object, len=8\n",
    "inputs, labels = (\n",
    "    SplitImageCustom(dim = 1)(batch_data[\"ADC_image\"]),#.to(device), #[2, 19, 256, 256] -> [12, 3, 256, 256]\n",
    "    SplitImageCustom(dim = 1)(batch_data[\"ADC_mask\"]),#.to(device),\n",
    ")\n",
    "outputs = model(inputs)\n",
    "loss = outputs.loss #23.6 until here\n",
    "#loss.backward()"
   ]
  },
  {
   "cell_type": "code",
   "execution_count": 56,
   "metadata": {},
   "outputs": [
    {
     "name": "stdout",
     "output_type": "stream",
     "text": [
      "torch.Size([6, 21, 16, 16])\n"
     ]
    }
   ],
   "source": [
    "logits = outputs.logits #[6,21,16,16]\n",
    "predicted_mask = logits.argmax(1).squeeze(0) # [6,16,16]\n",
    "print(logits.shape)\n",
    "#plt.imshow(predicted_mask)"
   ]
  },
  {
   "cell_type": "code",
   "execution_count": null,
   "metadata": {},
   "outputs": [],
   "source": [
    "plt.imshow()"
   ]
  },
  {
   "cell_type": "code",
   "execution_count": 47,
   "metadata": {},
   "outputs": [
    {
     "data": {
      "text/plain": [
       "<matplotlib.image.AxesImage at 0x162a21220>"
      ]
     },
     "execution_count": 47,
     "metadata": {},
     "output_type": "execute_result"
    },
    {
     "data": {
      "image/png": "[encoded data removed]",
      "text/plain": [
       "<Figure size 640x480 with 1 Axes>"
      ]
     },
     "metadata": {},
     "output_type": "display_data"
    }
   ],
   "source": [
    "plt.imshow(predicted_mask)"
   ]
  },
  {
   "cell_type": "code",
   "execution_count": 12,
   "metadata": {},
   "outputs": [
    {
     "ename": "RuntimeError",
     "evalue": "Hugging Face hub model specified but package not installed. Run `pip install huggingface_hub`.",
     "output_type": "error",
     "traceback": [
      "\u001b[0;31m---------------------------------------------------------------------------\u001b[0m",
      "\u001b[0;31mRuntimeError\u001b[0m                              Traceback (most recent call last)",
      "Cell \u001b[0;32mIn[12], line 2\u001b[0m\n\u001b[1;32m      1\u001b[0m \u001b[38;5;66;03m#checking\u001b[39;00m\n\u001b[0;32m----> 2\u001b[0m mobilevitv2_model \u001b[38;5;241m=\u001b[39m \u001b[43mtimm\u001b[49m\u001b[38;5;241;43m.\u001b[39;49m\u001b[43mcreate_model\u001b[49m\u001b[43m(\u001b[49m\n\u001b[1;32m      3\u001b[0m \u001b[43m    \u001b[49m\u001b[38;5;124;43m'\u001b[39;49m\u001b[38;5;124;43mmobilevitv2_050.cvnets_in1k\u001b[39;49m\u001b[38;5;124;43m'\u001b[39;49m\u001b[43m,\u001b[49m\u001b[43m \u001b[49m\n\u001b[1;32m      4\u001b[0m \u001b[43m    \u001b[49m\u001b[43mpretrained\u001b[49m\u001b[38;5;241;43m=\u001b[39;49m\u001b[38;5;28;43;01mTrue\u001b[39;49;00m\u001b[43m,\u001b[49m\u001b[43m \u001b[49m\n\u001b[1;32m      5\u001b[0m \u001b[43m    \u001b[49m\u001b[43mfeatures_only\u001b[49m\u001b[38;5;241;43m=\u001b[39;49m\u001b[38;5;28;43;01mTrue\u001b[39;49;00m\u001b[43m,\u001b[49m\n\u001b[1;32m      6\u001b[0m \u001b[43m    \u001b[49m\u001b[43moutput_stride\u001b[49m\u001b[38;5;241;43m=\u001b[39;49m\u001b[38;5;241;43m8\u001b[39;49m\n\u001b[1;32m      7\u001b[0m \u001b[43m)\u001b[49m\n\u001b[1;32m      8\u001b[0m input_tensor \u001b[38;5;241m=\u001b[39m torch\u001b[38;5;241m.\u001b[39mrandn(\u001b[38;5;241m1\u001b[39m, \u001b[38;5;241m3\u001b[39m, \u001b[38;5;241m256\u001b[39m, \u001b[38;5;241m256\u001b[39m)\n\u001b[1;32m     10\u001b[0m \u001b[38;5;66;03m# Forward pass\u001b[39;00m\n",
      "File \u001b[0;32m~/anaconda3/envs/hfenv/lib/python3.12/site-packages/timm/models/_factory.py:117\u001b[0m, in \u001b[0;36mcreate_model\u001b[0;34m(model_name, pretrained, pretrained_cfg, pretrained_cfg_overlay, checkpoint_path, scriptable, exportable, no_jit, **kwargs)\u001b[0m\n\u001b[1;32m    115\u001b[0m create_fn \u001b[38;5;241m=\u001b[39m model_entrypoint(model_name)\n\u001b[1;32m    116\u001b[0m \u001b[38;5;28;01mwith\u001b[39;00m set_layer_config(scriptable\u001b[38;5;241m=\u001b[39mscriptable, exportable\u001b[38;5;241m=\u001b[39mexportable, no_jit\u001b[38;5;241m=\u001b[39mno_jit):\n\u001b[0;32m--> 117\u001b[0m     model \u001b[38;5;241m=\u001b[39m \u001b[43mcreate_fn\u001b[49m\u001b[43m(\u001b[49m\n\u001b[1;32m    118\u001b[0m \u001b[43m        \u001b[49m\u001b[43mpretrained\u001b[49m\u001b[38;5;241;43m=\u001b[39;49m\u001b[43mpretrained\u001b[49m\u001b[43m,\u001b[49m\n\u001b[1;32m    119\u001b[0m \u001b[43m        \u001b[49m\u001b[43mpretrained_cfg\u001b[49m\u001b[38;5;241;43m=\u001b[39;49m\u001b[43mpretrained_cfg\u001b[49m\u001b[43m,\u001b[49m\n\u001b[1;32m    120\u001b[0m \u001b[43m        \u001b[49m\u001b[43mpretrained_cfg_overlay\u001b[49m\u001b[38;5;241;43m=\u001b[39;49m\u001b[43mpretrained_cfg_overlay\u001b[49m\u001b[43m,\u001b[49m\n\u001b[1;32m    121\u001b[0m \u001b[43m        \u001b[49m\u001b[38;5;241;43m*\u001b[39;49m\u001b[38;5;241;43m*\u001b[39;49m\u001b[43mkwargs\u001b[49m\u001b[43m,\u001b[49m\n\u001b[1;32m    122\u001b[0m \u001b[43m    \u001b[49m\u001b[43m)\u001b[49m\n\u001b[1;32m    124\u001b[0m \u001b[38;5;28;01mif\u001b[39;00m checkpoint_path:\n\u001b[1;32m    125\u001b[0m     load_checkpoint(model, checkpoint_path)\n",
      "File \u001b[0;32m~/anaconda3/envs/hfenv/lib/python3.12/site-packages/timm/models/mobilevit.py:640\u001b[0m, in \u001b[0;36mmobilevitv2_050\u001b[0;34m(pretrained, **kwargs)\u001b[0m\n\u001b[1;32m    638\u001b[0m \u001b[38;5;129m@register_model\u001b[39m\n\u001b[1;32m    639\u001b[0m \u001b[38;5;28;01mdef\u001b[39;00m \u001b[38;5;21mmobilevitv2_050\u001b[39m(pretrained\u001b[38;5;241m=\u001b[39m\u001b[38;5;28;01mFalse\u001b[39;00m, \u001b[38;5;241m*\u001b[39m\u001b[38;5;241m*\u001b[39mkwargs) \u001b[38;5;241m-\u001b[39m\u001b[38;5;241m>\u001b[39m ByobNet:\n\u001b[0;32m--> 640\u001b[0m     \u001b[38;5;28;01mreturn\u001b[39;00m \u001b[43m_create_mobilevit\u001b[49m\u001b[43m(\u001b[49m\u001b[38;5;124;43m'\u001b[39;49m\u001b[38;5;124;43mmobilevitv2_050\u001b[39;49m\u001b[38;5;124;43m'\u001b[39;49m\u001b[43m,\u001b[49m\u001b[43m \u001b[49m\u001b[43mpretrained\u001b[49m\u001b[38;5;241;43m=\u001b[39;49m\u001b[43mpretrained\u001b[49m\u001b[43m,\u001b[49m\u001b[43m \u001b[49m\u001b[38;5;241;43m*\u001b[39;49m\u001b[38;5;241;43m*\u001b[39;49m\u001b[43mkwargs\u001b[49m\u001b[43m)\u001b[49m\n",
      "File \u001b[0;32m~/anaconda3/envs/hfenv/lib/python3.12/site-packages/timm/models/mobilevit.py:548\u001b[0m, in \u001b[0;36m_create_mobilevit\u001b[0;34m(variant, cfg_variant, pretrained, **kwargs)\u001b[0m\n\u001b[1;32m    547\u001b[0m \u001b[38;5;28;01mdef\u001b[39;00m \u001b[38;5;21m_create_mobilevit\u001b[39m(variant, cfg_variant\u001b[38;5;241m=\u001b[39m\u001b[38;5;28;01mNone\u001b[39;00m, pretrained\u001b[38;5;241m=\u001b[39m\u001b[38;5;28;01mFalse\u001b[39;00m, \u001b[38;5;241m*\u001b[39m\u001b[38;5;241m*\u001b[39mkwargs):\n\u001b[0;32m--> 548\u001b[0m     \u001b[38;5;28;01mreturn\u001b[39;00m \u001b[43mbuild_model_with_cfg\u001b[49m\u001b[43m(\u001b[49m\n\u001b[1;32m    549\u001b[0m \u001b[43m        \u001b[49m\u001b[43mByobNet\u001b[49m\u001b[43m,\u001b[49m\u001b[43m \u001b[49m\u001b[43mvariant\u001b[49m\u001b[43m,\u001b[49m\u001b[43m \u001b[49m\u001b[43mpretrained\u001b[49m\u001b[43m,\u001b[49m\n\u001b[1;32m    550\u001b[0m \u001b[43m        \u001b[49m\u001b[43mmodel_cfg\u001b[49m\u001b[38;5;241;43m=\u001b[39;49m\u001b[43mmodel_cfgs\u001b[49m\u001b[43m[\u001b[49m\u001b[43mvariant\u001b[49m\u001b[43m]\u001b[49m\u001b[43m \u001b[49m\u001b[38;5;28;43;01mif\u001b[39;49;00m\u001b[43m \u001b[49m\u001b[38;5;129;43;01mnot\u001b[39;49;00m\u001b[43m \u001b[49m\u001b[43mcfg_variant\u001b[49m\u001b[43m \u001b[49m\u001b[38;5;28;43;01melse\u001b[39;49;00m\u001b[43m \u001b[49m\u001b[43mmodel_cfgs\u001b[49m\u001b[43m[\u001b[49m\u001b[43mcfg_variant\u001b[49m\u001b[43m]\u001b[49m\u001b[43m,\u001b[49m\n\u001b[1;32m    551\u001b[0m \u001b[43m        \u001b[49m\u001b[43mfeature_cfg\u001b[49m\u001b[38;5;241;43m=\u001b[39;49m\u001b[38;5;28;43mdict\u001b[39;49m\u001b[43m(\u001b[49m\u001b[43mflatten_sequential\u001b[49m\u001b[38;5;241;43m=\u001b[39;49m\u001b[38;5;28;43;01mTrue\u001b[39;49;00m\u001b[43m)\u001b[49m\u001b[43m,\u001b[49m\n\u001b[1;32m    552\u001b[0m \u001b[43m        \u001b[49m\u001b[38;5;241;43m*\u001b[39;49m\u001b[38;5;241;43m*\u001b[39;49m\u001b[43mkwargs\u001b[49m\u001b[43m)\u001b[49m\n",
      "File \u001b[0;32m~/anaconda3/envs/hfenv/lib/python3.12/site-packages/timm/models/_builder.py:418\u001b[0m, in \u001b[0;36mbuild_model_with_cfg\u001b[0;34m(model_cls, variant, pretrained, pretrained_cfg, pretrained_cfg_overlay, model_cfg, feature_cfg, pretrained_strict, pretrained_filter_fn, kwargs_filter, **kwargs)\u001b[0m\n\u001b[1;32m    416\u001b[0m num_classes_pretrained \u001b[38;5;241m=\u001b[39m \u001b[38;5;241m0\u001b[39m \u001b[38;5;28;01mif\u001b[39;00m features \u001b[38;5;28;01melse\u001b[39;00m \u001b[38;5;28mgetattr\u001b[39m(model, \u001b[38;5;124m'\u001b[39m\u001b[38;5;124mnum_classes\u001b[39m\u001b[38;5;124m'\u001b[39m, kwargs\u001b[38;5;241m.\u001b[39mget(\u001b[38;5;124m'\u001b[39m\u001b[38;5;124mnum_classes\u001b[39m\u001b[38;5;124m'\u001b[39m, \u001b[38;5;241m1000\u001b[39m))\n\u001b[1;32m    417\u001b[0m \u001b[38;5;28;01mif\u001b[39;00m pretrained:\n\u001b[0;32m--> 418\u001b[0m     \u001b[43mload_pretrained\u001b[49m\u001b[43m(\u001b[49m\n\u001b[1;32m    419\u001b[0m \u001b[43m        \u001b[49m\u001b[43mmodel\u001b[49m\u001b[43m,\u001b[49m\n\u001b[1;32m    420\u001b[0m \u001b[43m        \u001b[49m\u001b[43mpretrained_cfg\u001b[49m\u001b[38;5;241;43m=\u001b[39;49m\u001b[43mpretrained_cfg\u001b[49m\u001b[43m,\u001b[49m\n\u001b[1;32m    421\u001b[0m \u001b[43m        \u001b[49m\u001b[43mnum_classes\u001b[49m\u001b[38;5;241;43m=\u001b[39;49m\u001b[43mnum_classes_pretrained\u001b[49m\u001b[43m,\u001b[49m\n\u001b[1;32m    422\u001b[0m \u001b[43m        \u001b[49m\u001b[43min_chans\u001b[49m\u001b[38;5;241;43m=\u001b[39;49m\u001b[43mkwargs\u001b[49m\u001b[38;5;241;43m.\u001b[39;49m\u001b[43mget\u001b[49m\u001b[43m(\u001b[49m\u001b[38;5;124;43m'\u001b[39;49m\u001b[38;5;124;43min_chans\u001b[39;49m\u001b[38;5;124;43m'\u001b[39;49m\u001b[43m,\u001b[49m\u001b[43m \u001b[49m\u001b[38;5;241;43m3\u001b[39;49m\u001b[43m)\u001b[49m\u001b[43m,\u001b[49m\n\u001b[1;32m    423\u001b[0m \u001b[43m        \u001b[49m\u001b[43mfilter_fn\u001b[49m\u001b[38;5;241;43m=\u001b[39;49m\u001b[43mpretrained_filter_fn\u001b[49m\u001b[43m,\u001b[49m\n\u001b[1;32m    424\u001b[0m \u001b[43m        \u001b[49m\u001b[43mstrict\u001b[49m\u001b[38;5;241;43m=\u001b[39;49m\u001b[43mpretrained_strict\u001b[49m\u001b[43m,\u001b[49m\n\u001b[1;32m    425\u001b[0m \u001b[43m    \u001b[49m\u001b[43m)\u001b[49m\n\u001b[1;32m    427\u001b[0m \u001b[38;5;66;03m# Wrap the model in a feature extraction module if enabled\u001b[39;00m\n\u001b[1;32m    428\u001b[0m \u001b[38;5;28;01mif\u001b[39;00m features:\n",
      "File \u001b[0;32m~/anaconda3/envs/hfenv/lib/python3.12/site-packages/timm/models/_builder.py:158\u001b[0m, in \u001b[0;36mload_pretrained\u001b[0;34m(model, pretrained_cfg, num_classes, in_chans, filter_fn, strict)\u001b[0m\n\u001b[1;32m    155\u001b[0m \u001b[38;5;28;01mif\u001b[39;00m \u001b[38;5;129;01mnot\u001b[39;00m pretrained_cfg:\n\u001b[1;32m    156\u001b[0m     \u001b[38;5;28;01mraise\u001b[39;00m \u001b[38;5;167;01mRuntimeError\u001b[39;00m(\u001b[38;5;124m\"\u001b[39m\u001b[38;5;124mInvalid pretrained config, cannot load weights. Use `pretrained=False` for random init.\u001b[39m\u001b[38;5;124m\"\u001b[39m)\n\u001b[0;32m--> 158\u001b[0m load_from, pretrained_loc \u001b[38;5;241m=\u001b[39m \u001b[43m_resolve_pretrained_source\u001b[49m\u001b[43m(\u001b[49m\u001b[43mpretrained_cfg\u001b[49m\u001b[43m)\u001b[49m\n\u001b[1;32m    159\u001b[0m \u001b[38;5;28;01mif\u001b[39;00m load_from \u001b[38;5;241m==\u001b[39m \u001b[38;5;124m'\u001b[39m\u001b[38;5;124mstate_dict\u001b[39m\u001b[38;5;124m'\u001b[39m:\n\u001b[1;32m    160\u001b[0m     _logger\u001b[38;5;241m.\u001b[39minfo(\u001b[38;5;124mf\u001b[39m\u001b[38;5;124m'\u001b[39m\u001b[38;5;124mLoading pretrained weights from state dict\u001b[39m\u001b[38;5;124m'\u001b[39m)\n",
      "File \u001b[0;32m~/anaconda3/envs/hfenv/lib/python3.12/site-packages/timm/models/_builder.py:63\u001b[0m, in \u001b[0;36m_resolve_pretrained_source\u001b[0;34m(pretrained_cfg)\u001b[0m\n\u001b[1;32m     60\u001b[0m \u001b[38;5;28;01mif\u001b[39;00m _USE_OLD_CACHE:\n\u001b[1;32m     61\u001b[0m     \u001b[38;5;66;03m# prioritized old cached weights if exists and env var enabled\u001b[39;00m\n\u001b[1;32m     62\u001b[0m     old_cache_valid \u001b[38;5;241m=\u001b[39m check_cached_file(pretrained_url) \u001b[38;5;28;01mif\u001b[39;00m pretrained_url \u001b[38;5;28;01melse\u001b[39;00m \u001b[38;5;28;01mFalse\u001b[39;00m\n\u001b[0;32m---> 63\u001b[0m \u001b[38;5;28;01mif\u001b[39;00m \u001b[38;5;129;01mnot\u001b[39;00m old_cache_valid \u001b[38;5;129;01mand\u001b[39;00m hf_hub_id \u001b[38;5;129;01mand\u001b[39;00m \u001b[43mhas_hf_hub\u001b[49m\u001b[43m(\u001b[49m\u001b[43mnecessary\u001b[49m\u001b[38;5;241;43m=\u001b[39;49m\u001b[38;5;28;43;01mTrue\u001b[39;49;00m\u001b[43m)\u001b[49m:\n\u001b[1;32m     64\u001b[0m     \u001b[38;5;66;03m# hf-hub available as alternate weight source in default_cfg\u001b[39;00m\n\u001b[1;32m     65\u001b[0m     load_from \u001b[38;5;241m=\u001b[39m \u001b[38;5;124m'\u001b[39m\u001b[38;5;124mhf-hub\u001b[39m\u001b[38;5;124m'\u001b[39m\n\u001b[1;32m     66\u001b[0m     pretrained_loc \u001b[38;5;241m=\u001b[39m hf_hub_id\n",
      "File \u001b[0;32m~/anaconda3/envs/hfenv/lib/python3.12/site-packages/timm/models/_hub.py:111\u001b[0m, in \u001b[0;36mhas_hf_hub\u001b[0;34m(necessary)\u001b[0m\n\u001b[1;32m    108\u001b[0m \u001b[38;5;28;01mdef\u001b[39;00m \u001b[38;5;21mhas_hf_hub\u001b[39m(necessary\u001b[38;5;241m=\u001b[39m\u001b[38;5;28;01mFalse\u001b[39;00m):\n\u001b[1;32m    109\u001b[0m     \u001b[38;5;28;01mif\u001b[39;00m \u001b[38;5;129;01mnot\u001b[39;00m _has_hf_hub \u001b[38;5;129;01mand\u001b[39;00m necessary:\n\u001b[1;32m    110\u001b[0m         \u001b[38;5;66;03m# if no HF Hub module installed, and it is necessary to continue, raise error\u001b[39;00m\n\u001b[0;32m--> 111\u001b[0m         \u001b[38;5;28;01mraise\u001b[39;00m \u001b[38;5;167;01mRuntimeError\u001b[39;00m(\n\u001b[1;32m    112\u001b[0m             \u001b[38;5;124m'\u001b[39m\u001b[38;5;124mHugging Face hub model specified but package not installed. Run `pip install huggingface_hub`.\u001b[39m\u001b[38;5;124m'\u001b[39m)\n\u001b[1;32m    113\u001b[0m     \u001b[38;5;28;01mreturn\u001b[39;00m _has_hf_hub\n",
      "\u001b[0;31mRuntimeError\u001b[0m: Hugging Face hub model specified but package not installed. Run `pip install huggingface_hub`."
     ]
    }
   ],
   "source": [
    "#checking\n",
    "mobilevitv2_model = timm.create_model(\n",
    "    'mobilevitv2_050.cvnets_in1k', \n",
    "    pretrained=True, \n",
    "    features_only=True,\n",
    "    output_stride=8\n",
    ")\n",
    "input_tensor = torch.randn(1, 3, 256, 256)\n",
    "\n",
    "# Forward pass\n",
    "output = mobilevitv2_model(input_tensor)\n",
    "print(output[-1].shape)  #[1, 256, 32, 32]"
   ]
  },
  {
   "cell_type": "code",
   "execution_count": 82,
   "metadata": {},
   "outputs": [
    {
     "ename": "KeyboardInterrupt",
     "evalue": "",
     "output_type": "error",
     "traceback": [
      "\u001b[0;31m---------------------------------------------------------------------------\u001b[0m",
      "\u001b[0;31mKeyboardInterrupt\u001b[0m                         Traceback (most recent call last)",
      "Cell \u001b[0;32mIn[82], line 10\u001b[0m\n\u001b[1;32m      7\u001b[0m input_tensor \u001b[38;5;241m=\u001b[39m torch\u001b[38;5;241m.\u001b[39mrandn(\u001b[38;5;241m1\u001b[39m, \u001b[38;5;241m516\u001b[39m, \u001b[38;5;241m516\u001b[39m, \u001b[38;5;241m516\u001b[39m)\n\u001b[1;32m      9\u001b[0m \u001b[38;5;66;03m# Forward pass\u001b[39;00m\n\u001b[0;32m---> 10\u001b[0m output \u001b[38;5;241m=\u001b[39m \u001b[43mmodel\u001b[49m\u001b[43m(\u001b[49m\u001b[43minput_tensor\u001b[49m\u001b[43m)\u001b[49m\n\u001b[1;32m     11\u001b[0m \u001b[38;5;28mprint\u001b[39m(output\u001b[38;5;241m.\u001b[39mshape) \n",
      "File \u001b[0;32m~/anaconda3/envs/hfenv/lib/python3.12/site-packages/torch/nn/modules/module.py:1532\u001b[0m, in \u001b[0;36mModule._wrapped_call_impl\u001b[0;34m(self, *args, **kwargs)\u001b[0m\n\u001b[1;32m   1530\u001b[0m     \u001b[38;5;28;01mreturn\u001b[39;00m \u001b[38;5;28mself\u001b[39m\u001b[38;5;241m.\u001b[39m_compiled_call_impl(\u001b[38;5;241m*\u001b[39margs, \u001b[38;5;241m*\u001b[39m\u001b[38;5;241m*\u001b[39mkwargs)  \u001b[38;5;66;03m# type: ignore[misc]\u001b[39;00m\n\u001b[1;32m   1531\u001b[0m \u001b[38;5;28;01melse\u001b[39;00m:\n\u001b[0;32m-> 1532\u001b[0m     \u001b[38;5;28;01mreturn\u001b[39;00m \u001b[38;5;28;43mself\u001b[39;49m\u001b[38;5;241;43m.\u001b[39;49m\u001b[43m_call_impl\u001b[49m\u001b[43m(\u001b[49m\u001b[38;5;241;43m*\u001b[39;49m\u001b[43margs\u001b[49m\u001b[43m,\u001b[49m\u001b[43m \u001b[49m\u001b[38;5;241;43m*\u001b[39;49m\u001b[38;5;241;43m*\u001b[39;49m\u001b[43mkwargs\u001b[49m\u001b[43m)\u001b[49m\n",
      "File \u001b[0;32m~/anaconda3/envs/hfenv/lib/python3.12/site-packages/torch/nn/modules/module.py:1541\u001b[0m, in \u001b[0;36mModule._call_impl\u001b[0;34m(self, *args, **kwargs)\u001b[0m\n\u001b[1;32m   1536\u001b[0m \u001b[38;5;66;03m# If we don't have any hooks, we want to skip the rest of the logic in\u001b[39;00m\n\u001b[1;32m   1537\u001b[0m \u001b[38;5;66;03m# this function, and just call forward.\u001b[39;00m\n\u001b[1;32m   1538\u001b[0m \u001b[38;5;28;01mif\u001b[39;00m \u001b[38;5;129;01mnot\u001b[39;00m (\u001b[38;5;28mself\u001b[39m\u001b[38;5;241m.\u001b[39m_backward_hooks \u001b[38;5;129;01mor\u001b[39;00m \u001b[38;5;28mself\u001b[39m\u001b[38;5;241m.\u001b[39m_backward_pre_hooks \u001b[38;5;129;01mor\u001b[39;00m \u001b[38;5;28mself\u001b[39m\u001b[38;5;241m.\u001b[39m_forward_hooks \u001b[38;5;129;01mor\u001b[39;00m \u001b[38;5;28mself\u001b[39m\u001b[38;5;241m.\u001b[39m_forward_pre_hooks\n\u001b[1;32m   1539\u001b[0m         \u001b[38;5;129;01mor\u001b[39;00m _global_backward_pre_hooks \u001b[38;5;129;01mor\u001b[39;00m _global_backward_hooks\n\u001b[1;32m   1540\u001b[0m         \u001b[38;5;129;01mor\u001b[39;00m _global_forward_hooks \u001b[38;5;129;01mor\u001b[39;00m _global_forward_pre_hooks):\n\u001b[0;32m-> 1541\u001b[0m     \u001b[38;5;28;01mreturn\u001b[39;00m \u001b[43mforward_call\u001b[49m\u001b[43m(\u001b[49m\u001b[38;5;241;43m*\u001b[39;49m\u001b[43margs\u001b[49m\u001b[43m,\u001b[49m\u001b[43m \u001b[49m\u001b[38;5;241;43m*\u001b[39;49m\u001b[38;5;241;43m*\u001b[39;49m\u001b[43mkwargs\u001b[49m\u001b[43m)\u001b[49m\n\u001b[1;32m   1543\u001b[0m \u001b[38;5;28;01mtry\u001b[39;00m:\n\u001b[1;32m   1544\u001b[0m     result \u001b[38;5;241m=\u001b[39m \u001b[38;5;28;01mNone\u001b[39;00m\n",
      "File \u001b[0;32m~/anaconda3/envs/hfenv/lib/python3.12/site-packages/torch/nn/modules/container.py:217\u001b[0m, in \u001b[0;36mSequential.forward\u001b[0;34m(self, input)\u001b[0m\n\u001b[1;32m    215\u001b[0m \u001b[38;5;28;01mdef\u001b[39;00m \u001b[38;5;21mforward\u001b[39m(\u001b[38;5;28mself\u001b[39m, \u001b[38;5;28minput\u001b[39m):\n\u001b[1;32m    216\u001b[0m     \u001b[38;5;28;01mfor\u001b[39;00m module \u001b[38;5;129;01min\u001b[39;00m \u001b[38;5;28mself\u001b[39m:\n\u001b[0;32m--> 217\u001b[0m         \u001b[38;5;28minput\u001b[39m \u001b[38;5;241m=\u001b[39m \u001b[43mmodule\u001b[49m\u001b[43m(\u001b[49m\u001b[38;5;28;43minput\u001b[39;49m\u001b[43m)\u001b[49m\n\u001b[1;32m    218\u001b[0m     \u001b[38;5;28;01mreturn\u001b[39;00m \u001b[38;5;28minput\u001b[39m\n",
      "File \u001b[0;32m~/anaconda3/envs/hfenv/lib/python3.12/site-packages/torch/nn/modules/module.py:1532\u001b[0m, in \u001b[0;36mModule._wrapped_call_impl\u001b[0;34m(self, *args, **kwargs)\u001b[0m\n\u001b[1;32m   1530\u001b[0m     \u001b[38;5;28;01mreturn\u001b[39;00m \u001b[38;5;28mself\u001b[39m\u001b[38;5;241m.\u001b[39m_compiled_call_impl(\u001b[38;5;241m*\u001b[39margs, \u001b[38;5;241m*\u001b[39m\u001b[38;5;241m*\u001b[39mkwargs)  \u001b[38;5;66;03m# type: ignore[misc]\u001b[39;00m\n\u001b[1;32m   1531\u001b[0m \u001b[38;5;28;01melse\u001b[39;00m:\n\u001b[0;32m-> 1532\u001b[0m     \u001b[38;5;28;01mreturn\u001b[39;00m \u001b[38;5;28;43mself\u001b[39;49m\u001b[38;5;241;43m.\u001b[39;49m\u001b[43m_call_impl\u001b[49m\u001b[43m(\u001b[49m\u001b[38;5;241;43m*\u001b[39;49m\u001b[43margs\u001b[49m\u001b[43m,\u001b[49m\u001b[43m \u001b[49m\u001b[38;5;241;43m*\u001b[39;49m\u001b[38;5;241;43m*\u001b[39;49m\u001b[43mkwargs\u001b[49m\u001b[43m)\u001b[49m\n",
      "File \u001b[0;32m~/anaconda3/envs/hfenv/lib/python3.12/site-packages/torch/nn/modules/module.py:1541\u001b[0m, in \u001b[0;36mModule._call_impl\u001b[0;34m(self, *args, **kwargs)\u001b[0m\n\u001b[1;32m   1536\u001b[0m \u001b[38;5;66;03m# If we don't have any hooks, we want to skip the rest of the logic in\u001b[39;00m\n\u001b[1;32m   1537\u001b[0m \u001b[38;5;66;03m# this function, and just call forward.\u001b[39;00m\n\u001b[1;32m   1538\u001b[0m \u001b[38;5;28;01mif\u001b[39;00m \u001b[38;5;129;01mnot\u001b[39;00m (\u001b[38;5;28mself\u001b[39m\u001b[38;5;241m.\u001b[39m_backward_hooks \u001b[38;5;129;01mor\u001b[39;00m \u001b[38;5;28mself\u001b[39m\u001b[38;5;241m.\u001b[39m_backward_pre_hooks \u001b[38;5;129;01mor\u001b[39;00m \u001b[38;5;28mself\u001b[39m\u001b[38;5;241m.\u001b[39m_forward_hooks \u001b[38;5;129;01mor\u001b[39;00m \u001b[38;5;28mself\u001b[39m\u001b[38;5;241m.\u001b[39m_forward_pre_hooks\n\u001b[1;32m   1539\u001b[0m         \u001b[38;5;129;01mor\u001b[39;00m _global_backward_pre_hooks \u001b[38;5;129;01mor\u001b[39;00m _global_backward_hooks\n\u001b[1;32m   1540\u001b[0m         \u001b[38;5;129;01mor\u001b[39;00m _global_forward_hooks \u001b[38;5;129;01mor\u001b[39;00m _global_forward_pre_hooks):\n\u001b[0;32m-> 1541\u001b[0m     \u001b[38;5;28;01mreturn\u001b[39;00m \u001b[43mforward_call\u001b[49m\u001b[43m(\u001b[49m\u001b[38;5;241;43m*\u001b[39;49m\u001b[43margs\u001b[49m\u001b[43m,\u001b[49m\u001b[43m \u001b[49m\u001b[38;5;241;43m*\u001b[39;49m\u001b[38;5;241;43m*\u001b[39;49m\u001b[43mkwargs\u001b[49m\u001b[43m)\u001b[49m\n\u001b[1;32m   1543\u001b[0m \u001b[38;5;28;01mtry\u001b[39;00m:\n\u001b[1;32m   1544\u001b[0m     result \u001b[38;5;241m=\u001b[39m \u001b[38;5;28;01mNone\u001b[39;00m\n",
      "File \u001b[0;32m~/anaconda3/envs/hfenv/lib/python3.12/site-packages/torchvision/models/segmentation/deeplabv3.py:111\u001b[0m, in \u001b[0;36mASPP.forward\u001b[0;34m(self, x)\u001b[0m\n\u001b[1;32m    109\u001b[0m _res \u001b[38;5;241m=\u001b[39m []\n\u001b[1;32m    110\u001b[0m \u001b[38;5;28;01mfor\u001b[39;00m conv \u001b[38;5;129;01min\u001b[39;00m \u001b[38;5;28mself\u001b[39m\u001b[38;5;241m.\u001b[39mconvs:\n\u001b[0;32m--> 111\u001b[0m     _res\u001b[38;5;241m.\u001b[39mappend(\u001b[43mconv\u001b[49m\u001b[43m(\u001b[49m\u001b[43mx\u001b[49m\u001b[43m)\u001b[49m)\n\u001b[1;32m    112\u001b[0m res \u001b[38;5;241m=\u001b[39m torch\u001b[38;5;241m.\u001b[39mcat(_res, dim\u001b[38;5;241m=\u001b[39m\u001b[38;5;241m1\u001b[39m)\n\u001b[1;32m    113\u001b[0m \u001b[38;5;28;01mreturn\u001b[39;00m \u001b[38;5;28mself\u001b[39m\u001b[38;5;241m.\u001b[39mproject(res)\n",
      "File \u001b[0;32m~/anaconda3/envs/hfenv/lib/python3.12/site-packages/torch/nn/modules/module.py:1532\u001b[0m, in \u001b[0;36mModule._wrapped_call_impl\u001b[0;34m(self, *args, **kwargs)\u001b[0m\n\u001b[1;32m   1530\u001b[0m     \u001b[38;5;28;01mreturn\u001b[39;00m \u001b[38;5;28mself\u001b[39m\u001b[38;5;241m.\u001b[39m_compiled_call_impl(\u001b[38;5;241m*\u001b[39margs, \u001b[38;5;241m*\u001b[39m\u001b[38;5;241m*\u001b[39mkwargs)  \u001b[38;5;66;03m# type: ignore[misc]\u001b[39;00m\n\u001b[1;32m   1531\u001b[0m \u001b[38;5;28;01melse\u001b[39;00m:\n\u001b[0;32m-> 1532\u001b[0m     \u001b[38;5;28;01mreturn\u001b[39;00m \u001b[38;5;28;43mself\u001b[39;49m\u001b[38;5;241;43m.\u001b[39;49m\u001b[43m_call_impl\u001b[49m\u001b[43m(\u001b[49m\u001b[38;5;241;43m*\u001b[39;49m\u001b[43margs\u001b[49m\u001b[43m,\u001b[49m\u001b[43m \u001b[49m\u001b[38;5;241;43m*\u001b[39;49m\u001b[38;5;241;43m*\u001b[39;49m\u001b[43mkwargs\u001b[49m\u001b[43m)\u001b[49m\n",
      "File \u001b[0;32m~/anaconda3/envs/hfenv/lib/python3.12/site-packages/torch/nn/modules/module.py:1541\u001b[0m, in \u001b[0;36mModule._call_impl\u001b[0;34m(self, *args, **kwargs)\u001b[0m\n\u001b[1;32m   1536\u001b[0m \u001b[38;5;66;03m# If we don't have any hooks, we want to skip the rest of the logic in\u001b[39;00m\n\u001b[1;32m   1537\u001b[0m \u001b[38;5;66;03m# this function, and just call forward.\u001b[39;00m\n\u001b[1;32m   1538\u001b[0m \u001b[38;5;28;01mif\u001b[39;00m \u001b[38;5;129;01mnot\u001b[39;00m (\u001b[38;5;28mself\u001b[39m\u001b[38;5;241m.\u001b[39m_backward_hooks \u001b[38;5;129;01mor\u001b[39;00m \u001b[38;5;28mself\u001b[39m\u001b[38;5;241m.\u001b[39m_backward_pre_hooks \u001b[38;5;129;01mor\u001b[39;00m \u001b[38;5;28mself\u001b[39m\u001b[38;5;241m.\u001b[39m_forward_hooks \u001b[38;5;129;01mor\u001b[39;00m \u001b[38;5;28mself\u001b[39m\u001b[38;5;241m.\u001b[39m_forward_pre_hooks\n\u001b[1;32m   1539\u001b[0m         \u001b[38;5;129;01mor\u001b[39;00m _global_backward_pre_hooks \u001b[38;5;129;01mor\u001b[39;00m _global_backward_hooks\n\u001b[1;32m   1540\u001b[0m         \u001b[38;5;129;01mor\u001b[39;00m _global_forward_hooks \u001b[38;5;129;01mor\u001b[39;00m _global_forward_pre_hooks):\n\u001b[0;32m-> 1541\u001b[0m     \u001b[38;5;28;01mreturn\u001b[39;00m \u001b[43mforward_call\u001b[49m\u001b[43m(\u001b[49m\u001b[38;5;241;43m*\u001b[39;49m\u001b[43margs\u001b[49m\u001b[43m,\u001b[49m\u001b[43m \u001b[49m\u001b[38;5;241;43m*\u001b[39;49m\u001b[38;5;241;43m*\u001b[39;49m\u001b[43mkwargs\u001b[49m\u001b[43m)\u001b[49m\n\u001b[1;32m   1543\u001b[0m \u001b[38;5;28;01mtry\u001b[39;00m:\n\u001b[1;32m   1544\u001b[0m     result \u001b[38;5;241m=\u001b[39m \u001b[38;5;28;01mNone\u001b[39;00m\n",
      "File \u001b[0;32m~/anaconda3/envs/hfenv/lib/python3.12/site-packages/torch/nn/modules/container.py:217\u001b[0m, in \u001b[0;36mSequential.forward\u001b[0;34m(self, input)\u001b[0m\n\u001b[1;32m    215\u001b[0m \u001b[38;5;28;01mdef\u001b[39;00m \u001b[38;5;21mforward\u001b[39m(\u001b[38;5;28mself\u001b[39m, \u001b[38;5;28minput\u001b[39m):\n\u001b[1;32m    216\u001b[0m     \u001b[38;5;28;01mfor\u001b[39;00m module \u001b[38;5;129;01min\u001b[39;00m \u001b[38;5;28mself\u001b[39m:\n\u001b[0;32m--> 217\u001b[0m         \u001b[38;5;28minput\u001b[39m \u001b[38;5;241m=\u001b[39m \u001b[43mmodule\u001b[49m\u001b[43m(\u001b[49m\u001b[38;5;28;43minput\u001b[39;49m\u001b[43m)\u001b[49m\n\u001b[1;32m    218\u001b[0m     \u001b[38;5;28;01mreturn\u001b[39;00m \u001b[38;5;28minput\u001b[39m\n",
      "File \u001b[0;32m~/anaconda3/envs/hfenv/lib/python3.12/site-packages/torch/nn/modules/module.py:1532\u001b[0m, in \u001b[0;36mModule._wrapped_call_impl\u001b[0;34m(self, *args, **kwargs)\u001b[0m\n\u001b[1;32m   1530\u001b[0m     \u001b[38;5;28;01mreturn\u001b[39;00m \u001b[38;5;28mself\u001b[39m\u001b[38;5;241m.\u001b[39m_compiled_call_impl(\u001b[38;5;241m*\u001b[39margs, \u001b[38;5;241m*\u001b[39m\u001b[38;5;241m*\u001b[39mkwargs)  \u001b[38;5;66;03m# type: ignore[misc]\u001b[39;00m\n\u001b[1;32m   1531\u001b[0m \u001b[38;5;28;01melse\u001b[39;00m:\n\u001b[0;32m-> 1532\u001b[0m     \u001b[38;5;28;01mreturn\u001b[39;00m \u001b[38;5;28;43mself\u001b[39;49m\u001b[38;5;241;43m.\u001b[39;49m\u001b[43m_call_impl\u001b[49m\u001b[43m(\u001b[49m\u001b[38;5;241;43m*\u001b[39;49m\u001b[43margs\u001b[49m\u001b[43m,\u001b[49m\u001b[43m \u001b[49m\u001b[38;5;241;43m*\u001b[39;49m\u001b[38;5;241;43m*\u001b[39;49m\u001b[43mkwargs\u001b[49m\u001b[43m)\u001b[49m\n",
      "File \u001b[0;32m~/anaconda3/envs/hfenv/lib/python3.12/site-packages/torch/nn/modules/module.py:1541\u001b[0m, in \u001b[0;36mModule._call_impl\u001b[0;34m(self, *args, **kwargs)\u001b[0m\n\u001b[1;32m   1536\u001b[0m \u001b[38;5;66;03m# If we don't have any hooks, we want to skip the rest of the logic in\u001b[39;00m\n\u001b[1;32m   1537\u001b[0m \u001b[38;5;66;03m# this function, and just call forward.\u001b[39;00m\n\u001b[1;32m   1538\u001b[0m \u001b[38;5;28;01mif\u001b[39;00m \u001b[38;5;129;01mnot\u001b[39;00m (\u001b[38;5;28mself\u001b[39m\u001b[38;5;241m.\u001b[39m_backward_hooks \u001b[38;5;129;01mor\u001b[39;00m \u001b[38;5;28mself\u001b[39m\u001b[38;5;241m.\u001b[39m_backward_pre_hooks \u001b[38;5;129;01mor\u001b[39;00m \u001b[38;5;28mself\u001b[39m\u001b[38;5;241m.\u001b[39m_forward_hooks \u001b[38;5;129;01mor\u001b[39;00m \u001b[38;5;28mself\u001b[39m\u001b[38;5;241m.\u001b[39m_forward_pre_hooks\n\u001b[1;32m   1539\u001b[0m         \u001b[38;5;129;01mor\u001b[39;00m _global_backward_pre_hooks \u001b[38;5;129;01mor\u001b[39;00m _global_backward_hooks\n\u001b[1;32m   1540\u001b[0m         \u001b[38;5;129;01mor\u001b[39;00m _global_forward_hooks \u001b[38;5;129;01mor\u001b[39;00m _global_forward_pre_hooks):\n\u001b[0;32m-> 1541\u001b[0m     \u001b[38;5;28;01mreturn\u001b[39;00m \u001b[43mforward_call\u001b[49m\u001b[43m(\u001b[49m\u001b[38;5;241;43m*\u001b[39;49m\u001b[43margs\u001b[49m\u001b[43m,\u001b[49m\u001b[43m \u001b[49m\u001b[38;5;241;43m*\u001b[39;49m\u001b[38;5;241;43m*\u001b[39;49m\u001b[43mkwargs\u001b[49m\u001b[43m)\u001b[49m\n\u001b[1;32m   1543\u001b[0m \u001b[38;5;28;01mtry\u001b[39;00m:\n\u001b[1;32m   1544\u001b[0m     result \u001b[38;5;241m=\u001b[39m \u001b[38;5;28;01mNone\u001b[39;00m\n",
      "File \u001b[0;32m~/anaconda3/envs/hfenv/lib/python3.12/site-packages/torch/nn/modules/conv.py:460\u001b[0m, in \u001b[0;36mConv2d.forward\u001b[0;34m(self, input)\u001b[0m\n\u001b[1;32m    459\u001b[0m \u001b[38;5;28;01mdef\u001b[39;00m \u001b[38;5;21mforward\u001b[39m(\u001b[38;5;28mself\u001b[39m, \u001b[38;5;28minput\u001b[39m: Tensor) \u001b[38;5;241m-\u001b[39m\u001b[38;5;241m>\u001b[39m Tensor:\n\u001b[0;32m--> 460\u001b[0m     \u001b[38;5;28;01mreturn\u001b[39;00m \u001b[38;5;28;43mself\u001b[39;49m\u001b[38;5;241;43m.\u001b[39;49m\u001b[43m_conv_forward\u001b[49m\u001b[43m(\u001b[49m\u001b[38;5;28;43minput\u001b[39;49m\u001b[43m,\u001b[49m\u001b[43m \u001b[49m\u001b[38;5;28;43mself\u001b[39;49m\u001b[38;5;241;43m.\u001b[39;49m\u001b[43mweight\u001b[49m\u001b[43m,\u001b[49m\u001b[43m \u001b[49m\u001b[38;5;28;43mself\u001b[39;49m\u001b[38;5;241;43m.\u001b[39;49m\u001b[43mbias\u001b[49m\u001b[43m)\u001b[49m\n",
      "File \u001b[0;32m~/anaconda3/envs/hfenv/lib/python3.12/site-packages/torch/nn/modules/conv.py:456\u001b[0m, in \u001b[0;36mConv2d._conv_forward\u001b[0;34m(self, input, weight, bias)\u001b[0m\n\u001b[1;32m    452\u001b[0m \u001b[38;5;28;01mif\u001b[39;00m \u001b[38;5;28mself\u001b[39m\u001b[38;5;241m.\u001b[39mpadding_mode \u001b[38;5;241m!=\u001b[39m \u001b[38;5;124m'\u001b[39m\u001b[38;5;124mzeros\u001b[39m\u001b[38;5;124m'\u001b[39m:\n\u001b[1;32m    453\u001b[0m     \u001b[38;5;28;01mreturn\u001b[39;00m F\u001b[38;5;241m.\u001b[39mconv2d(F\u001b[38;5;241m.\u001b[39mpad(\u001b[38;5;28minput\u001b[39m, \u001b[38;5;28mself\u001b[39m\u001b[38;5;241m.\u001b[39m_reversed_padding_repeated_twice, mode\u001b[38;5;241m=\u001b[39m\u001b[38;5;28mself\u001b[39m\u001b[38;5;241m.\u001b[39mpadding_mode),\n\u001b[1;32m    454\u001b[0m                     weight, bias, \u001b[38;5;28mself\u001b[39m\u001b[38;5;241m.\u001b[39mstride,\n\u001b[1;32m    455\u001b[0m                     _pair(\u001b[38;5;241m0\u001b[39m), \u001b[38;5;28mself\u001b[39m\u001b[38;5;241m.\u001b[39mdilation, \u001b[38;5;28mself\u001b[39m\u001b[38;5;241m.\u001b[39mgroups)\n\u001b[0;32m--> 456\u001b[0m \u001b[38;5;28;01mreturn\u001b[39;00m \u001b[43mF\u001b[49m\u001b[38;5;241;43m.\u001b[39;49m\u001b[43mconv2d\u001b[49m\u001b[43m(\u001b[49m\u001b[38;5;28;43minput\u001b[39;49m\u001b[43m,\u001b[49m\u001b[43m \u001b[49m\u001b[43mweight\u001b[49m\u001b[43m,\u001b[49m\u001b[43m \u001b[49m\u001b[43mbias\u001b[49m\u001b[43m,\u001b[49m\u001b[43m \u001b[49m\u001b[38;5;28;43mself\u001b[39;49m\u001b[38;5;241;43m.\u001b[39;49m\u001b[43mstride\u001b[49m\u001b[43m,\u001b[49m\n\u001b[1;32m    457\u001b[0m \u001b[43m                \u001b[49m\u001b[38;5;28;43mself\u001b[39;49m\u001b[38;5;241;43m.\u001b[39;49m\u001b[43mpadding\u001b[49m\u001b[43m,\u001b[49m\u001b[43m \u001b[49m\u001b[38;5;28;43mself\u001b[39;49m\u001b[38;5;241;43m.\u001b[39;49m\u001b[43mdilation\u001b[49m\u001b[43m,\u001b[49m\u001b[43m \u001b[49m\u001b[38;5;28;43mself\u001b[39;49m\u001b[38;5;241;43m.\u001b[39;49m\u001b[43mgroups\u001b[49m\u001b[43m)\u001b[49m\n",
      "\u001b[0;31mKeyboardInterrupt\u001b[0m: "
     ]
    }
   ],
   "source": [
    "# checking\n",
    "model = DeepLabHead(\n",
    "    in_channels=516,  # Adjust in_channels if needed\n",
    "    num_classes=1,  # binary segmentation\n",
    "    atrous_rates=(6,12,18) #from the paper, default (12,24,36)\n",
    ")  \n",
    "input_tensor = torch.randn(1, 516, 516, 516)\n",
    "\n",
    "# Forward pass\n",
    "output = model(input_tensor)\n",
    "print(output.shape) "
   ]
  },
  {
   "cell_type": "code",
   "execution_count": 75,
   "metadata": {},
   "outputs": [
    {
     "name": "stdout",
     "output_type": "stream",
     "text": [
      "MobileViT_DeepLabV3(\n",
      "  (backbone): MobileViT_Backbone(\n",
      "    (model): FeatureListNet(\n",
      "      (stem): ConvNormAct(\n",
      "        (conv): Conv2d(3, 16, kernel_size=(3, 3), stride=(2, 2), padding=(1, 1), bias=False)\n",
      "        (bn): BatchNormAct2d(\n",
      "          16, eps=1e-05, momentum=0.1, affine=True, track_running_stats=True\n",
      "          (drop): Identity()\n",
      "          (act): SiLU(inplace=True)\n",
      "        )\n",
      "      )\n",
      "      (stages_0): Sequential(\n",
      "        (0): BottleneckBlock(\n",
      "          (conv1_1x1): ConvNormAct(\n",
      "            (conv): Conv2d(16, 32, kernel_size=(1, 1), stride=(1, 1), bias=False)\n",
      "            (bn): BatchNormAct2d(\n",
      "              32, eps=1e-05, momentum=0.1, affine=True, track_running_stats=True\n",
      "              (drop): Identity()\n",
      "              (act): SiLU(inplace=True)\n",
      "            )\n",
      "          )\n",
      "          (conv2_kxk): ConvNormAct(\n",
      "            (conv): Conv2d(32, 32, kernel_size=(3, 3), stride=(1, 1), padding=(1, 1), groups=32, bias=False)\n",
      "            (bn): BatchNormAct2d(\n",
      "              32, eps=1e-05, momentum=0.1, affine=True, track_running_stats=True\n",
      "              (drop): Identity()\n",
      "              (act): SiLU(inplace=True)\n",
      "            )\n",
      "          )\n",
      "          (conv2b_kxk): Identity()\n",
      "          (attn): Identity()\n",
      "          (conv3_1x1): ConvNormAct(\n",
      "            (conv): Conv2d(32, 32, kernel_size=(1, 1), stride=(1, 1), bias=False)\n",
      "            (bn): BatchNormAct2d(\n",
      "              32, eps=1e-05, momentum=0.1, affine=True, track_running_stats=True\n",
      "              (drop): Identity()\n",
      "              (act): Identity()\n",
      "            )\n",
      "          )\n",
      "          (attn_last): Identity()\n",
      "          (drop_path): Identity()\n",
      "          (act): Identity()\n",
      "        )\n",
      "      )\n",
      "      (stages_1): Sequential(\n",
      "        (0): BottleneckBlock(\n",
      "          (conv1_1x1): ConvNormAct(\n",
      "            (conv): Conv2d(32, 64, kernel_size=(1, 1), stride=(1, 1), bias=False)\n",
      "            (bn): BatchNormAct2d(\n",
      "              64, eps=1e-05, momentum=0.1, affine=True, track_running_stats=True\n",
      "              (drop): Identity()\n",
      "              (act): SiLU(inplace=True)\n",
      "            )\n",
      "          )\n",
      "          (conv2_kxk): ConvNormAct(\n",
      "            (conv): Conv2d(64, 64, kernel_size=(3, 3), stride=(2, 2), padding=(1, 1), groups=64, bias=False)\n",
      "            (bn): BatchNormAct2d(\n",
      "              64, eps=1e-05, momentum=0.1, affine=True, track_running_stats=True\n",
      "              (drop): Identity()\n",
      "              (act): SiLU(inplace=True)\n",
      "            )\n",
      "          )\n",
      "          (conv2b_kxk): Identity()\n",
      "          (attn): Identity()\n",
      "          (conv3_1x1): ConvNormAct(\n",
      "            (conv): Conv2d(64, 64, kernel_size=(1, 1), stride=(1, 1), bias=False)\n",
      "            (bn): BatchNormAct2d(\n",
      "              64, eps=1e-05, momentum=0.1, affine=True, track_running_stats=True\n",
      "              (drop): Identity()\n",
      "              (act): Identity()\n",
      "            )\n",
      "          )\n",
      "          (attn_last): Identity()\n",
      "          (drop_path): Identity()\n",
      "          (act): Identity()\n",
      "        )\n",
      "        (1): BottleneckBlock(\n",
      "          (shortcut): Identity()\n",
      "          (conv1_1x1): ConvNormAct(\n",
      "            (conv): Conv2d(64, 128, kernel_size=(1, 1), stride=(1, 1), bias=False)\n",
      "            (bn): BatchNormAct2d(\n",
      "              128, eps=1e-05, momentum=0.1, affine=True, track_running_stats=True\n",
      "              (drop): Identity()\n",
      "              (act): SiLU(inplace=True)\n",
      "            )\n",
      "          )\n",
      "          (conv2_kxk): ConvNormAct(\n",
      "            (conv): Conv2d(128, 128, kernel_size=(3, 3), stride=(1, 1), padding=(1, 1), groups=128, bias=False)\n",
      "            (bn): BatchNormAct2d(\n",
      "              128, eps=1e-05, momentum=0.1, affine=True, track_running_stats=True\n",
      "              (drop): Identity()\n",
      "              (act): SiLU(inplace=True)\n",
      "            )\n",
      "          )\n",
      "          (conv2b_kxk): Identity()\n",
      "          (attn): Identity()\n",
      "          (conv3_1x1): ConvNormAct(\n",
      "            (conv): Conv2d(128, 64, kernel_size=(1, 1), stride=(1, 1), bias=False)\n",
      "            (bn): BatchNormAct2d(\n",
      "              64, eps=1e-05, momentum=0.1, affine=True, track_running_stats=True\n",
      "              (drop): Identity()\n",
      "              (act): Identity()\n",
      "            )\n",
      "          )\n",
      "          (attn_last): Identity()\n",
      "          (drop_path): Identity()\n",
      "          (act): Identity()\n",
      "        )\n",
      "      )\n",
      "      (stages_2): Sequential(\n",
      "        (0): BottleneckBlock(\n",
      "          (conv1_1x1): ConvNormAct(\n",
      "            (conv): Conv2d(64, 128, kernel_size=(1, 1), stride=(1, 1), bias=False)\n",
      "            (bn): BatchNormAct2d(\n",
      "              128, eps=1e-05, momentum=0.1, affine=True, track_running_stats=True\n",
      "              (drop): Identity()\n",
      "              (act): SiLU(inplace=True)\n",
      "            )\n",
      "          )\n",
      "          (conv2_kxk): ConvNormAct(\n",
      "            (conv): Conv2d(128, 128, kernel_size=(3, 3), stride=(2, 2), padding=(1, 1), groups=128, bias=False)\n",
      "            (bn): BatchNormAct2d(\n",
      "              128, eps=1e-05, momentum=0.1, affine=True, track_running_stats=True\n",
      "              (drop): Identity()\n",
      "              (act): SiLU(inplace=True)\n",
      "            )\n",
      "          )\n",
      "          (conv2b_kxk): Identity()\n",
      "          (attn): Identity()\n",
      "          (conv3_1x1): ConvNormAct(\n",
      "            (conv): Conv2d(128, 128, kernel_size=(1, 1), stride=(1, 1), bias=False)\n",
      "            (bn): BatchNormAct2d(\n",
      "              128, eps=1e-05, momentum=0.1, affine=True, track_running_stats=True\n",
      "              (drop): Identity()\n",
      "              (act): Identity()\n",
      "            )\n",
      "          )\n",
      "          (attn_last): Identity()\n",
      "          (drop_path): Identity()\n",
      "          (act): Identity()\n",
      "        )\n",
      "        (1): MobileVitV2Block(\n",
      "          (conv_kxk): ConvNormAct(\n",
      "            (conv): Conv2d(128, 128, kernel_size=(3, 3), stride=(1, 1), padding=(1, 1), groups=128, bias=False)\n",
      "            (bn): BatchNormAct2d(\n",
      "              128, eps=1e-05, momentum=0.1, affine=True, track_running_stats=True\n",
      "              (drop): Identity()\n",
      "              (act): SiLU(inplace=True)\n",
      "            )\n",
      "          )\n",
      "          (conv_1x1): Conv2d(128, 64, kernel_size=(1, 1), stride=(1, 1), bias=False)\n",
      "          (transformer): Sequential(\n",
      "            (0): LinearTransformerBlock(\n",
      "              (norm1): GroupNorm1(1, 64, eps=1e-05, affine=True)\n",
      "              (attn): LinearSelfAttention(\n",
      "                (qkv_proj): Conv2d(64, 129, kernel_size=(1, 1), stride=(1, 1))\n",
      "                (attn_drop): Dropout(p=0.0, inplace=False)\n",
      "                (out_proj): Conv2d(64, 64, kernel_size=(1, 1), stride=(1, 1))\n",
      "                (out_drop): Dropout(p=0.0, inplace=False)\n",
      "              )\n",
      "              (drop_path1): DropPath(drop_prob=0.000)\n",
      "              (norm2): GroupNorm1(1, 64, eps=1e-05, affine=True)\n",
      "              (mlp): ConvMlp(\n",
      "                (fc1): Conv2d(64, 128, kernel_size=(1, 1), stride=(1, 1))\n",
      "                (norm): Identity()\n",
      "                (act): SiLU()\n",
      "                (drop): Dropout(p=0.0, inplace=False)\n",
      "                (fc2): Conv2d(128, 64, kernel_size=(1, 1), stride=(1, 1))\n",
      "              )\n",
      "              (drop_path2): DropPath(drop_prob=0.000)\n",
      "            )\n",
      "            (1): LinearTransformerBlock(\n",
      "              (norm1): GroupNorm1(1, 64, eps=1e-05, affine=True)\n",
      "              (attn): LinearSelfAttention(\n",
      "                (qkv_proj): Conv2d(64, 129, kernel_size=(1, 1), stride=(1, 1))\n",
      "                (attn_drop): Dropout(p=0.0, inplace=False)\n",
      "                (out_proj): Conv2d(64, 64, kernel_size=(1, 1), stride=(1, 1))\n",
      "                (out_drop): Dropout(p=0.0, inplace=False)\n",
      "              )\n",
      "              (drop_path1): DropPath(drop_prob=0.000)\n",
      "              (norm2): GroupNorm1(1, 64, eps=1e-05, affine=True)\n",
      "              (mlp): ConvMlp(\n",
      "                (fc1): Conv2d(64, 128, kernel_size=(1, 1), stride=(1, 1))\n",
      "                (norm): Identity()\n",
      "                (act): SiLU()\n",
      "                (drop): Dropout(p=0.0, inplace=False)\n",
      "                (fc2): Conv2d(128, 64, kernel_size=(1, 1), stride=(1, 1))\n",
      "              )\n",
      "              (drop_path2): DropPath(drop_prob=0.000)\n",
      "            )\n",
      "          )\n",
      "          (norm): GroupNorm1(1, 64, eps=1e-05, affine=True)\n",
      "          (conv_proj): ConvNormAct(\n",
      "            (conv): Conv2d(64, 128, kernel_size=(1, 1), stride=(1, 1), bias=False)\n",
      "            (bn): BatchNormAct2d(\n",
      "              128, eps=1e-05, momentum=0.1, affine=True, track_running_stats=True\n",
      "              (drop): Identity()\n",
      "              (act): Identity()\n",
      "            )\n",
      "          )\n",
      "        )\n",
      "      )\n",
      "      (stages_3): Sequential(\n",
      "        (0): BottleneckBlock(\n",
      "          (conv1_1x1): ConvNormAct(\n",
      "            (conv): Conv2d(128, 256, kernel_size=(1, 1), stride=(1, 1), bias=False)\n",
      "            (bn): BatchNormAct2d(\n",
      "              256, eps=1e-05, momentum=0.1, affine=True, track_running_stats=True\n",
      "              (drop): Identity()\n",
      "              (act): SiLU(inplace=True)\n",
      "            )\n",
      "          )\n",
      "          (conv2_kxk): ConvNormAct(\n",
      "            (conv): Conv2d(256, 256, kernel_size=(3, 3), stride=(2, 2), padding=(1, 1), groups=256, bias=False)\n",
      "            (bn): BatchNormAct2d(\n",
      "              256, eps=1e-05, momentum=0.1, affine=True, track_running_stats=True\n",
      "              (drop): Identity()\n",
      "              (act): SiLU(inplace=True)\n",
      "            )\n",
      "          )\n",
      "          (conv2b_kxk): Identity()\n",
      "          (attn): Identity()\n",
      "          (conv3_1x1): ConvNormAct(\n",
      "            (conv): Conv2d(256, 192, kernel_size=(1, 1), stride=(1, 1), bias=False)\n",
      "            (bn): BatchNormAct2d(\n",
      "              192, eps=1e-05, momentum=0.1, affine=True, track_running_stats=True\n",
      "              (drop): Identity()\n",
      "              (act): Identity()\n",
      "            )\n",
      "          )\n",
      "          (attn_last): Identity()\n",
      "          (drop_path): Identity()\n",
      "          (act): Identity()\n",
      "        )\n",
      "        (1): MobileVitV2Block(\n",
      "          (conv_kxk): ConvNormAct(\n",
      "            (conv): Conv2d(192, 192, kernel_size=(3, 3), stride=(1, 1), padding=(1, 1), groups=192, bias=False)\n",
      "            (bn): BatchNormAct2d(\n",
      "              192, eps=1e-05, momentum=0.1, affine=True, track_running_stats=True\n",
      "              (drop): Identity()\n",
      "              (act): SiLU(inplace=True)\n",
      "            )\n",
      "          )\n",
      "          (conv_1x1): Conv2d(192, 96, kernel_size=(1, 1), stride=(1, 1), bias=False)\n",
      "          (transformer): Sequential(\n",
      "            (0): LinearTransformerBlock(\n",
      "              (norm1): GroupNorm1(1, 96, eps=1e-05, affine=True)\n",
      "              (attn): LinearSelfAttention(\n",
      "                (qkv_proj): Conv2d(96, 193, kernel_size=(1, 1), stride=(1, 1))\n",
      "                (attn_drop): Dropout(p=0.0, inplace=False)\n",
      "                (out_proj): Conv2d(96, 96, kernel_size=(1, 1), stride=(1, 1))\n",
      "                (out_drop): Dropout(p=0.0, inplace=False)\n",
      "              )\n",
      "              (drop_path1): DropPath(drop_prob=0.000)\n",
      "              (norm2): GroupNorm1(1, 96, eps=1e-05, affine=True)\n",
      "              (mlp): ConvMlp(\n",
      "                (fc1): Conv2d(96, 192, kernel_size=(1, 1), stride=(1, 1))\n",
      "                (norm): Identity()\n",
      "                (act): SiLU()\n",
      "                (drop): Dropout(p=0.0, inplace=False)\n",
      "                (fc2): Conv2d(192, 96, kernel_size=(1, 1), stride=(1, 1))\n",
      "              )\n",
      "              (drop_path2): DropPath(drop_prob=0.000)\n",
      "            )\n",
      "            (1): LinearTransformerBlock(\n",
      "              (norm1): GroupNorm1(1, 96, eps=1e-05, affine=True)\n",
      "              (attn): LinearSelfAttention(\n",
      "                (qkv_proj): Conv2d(96, 193, kernel_size=(1, 1), stride=(1, 1))\n",
      "                (attn_drop): Dropout(p=0.0, inplace=False)\n",
      "                (out_proj): Conv2d(96, 96, kernel_size=(1, 1), stride=(1, 1))\n",
      "                (out_drop): Dropout(p=0.0, inplace=False)\n",
      "              )\n",
      "              (drop_path1): DropPath(drop_prob=0.000)\n",
      "              (norm2): GroupNorm1(1, 96, eps=1e-05, affine=True)\n",
      "              (mlp): ConvMlp(\n",
      "                (fc1): Conv2d(96, 192, kernel_size=(1, 1), stride=(1, 1))\n",
      "                (norm): Identity()\n",
      "                (act): SiLU()\n",
      "                (drop): Dropout(p=0.0, inplace=False)\n",
      "                (fc2): Conv2d(192, 96, kernel_size=(1, 1), stride=(1, 1))\n",
      "              )\n",
      "              (drop_path2): DropPath(drop_prob=0.000)\n",
      "            )\n",
      "            (2): LinearTransformerBlock(\n",
      "              (norm1): GroupNorm1(1, 96, eps=1e-05, affine=True)\n",
      "              (attn): LinearSelfAttention(\n",
      "                (qkv_proj): Conv2d(96, 193, kernel_size=(1, 1), stride=(1, 1))\n",
      "                (attn_drop): Dropout(p=0.0, inplace=False)\n",
      "                (out_proj): Conv2d(96, 96, kernel_size=(1, 1), stride=(1, 1))\n",
      "                (out_drop): Dropout(p=0.0, inplace=False)\n",
      "              )\n",
      "              (drop_path1): DropPath(drop_prob=0.000)\n",
      "              (norm2): GroupNorm1(1, 96, eps=1e-05, affine=True)\n",
      "              (mlp): ConvMlp(\n",
      "                (fc1): Conv2d(96, 192, kernel_size=(1, 1), stride=(1, 1))\n",
      "                (norm): Identity()\n",
      "                (act): SiLU()\n",
      "                (drop): Dropout(p=0.0, inplace=False)\n",
      "                (fc2): Conv2d(192, 96, kernel_size=(1, 1), stride=(1, 1))\n",
      "              )\n",
      "              (drop_path2): DropPath(drop_prob=0.000)\n",
      "            )\n",
      "            (3): LinearTransformerBlock(\n",
      "              (norm1): GroupNorm1(1, 96, eps=1e-05, affine=True)\n",
      "              (attn): LinearSelfAttention(\n",
      "                (qkv_proj): Conv2d(96, 193, kernel_size=(1, 1), stride=(1, 1))\n",
      "                (attn_drop): Dropout(p=0.0, inplace=False)\n",
      "                (out_proj): Conv2d(96, 96, kernel_size=(1, 1), stride=(1, 1))\n",
      "                (out_drop): Dropout(p=0.0, inplace=False)\n",
      "              )\n",
      "              (drop_path1): DropPath(drop_prob=0.000)\n",
      "              (norm2): GroupNorm1(1, 96, eps=1e-05, affine=True)\n",
      "              (mlp): ConvMlp(\n",
      "                (fc1): Conv2d(96, 192, kernel_size=(1, 1), stride=(1, 1))\n",
      "                (norm): Identity()\n",
      "                (act): SiLU()\n",
      "                (drop): Dropout(p=0.0, inplace=False)\n",
      "                (fc2): Conv2d(192, 96, kernel_size=(1, 1), stride=(1, 1))\n",
      "              )\n",
      "              (drop_path2): DropPath(drop_prob=0.000)\n",
      "            )\n",
      "          )\n",
      "          (norm): GroupNorm1(1, 96, eps=1e-05, affine=True)\n",
      "          (conv_proj): ConvNormAct(\n",
      "            (conv): Conv2d(96, 192, kernel_size=(1, 1), stride=(1, 1), bias=False)\n",
      "            (bn): BatchNormAct2d(\n",
      "              192, eps=1e-05, momentum=0.1, affine=True, track_running_stats=True\n",
      "              (drop): Identity()\n",
      "              (act): Identity()\n",
      "            )\n",
      "          )\n",
      "        )\n",
      "      )\n",
      "      (stages_4): Sequential(\n",
      "        (0): BottleneckBlock(\n",
      "          (conv1_1x1): ConvNormAct(\n",
      "            (conv): Conv2d(192, 384, kernel_size=(1, 1), stride=(1, 1), bias=False)\n",
      "            (bn): BatchNormAct2d(\n",
      "              384, eps=1e-05, momentum=0.1, affine=True, track_running_stats=True\n",
      "              (drop): Identity()\n",
      "              (act): SiLU(inplace=True)\n",
      "            )\n",
      "          )\n",
      "          (conv2_kxk): ConvNormAct(\n",
      "            (conv): Conv2d(384, 384, kernel_size=(3, 3), stride=(2, 2), padding=(1, 1), groups=384, bias=False)\n",
      "            (bn): BatchNormAct2d(\n",
      "              384, eps=1e-05, momentum=0.1, affine=True, track_running_stats=True\n",
      "              (drop): Identity()\n",
      "              (act): SiLU(inplace=True)\n",
      "            )\n",
      "          )\n",
      "          (conv2b_kxk): Identity()\n",
      "          (attn): Identity()\n",
      "          (conv3_1x1): ConvNormAct(\n",
      "            (conv): Conv2d(384, 256, kernel_size=(1, 1), stride=(1, 1), bias=False)\n",
      "            (bn): BatchNormAct2d(\n",
      "              256, eps=1e-05, momentum=0.1, affine=True, track_running_stats=True\n",
      "              (drop): Identity()\n",
      "              (act): Identity()\n",
      "            )\n",
      "          )\n",
      "          (attn_last): Identity()\n",
      "          (drop_path): Identity()\n",
      "          (act): Identity()\n",
      "        )\n",
      "        (1): MobileVitV2Block(\n",
      "          (conv_kxk): ConvNormAct(\n",
      "            (conv): Conv2d(256, 256, kernel_size=(3, 3), stride=(1, 1), padding=(1, 1), groups=256, bias=False)\n",
      "            (bn): BatchNormAct2d(\n",
      "              256, eps=1e-05, momentum=0.1, affine=True, track_running_stats=True\n",
      "              (drop): Identity()\n",
      "              (act): SiLU(inplace=True)\n",
      "            )\n",
      "          )\n",
      "          (conv_1x1): Conv2d(256, 128, kernel_size=(1, 1), stride=(1, 1), bias=False)\n",
      "          (transformer): Sequential(\n",
      "            (0): LinearTransformerBlock(\n",
      "              (norm1): GroupNorm1(1, 128, eps=1e-05, affine=True)\n",
      "              (attn): LinearSelfAttention(\n",
      "                (qkv_proj): Conv2d(128, 257, kernel_size=(1, 1), stride=(1, 1))\n",
      "                (attn_drop): Dropout(p=0.0, inplace=False)\n",
      "                (out_proj): Conv2d(128, 128, kernel_size=(1, 1), stride=(1, 1))\n",
      "                (out_drop): Dropout(p=0.0, inplace=False)\n",
      "              )\n",
      "              (drop_path1): DropPath(drop_prob=0.000)\n",
      "              (norm2): GroupNorm1(1, 128, eps=1e-05, affine=True)\n",
      "              (mlp): ConvMlp(\n",
      "                (fc1): Conv2d(128, 256, kernel_size=(1, 1), stride=(1, 1))\n",
      "                (norm): Identity()\n",
      "                (act): SiLU()\n",
      "                (drop): Dropout(p=0.0, inplace=False)\n",
      "                (fc2): Conv2d(256, 128, kernel_size=(1, 1), stride=(1, 1))\n",
      "              )\n",
      "              (drop_path2): DropPath(drop_prob=0.000)\n",
      "            )\n",
      "            (1): LinearTransformerBlock(\n",
      "              (norm1): GroupNorm1(1, 128, eps=1e-05, affine=True)\n",
      "              (attn): LinearSelfAttention(\n",
      "                (qkv_proj): Conv2d(128, 257, kernel_size=(1, 1), stride=(1, 1))\n",
      "                (attn_drop): Dropout(p=0.0, inplace=False)\n",
      "                (out_proj): Conv2d(128, 128, kernel_size=(1, 1), stride=(1, 1))\n",
      "                (out_drop): Dropout(p=0.0, inplace=False)\n",
      "              )\n",
      "              (drop_path1): DropPath(drop_prob=0.000)\n",
      "              (norm2): GroupNorm1(1, 128, eps=1e-05, affine=True)\n",
      "              (mlp): ConvMlp(\n",
      "                (fc1): Conv2d(128, 256, kernel_size=(1, 1), stride=(1, 1))\n",
      "                (norm): Identity()\n",
      "                (act): SiLU()\n",
      "                (drop): Dropout(p=0.0, inplace=False)\n",
      "                (fc2): Conv2d(256, 128, kernel_size=(1, 1), stride=(1, 1))\n",
      "              )\n",
      "              (drop_path2): DropPath(drop_prob=0.000)\n",
      "            )\n",
      "            (2): LinearTransformerBlock(\n",
      "              (norm1): GroupNorm1(1, 128, eps=1e-05, affine=True)\n",
      "              (attn): LinearSelfAttention(\n",
      "                (qkv_proj): Conv2d(128, 257, kernel_size=(1, 1), stride=(1, 1))\n",
      "                (attn_drop): Dropout(p=0.0, inplace=False)\n",
      "                (out_proj): Conv2d(128, 128, kernel_size=(1, 1), stride=(1, 1))\n",
      "                (out_drop): Dropout(p=0.0, inplace=False)\n",
      "              )\n",
      "              (drop_path1): DropPath(drop_prob=0.000)\n",
      "              (norm2): GroupNorm1(1, 128, eps=1e-05, affine=True)\n",
      "              (mlp): ConvMlp(\n",
      "                (fc1): Conv2d(128, 256, kernel_size=(1, 1), stride=(1, 1))\n",
      "                (norm): Identity()\n",
      "                (act): SiLU()\n",
      "                (drop): Dropout(p=0.0, inplace=False)\n",
      "                (fc2): Conv2d(256, 128, kernel_size=(1, 1), stride=(1, 1))\n",
      "              )\n",
      "              (drop_path2): DropPath(drop_prob=0.000)\n",
      "            )\n",
      "          )\n",
      "          (norm): GroupNorm1(1, 128, eps=1e-05, affine=True)\n",
      "          (conv_proj): ConvNormAct(\n",
      "            (conv): Conv2d(128, 256, kernel_size=(1, 1), stride=(1, 1), bias=False)\n",
      "            (bn): BatchNormAct2d(\n",
      "              256, eps=1e-05, momentum=0.1, affine=True, track_running_stats=True\n",
      "              (drop): Identity()\n",
      "              (act): Identity()\n",
      "            )\n",
      "          )\n",
      "        )\n",
      "      )\n",
      "      (final_conv): Identity()\n",
      "    )\n",
      "  )\n",
      "  (deeplab_head): DeepLabHead(\n",
      "    (0): ASPP(\n",
      "      (convs): ModuleList(\n",
      "        (0): Sequential(\n",
      "          (0): Conv2d(64, 256, kernel_size=(1, 1), stride=(1, 1), bias=False)\n",
      "          (1): BatchNorm2d(256, eps=1e-05, momentum=0.1, affine=True, track_running_stats=True)\n",
      "          (2): ReLU()\n",
      "        )\n",
      "        (1): ASPPConv(\n",
      "          (0): Conv2d(64, 256, kernel_size=(3, 3), stride=(1, 1), padding=(6, 6), dilation=(6, 6), bias=False)\n",
      "          (1): BatchNorm2d(256, eps=1e-05, momentum=0.1, affine=True, track_running_stats=True)\n",
      "          (2): ReLU()\n",
      "        )\n",
      "        (2): ASPPConv(\n",
      "          (0): Conv2d(64, 256, kernel_size=(3, 3), stride=(1, 1), padding=(12, 12), dilation=(12, 12), bias=False)\n",
      "          (1): BatchNorm2d(256, eps=1e-05, momentum=0.1, affine=True, track_running_stats=True)\n",
      "          (2): ReLU()\n",
      "        )\n",
      "        (3): ASPPConv(\n",
      "          (0): Conv2d(64, 256, kernel_size=(3, 3), stride=(1, 1), padding=(18, 18), dilation=(18, 18), bias=False)\n",
      "          (1): BatchNorm2d(256, eps=1e-05, momentum=0.1, affine=True, track_running_stats=True)\n",
      "          (2): ReLU()\n",
      "        )\n",
      "        (4): ASPPPooling(\n",
      "          (0): AdaptiveAvgPool2d(output_size=1)\n",
      "          (1): Conv2d(64, 256, kernel_size=(1, 1), stride=(1, 1), bias=False)\n",
      "          (2): BatchNorm2d(256, eps=1e-05, momentum=0.1, affine=True, track_running_stats=True)\n",
      "          (3): ReLU()\n",
      "        )\n",
      "      )\n",
      "      (project): Sequential(\n",
      "        (0): Conv2d(1280, 256, kernel_size=(1, 1), stride=(1, 1), bias=False)\n",
      "        (1): BatchNorm2d(256, eps=1e-05, momentum=0.1, affine=True, track_running_stats=True)\n",
      "        (2): ReLU()\n",
      "        (3): Dropout(p=0.5, inplace=False)\n",
      "      )\n",
      "    )\n",
      "    (1): Conv2d(256, 256, kernel_size=(3, 3), stride=(1, 1), padding=(1, 1), bias=False)\n",
      "    (2): BatchNorm2d(256, eps=1e-05, momentum=0.1, affine=True, track_running_stats=True)\n",
      "    (3): ReLU()\n",
      "    (4): Conv2d(256, 1, kernel_size=(1, 1), stride=(1, 1))\n",
      "  )\n",
      ")\n"
     ]
    },
    {
     "ename": "ValueError",
     "evalue": "Expected more than 1 value per channel when training, got input size torch.Size([1, 256, 1, 1])",
     "output_type": "error",
     "traceback": [
      "\u001b[0;31m---------------------------------------------------------------------------\u001b[0m",
      "\u001b[0;31mValueError\u001b[0m                                Traceback (most recent call last)",
      "Cell \u001b[0;32mIn[75], line 54\u001b[0m\n\u001b[1;32m     51\u001b[0m input_tensor \u001b[38;5;241m=\u001b[39m torch\u001b[38;5;241m.\u001b[39mrandn(\u001b[38;5;241m1\u001b[39m, \u001b[38;5;241m3\u001b[39m, \u001b[38;5;241m256\u001b[39m, \u001b[38;5;241m256\u001b[39m)\n\u001b[1;32m     53\u001b[0m \u001b[38;5;66;03m# Forward pass\u001b[39;00m\n\u001b[0;32m---> 54\u001b[0m output \u001b[38;5;241m=\u001b[39m \u001b[43mmodel\u001b[49m\u001b[43m(\u001b[49m\u001b[43minput_tensor\u001b[49m\u001b[43m)\u001b[49m\n\u001b[1;32m     55\u001b[0m \u001b[38;5;28mprint\u001b[39m(output\u001b[38;5;241m.\u001b[39mshape)  \u001b[38;5;66;03m# Output should be [1, 1, 256, 256] for binary segmentation\u001b[39;00m\n",
      "File \u001b[0;32m~/anaconda3/envs/hfenv/lib/python3.12/site-packages/torch/nn/modules/module.py:1532\u001b[0m, in \u001b[0;36mModule._wrapped_call_impl\u001b[0;34m(self, *args, **kwargs)\u001b[0m\n\u001b[1;32m   1530\u001b[0m     \u001b[38;5;28;01mreturn\u001b[39;00m \u001b[38;5;28mself\u001b[39m\u001b[38;5;241m.\u001b[39m_compiled_call_impl(\u001b[38;5;241m*\u001b[39margs, \u001b[38;5;241m*\u001b[39m\u001b[38;5;241m*\u001b[39mkwargs)  \u001b[38;5;66;03m# type: ignore[misc]\u001b[39;00m\n\u001b[1;32m   1531\u001b[0m \u001b[38;5;28;01melse\u001b[39;00m:\n\u001b[0;32m-> 1532\u001b[0m     \u001b[38;5;28;01mreturn\u001b[39;00m \u001b[38;5;28;43mself\u001b[39;49m\u001b[38;5;241;43m.\u001b[39;49m\u001b[43m_call_impl\u001b[49m\u001b[43m(\u001b[49m\u001b[38;5;241;43m*\u001b[39;49m\u001b[43margs\u001b[49m\u001b[43m,\u001b[49m\u001b[43m \u001b[49m\u001b[38;5;241;43m*\u001b[39;49m\u001b[38;5;241;43m*\u001b[39;49m\u001b[43mkwargs\u001b[49m\u001b[43m)\u001b[49m\n",
      "File \u001b[0;32m~/anaconda3/envs/hfenv/lib/python3.12/site-packages/torch/nn/modules/module.py:1541\u001b[0m, in \u001b[0;36mModule._call_impl\u001b[0;34m(self, *args, **kwargs)\u001b[0m\n\u001b[1;32m   1536\u001b[0m \u001b[38;5;66;03m# If we don't have any hooks, we want to skip the rest of the logic in\u001b[39;00m\n\u001b[1;32m   1537\u001b[0m \u001b[38;5;66;03m# this function, and just call forward.\u001b[39;00m\n\u001b[1;32m   1538\u001b[0m \u001b[38;5;28;01mif\u001b[39;00m \u001b[38;5;129;01mnot\u001b[39;00m (\u001b[38;5;28mself\u001b[39m\u001b[38;5;241m.\u001b[39m_backward_hooks \u001b[38;5;129;01mor\u001b[39;00m \u001b[38;5;28mself\u001b[39m\u001b[38;5;241m.\u001b[39m_backward_pre_hooks \u001b[38;5;129;01mor\u001b[39;00m \u001b[38;5;28mself\u001b[39m\u001b[38;5;241m.\u001b[39m_forward_hooks \u001b[38;5;129;01mor\u001b[39;00m \u001b[38;5;28mself\u001b[39m\u001b[38;5;241m.\u001b[39m_forward_pre_hooks\n\u001b[1;32m   1539\u001b[0m         \u001b[38;5;129;01mor\u001b[39;00m _global_backward_pre_hooks \u001b[38;5;129;01mor\u001b[39;00m _global_backward_hooks\n\u001b[1;32m   1540\u001b[0m         \u001b[38;5;129;01mor\u001b[39;00m _global_forward_hooks \u001b[38;5;129;01mor\u001b[39;00m _global_forward_pre_hooks):\n\u001b[0;32m-> 1541\u001b[0m     \u001b[38;5;28;01mreturn\u001b[39;00m \u001b[43mforward_call\u001b[49m\u001b[43m(\u001b[49m\u001b[38;5;241;43m*\u001b[39;49m\u001b[43margs\u001b[49m\u001b[43m,\u001b[49m\u001b[43m \u001b[49m\u001b[38;5;241;43m*\u001b[39;49m\u001b[38;5;241;43m*\u001b[39;49m\u001b[43mkwargs\u001b[49m\u001b[43m)\u001b[49m\n\u001b[1;32m   1543\u001b[0m \u001b[38;5;28;01mtry\u001b[39;00m:\n\u001b[1;32m   1544\u001b[0m     result \u001b[38;5;241m=\u001b[39m \u001b[38;5;28;01mNone\u001b[39;00m\n",
      "Cell \u001b[0;32mIn[75], line 41\u001b[0m, in \u001b[0;36mMobileViT_DeepLabV3.forward\u001b[0;34m(self, x)\u001b[0m\n\u001b[1;32m     39\u001b[0m \u001b[38;5;28;01mdef\u001b[39;00m \u001b[38;5;21mforward\u001b[39m(\u001b[38;5;28mself\u001b[39m, x):\n\u001b[1;32m     40\u001b[0m     x \u001b[38;5;241m=\u001b[39m \u001b[38;5;28mself\u001b[39m\u001b[38;5;241m.\u001b[39mbackbone(x) \u001b[38;5;66;03m#last feature map from mobilevitv2: [1, 256, 8, 8] -> [1,128,32,32]\u001b[39;00m\n\u001b[0;32m---> 41\u001b[0m     x \u001b[38;5;241m=\u001b[39m \u001b[38;5;28;43mself\u001b[39;49m\u001b[38;5;241;43m.\u001b[39;49m\u001b[43mdeeplab_head\u001b[49m\u001b[43m(\u001b[49m\u001b[43mx\u001b[49m\u001b[43m)\u001b[49m\n\u001b[1;32m     42\u001b[0m     \u001b[38;5;28;01mreturn\u001b[39;00m x\n",
      "File \u001b[0;32m~/anaconda3/envs/hfenv/lib/python3.12/site-packages/torch/nn/modules/module.py:1532\u001b[0m, in \u001b[0;36mModule._wrapped_call_impl\u001b[0;34m(self, *args, **kwargs)\u001b[0m\n\u001b[1;32m   1530\u001b[0m     \u001b[38;5;28;01mreturn\u001b[39;00m \u001b[38;5;28mself\u001b[39m\u001b[38;5;241m.\u001b[39m_compiled_call_impl(\u001b[38;5;241m*\u001b[39margs, \u001b[38;5;241m*\u001b[39m\u001b[38;5;241m*\u001b[39mkwargs)  \u001b[38;5;66;03m# type: ignore[misc]\u001b[39;00m\n\u001b[1;32m   1531\u001b[0m \u001b[38;5;28;01melse\u001b[39;00m:\n\u001b[0;32m-> 1532\u001b[0m     \u001b[38;5;28;01mreturn\u001b[39;00m \u001b[38;5;28;43mself\u001b[39;49m\u001b[38;5;241;43m.\u001b[39;49m\u001b[43m_call_impl\u001b[49m\u001b[43m(\u001b[49m\u001b[38;5;241;43m*\u001b[39;49m\u001b[43margs\u001b[49m\u001b[43m,\u001b[49m\u001b[43m \u001b[49m\u001b[38;5;241;43m*\u001b[39;49m\u001b[38;5;241;43m*\u001b[39;49m\u001b[43mkwargs\u001b[49m\u001b[43m)\u001b[49m\n",
      "File \u001b[0;32m~/anaconda3/envs/hfenv/lib/python3.12/site-packages/torch/nn/modules/module.py:1541\u001b[0m, in \u001b[0;36mModule._call_impl\u001b[0;34m(self, *args, **kwargs)\u001b[0m\n\u001b[1;32m   1536\u001b[0m \u001b[38;5;66;03m# If we don't have any hooks, we want to skip the rest of the logic in\u001b[39;00m\n\u001b[1;32m   1537\u001b[0m \u001b[38;5;66;03m# this function, and just call forward.\u001b[39;00m\n\u001b[1;32m   1538\u001b[0m \u001b[38;5;28;01mif\u001b[39;00m \u001b[38;5;129;01mnot\u001b[39;00m (\u001b[38;5;28mself\u001b[39m\u001b[38;5;241m.\u001b[39m_backward_hooks \u001b[38;5;129;01mor\u001b[39;00m \u001b[38;5;28mself\u001b[39m\u001b[38;5;241m.\u001b[39m_backward_pre_hooks \u001b[38;5;129;01mor\u001b[39;00m \u001b[38;5;28mself\u001b[39m\u001b[38;5;241m.\u001b[39m_forward_hooks \u001b[38;5;129;01mor\u001b[39;00m \u001b[38;5;28mself\u001b[39m\u001b[38;5;241m.\u001b[39m_forward_pre_hooks\n\u001b[1;32m   1539\u001b[0m         \u001b[38;5;129;01mor\u001b[39;00m _global_backward_pre_hooks \u001b[38;5;129;01mor\u001b[39;00m _global_backward_hooks\n\u001b[1;32m   1540\u001b[0m         \u001b[38;5;129;01mor\u001b[39;00m _global_forward_hooks \u001b[38;5;129;01mor\u001b[39;00m _global_forward_pre_hooks):\n\u001b[0;32m-> 1541\u001b[0m     \u001b[38;5;28;01mreturn\u001b[39;00m \u001b[43mforward_call\u001b[49m\u001b[43m(\u001b[49m\u001b[38;5;241;43m*\u001b[39;49m\u001b[43margs\u001b[49m\u001b[43m,\u001b[49m\u001b[43m \u001b[49m\u001b[38;5;241;43m*\u001b[39;49m\u001b[38;5;241;43m*\u001b[39;49m\u001b[43mkwargs\u001b[49m\u001b[43m)\u001b[49m\n\u001b[1;32m   1543\u001b[0m \u001b[38;5;28;01mtry\u001b[39;00m:\n\u001b[1;32m   1544\u001b[0m     result \u001b[38;5;241m=\u001b[39m \u001b[38;5;28;01mNone\u001b[39;00m\n",
      "File \u001b[0;32m~/anaconda3/envs/hfenv/lib/python3.12/site-packages/torch/nn/modules/container.py:217\u001b[0m, in \u001b[0;36mSequential.forward\u001b[0;34m(self, input)\u001b[0m\n\u001b[1;32m    215\u001b[0m \u001b[38;5;28;01mdef\u001b[39;00m \u001b[38;5;21mforward\u001b[39m(\u001b[38;5;28mself\u001b[39m, \u001b[38;5;28minput\u001b[39m):\n\u001b[1;32m    216\u001b[0m     \u001b[38;5;28;01mfor\u001b[39;00m module \u001b[38;5;129;01min\u001b[39;00m \u001b[38;5;28mself\u001b[39m:\n\u001b[0;32m--> 217\u001b[0m         \u001b[38;5;28minput\u001b[39m \u001b[38;5;241m=\u001b[39m \u001b[43mmodule\u001b[49m\u001b[43m(\u001b[49m\u001b[38;5;28;43minput\u001b[39;49m\u001b[43m)\u001b[49m\n\u001b[1;32m    218\u001b[0m     \u001b[38;5;28;01mreturn\u001b[39;00m \u001b[38;5;28minput\u001b[39m\n",
      "File \u001b[0;32m~/anaconda3/envs/hfenv/lib/python3.12/site-packages/torch/nn/modules/module.py:1532\u001b[0m, in \u001b[0;36mModule._wrapped_call_impl\u001b[0;34m(self, *args, **kwargs)\u001b[0m\n\u001b[1;32m   1530\u001b[0m     \u001b[38;5;28;01mreturn\u001b[39;00m \u001b[38;5;28mself\u001b[39m\u001b[38;5;241m.\u001b[39m_compiled_call_impl(\u001b[38;5;241m*\u001b[39margs, \u001b[38;5;241m*\u001b[39m\u001b[38;5;241m*\u001b[39mkwargs)  \u001b[38;5;66;03m# type: ignore[misc]\u001b[39;00m\n\u001b[1;32m   1531\u001b[0m \u001b[38;5;28;01melse\u001b[39;00m:\n\u001b[0;32m-> 1532\u001b[0m     \u001b[38;5;28;01mreturn\u001b[39;00m \u001b[38;5;28;43mself\u001b[39;49m\u001b[38;5;241;43m.\u001b[39;49m\u001b[43m_call_impl\u001b[49m\u001b[43m(\u001b[49m\u001b[38;5;241;43m*\u001b[39;49m\u001b[43margs\u001b[49m\u001b[43m,\u001b[49m\u001b[43m \u001b[49m\u001b[38;5;241;43m*\u001b[39;49m\u001b[38;5;241;43m*\u001b[39;49m\u001b[43mkwargs\u001b[49m\u001b[43m)\u001b[49m\n",
      "File \u001b[0;32m~/anaconda3/envs/hfenv/lib/python3.12/site-packages/torch/nn/modules/module.py:1541\u001b[0m, in \u001b[0;36mModule._call_impl\u001b[0;34m(self, *args, **kwargs)\u001b[0m\n\u001b[1;32m   1536\u001b[0m \u001b[38;5;66;03m# If we don't have any hooks, we want to skip the rest of the logic in\u001b[39;00m\n\u001b[1;32m   1537\u001b[0m \u001b[38;5;66;03m# this function, and just call forward.\u001b[39;00m\n\u001b[1;32m   1538\u001b[0m \u001b[38;5;28;01mif\u001b[39;00m \u001b[38;5;129;01mnot\u001b[39;00m (\u001b[38;5;28mself\u001b[39m\u001b[38;5;241m.\u001b[39m_backward_hooks \u001b[38;5;129;01mor\u001b[39;00m \u001b[38;5;28mself\u001b[39m\u001b[38;5;241m.\u001b[39m_backward_pre_hooks \u001b[38;5;129;01mor\u001b[39;00m \u001b[38;5;28mself\u001b[39m\u001b[38;5;241m.\u001b[39m_forward_hooks \u001b[38;5;129;01mor\u001b[39;00m \u001b[38;5;28mself\u001b[39m\u001b[38;5;241m.\u001b[39m_forward_pre_hooks\n\u001b[1;32m   1539\u001b[0m         \u001b[38;5;129;01mor\u001b[39;00m _global_backward_pre_hooks \u001b[38;5;129;01mor\u001b[39;00m _global_backward_hooks\n\u001b[1;32m   1540\u001b[0m         \u001b[38;5;129;01mor\u001b[39;00m _global_forward_hooks \u001b[38;5;129;01mor\u001b[39;00m _global_forward_pre_hooks):\n\u001b[0;32m-> 1541\u001b[0m     \u001b[38;5;28;01mreturn\u001b[39;00m \u001b[43mforward_call\u001b[49m\u001b[43m(\u001b[49m\u001b[38;5;241;43m*\u001b[39;49m\u001b[43margs\u001b[49m\u001b[43m,\u001b[49m\u001b[43m \u001b[49m\u001b[38;5;241;43m*\u001b[39;49m\u001b[38;5;241;43m*\u001b[39;49m\u001b[43mkwargs\u001b[49m\u001b[43m)\u001b[49m\n\u001b[1;32m   1543\u001b[0m \u001b[38;5;28;01mtry\u001b[39;00m:\n\u001b[1;32m   1544\u001b[0m     result \u001b[38;5;241m=\u001b[39m \u001b[38;5;28;01mNone\u001b[39;00m\n",
      "File \u001b[0;32m~/anaconda3/envs/hfenv/lib/python3.12/site-packages/torchvision/models/segmentation/deeplabv3.py:111\u001b[0m, in \u001b[0;36mASPP.forward\u001b[0;34m(self, x)\u001b[0m\n\u001b[1;32m    109\u001b[0m _res \u001b[38;5;241m=\u001b[39m []\n\u001b[1;32m    110\u001b[0m \u001b[38;5;28;01mfor\u001b[39;00m conv \u001b[38;5;129;01min\u001b[39;00m \u001b[38;5;28mself\u001b[39m\u001b[38;5;241m.\u001b[39mconvs:\n\u001b[0;32m--> 111\u001b[0m     _res\u001b[38;5;241m.\u001b[39mappend(\u001b[43mconv\u001b[49m\u001b[43m(\u001b[49m\u001b[43mx\u001b[49m\u001b[43m)\u001b[49m)\n\u001b[1;32m    112\u001b[0m res \u001b[38;5;241m=\u001b[39m torch\u001b[38;5;241m.\u001b[39mcat(_res, dim\u001b[38;5;241m=\u001b[39m\u001b[38;5;241m1\u001b[39m)\n\u001b[1;32m    113\u001b[0m \u001b[38;5;28;01mreturn\u001b[39;00m \u001b[38;5;28mself\u001b[39m\u001b[38;5;241m.\u001b[39mproject(res)\n",
      "File \u001b[0;32m~/anaconda3/envs/hfenv/lib/python3.12/site-packages/torch/nn/modules/module.py:1532\u001b[0m, in \u001b[0;36mModule._wrapped_call_impl\u001b[0;34m(self, *args, **kwargs)\u001b[0m\n\u001b[1;32m   1530\u001b[0m     \u001b[38;5;28;01mreturn\u001b[39;00m \u001b[38;5;28mself\u001b[39m\u001b[38;5;241m.\u001b[39m_compiled_call_impl(\u001b[38;5;241m*\u001b[39margs, \u001b[38;5;241m*\u001b[39m\u001b[38;5;241m*\u001b[39mkwargs)  \u001b[38;5;66;03m# type: ignore[misc]\u001b[39;00m\n\u001b[1;32m   1531\u001b[0m \u001b[38;5;28;01melse\u001b[39;00m:\n\u001b[0;32m-> 1532\u001b[0m     \u001b[38;5;28;01mreturn\u001b[39;00m \u001b[38;5;28;43mself\u001b[39;49m\u001b[38;5;241;43m.\u001b[39;49m\u001b[43m_call_impl\u001b[49m\u001b[43m(\u001b[49m\u001b[38;5;241;43m*\u001b[39;49m\u001b[43margs\u001b[49m\u001b[43m,\u001b[49m\u001b[43m \u001b[49m\u001b[38;5;241;43m*\u001b[39;49m\u001b[38;5;241;43m*\u001b[39;49m\u001b[43mkwargs\u001b[49m\u001b[43m)\u001b[49m\n",
      "File \u001b[0;32m~/anaconda3/envs/hfenv/lib/python3.12/site-packages/torch/nn/modules/module.py:1541\u001b[0m, in \u001b[0;36mModule._call_impl\u001b[0;34m(self, *args, **kwargs)\u001b[0m\n\u001b[1;32m   1536\u001b[0m \u001b[38;5;66;03m# If we don't have any hooks, we want to skip the rest of the logic in\u001b[39;00m\n\u001b[1;32m   1537\u001b[0m \u001b[38;5;66;03m# this function, and just call forward.\u001b[39;00m\n\u001b[1;32m   1538\u001b[0m \u001b[38;5;28;01mif\u001b[39;00m \u001b[38;5;129;01mnot\u001b[39;00m (\u001b[38;5;28mself\u001b[39m\u001b[38;5;241m.\u001b[39m_backward_hooks \u001b[38;5;129;01mor\u001b[39;00m \u001b[38;5;28mself\u001b[39m\u001b[38;5;241m.\u001b[39m_backward_pre_hooks \u001b[38;5;129;01mor\u001b[39;00m \u001b[38;5;28mself\u001b[39m\u001b[38;5;241m.\u001b[39m_forward_hooks \u001b[38;5;129;01mor\u001b[39;00m \u001b[38;5;28mself\u001b[39m\u001b[38;5;241m.\u001b[39m_forward_pre_hooks\n\u001b[1;32m   1539\u001b[0m         \u001b[38;5;129;01mor\u001b[39;00m _global_backward_pre_hooks \u001b[38;5;129;01mor\u001b[39;00m _global_backward_hooks\n\u001b[1;32m   1540\u001b[0m         \u001b[38;5;129;01mor\u001b[39;00m _global_forward_hooks \u001b[38;5;129;01mor\u001b[39;00m _global_forward_pre_hooks):\n\u001b[0;32m-> 1541\u001b[0m     \u001b[38;5;28;01mreturn\u001b[39;00m \u001b[43mforward_call\u001b[49m\u001b[43m(\u001b[49m\u001b[38;5;241;43m*\u001b[39;49m\u001b[43margs\u001b[49m\u001b[43m,\u001b[49m\u001b[43m \u001b[49m\u001b[38;5;241;43m*\u001b[39;49m\u001b[38;5;241;43m*\u001b[39;49m\u001b[43mkwargs\u001b[49m\u001b[43m)\u001b[49m\n\u001b[1;32m   1543\u001b[0m \u001b[38;5;28;01mtry\u001b[39;00m:\n\u001b[1;32m   1544\u001b[0m     result \u001b[38;5;241m=\u001b[39m \u001b[38;5;28;01mNone\u001b[39;00m\n",
      "File \u001b[0;32m~/anaconda3/envs/hfenv/lib/python3.12/site-packages/torchvision/models/segmentation/deeplabv3.py:81\u001b[0m, in \u001b[0;36mASPPPooling.forward\u001b[0;34m(self, x)\u001b[0m\n\u001b[1;32m     79\u001b[0m size \u001b[38;5;241m=\u001b[39m x\u001b[38;5;241m.\u001b[39mshape[\u001b[38;5;241m-\u001b[39m\u001b[38;5;241m2\u001b[39m:]\n\u001b[1;32m     80\u001b[0m \u001b[38;5;28;01mfor\u001b[39;00m mod \u001b[38;5;129;01min\u001b[39;00m \u001b[38;5;28mself\u001b[39m:\n\u001b[0;32m---> 81\u001b[0m     x \u001b[38;5;241m=\u001b[39m \u001b[43mmod\u001b[49m\u001b[43m(\u001b[49m\u001b[43mx\u001b[49m\u001b[43m)\u001b[49m\n\u001b[1;32m     82\u001b[0m \u001b[38;5;28;01mreturn\u001b[39;00m F\u001b[38;5;241m.\u001b[39minterpolate(x, size\u001b[38;5;241m=\u001b[39msize, mode\u001b[38;5;241m=\u001b[39m\u001b[38;5;124m\"\u001b[39m\u001b[38;5;124mbilinear\u001b[39m\u001b[38;5;124m\"\u001b[39m, align_corners\u001b[38;5;241m=\u001b[39m\u001b[38;5;28;01mFalse\u001b[39;00m)\n",
      "File \u001b[0;32m~/anaconda3/envs/hfenv/lib/python3.12/site-packages/torch/nn/modules/module.py:1532\u001b[0m, in \u001b[0;36mModule._wrapped_call_impl\u001b[0;34m(self, *args, **kwargs)\u001b[0m\n\u001b[1;32m   1530\u001b[0m     \u001b[38;5;28;01mreturn\u001b[39;00m \u001b[38;5;28mself\u001b[39m\u001b[38;5;241m.\u001b[39m_compiled_call_impl(\u001b[38;5;241m*\u001b[39margs, \u001b[38;5;241m*\u001b[39m\u001b[38;5;241m*\u001b[39mkwargs)  \u001b[38;5;66;03m# type: ignore[misc]\u001b[39;00m\n\u001b[1;32m   1531\u001b[0m \u001b[38;5;28;01melse\u001b[39;00m:\n\u001b[0;32m-> 1532\u001b[0m     \u001b[38;5;28;01mreturn\u001b[39;00m \u001b[38;5;28;43mself\u001b[39;49m\u001b[38;5;241;43m.\u001b[39;49m\u001b[43m_call_impl\u001b[49m\u001b[43m(\u001b[49m\u001b[38;5;241;43m*\u001b[39;49m\u001b[43margs\u001b[49m\u001b[43m,\u001b[49m\u001b[43m \u001b[49m\u001b[38;5;241;43m*\u001b[39;49m\u001b[38;5;241;43m*\u001b[39;49m\u001b[43mkwargs\u001b[49m\u001b[43m)\u001b[49m\n",
      "File \u001b[0;32m~/anaconda3/envs/hfenv/lib/python3.12/site-packages/torch/nn/modules/module.py:1541\u001b[0m, in \u001b[0;36mModule._call_impl\u001b[0;34m(self, *args, **kwargs)\u001b[0m\n\u001b[1;32m   1536\u001b[0m \u001b[38;5;66;03m# If we don't have any hooks, we want to skip the rest of the logic in\u001b[39;00m\n\u001b[1;32m   1537\u001b[0m \u001b[38;5;66;03m# this function, and just call forward.\u001b[39;00m\n\u001b[1;32m   1538\u001b[0m \u001b[38;5;28;01mif\u001b[39;00m \u001b[38;5;129;01mnot\u001b[39;00m (\u001b[38;5;28mself\u001b[39m\u001b[38;5;241m.\u001b[39m_backward_hooks \u001b[38;5;129;01mor\u001b[39;00m \u001b[38;5;28mself\u001b[39m\u001b[38;5;241m.\u001b[39m_backward_pre_hooks \u001b[38;5;129;01mor\u001b[39;00m \u001b[38;5;28mself\u001b[39m\u001b[38;5;241m.\u001b[39m_forward_hooks \u001b[38;5;129;01mor\u001b[39;00m \u001b[38;5;28mself\u001b[39m\u001b[38;5;241m.\u001b[39m_forward_pre_hooks\n\u001b[1;32m   1539\u001b[0m         \u001b[38;5;129;01mor\u001b[39;00m _global_backward_pre_hooks \u001b[38;5;129;01mor\u001b[39;00m _global_backward_hooks\n\u001b[1;32m   1540\u001b[0m         \u001b[38;5;129;01mor\u001b[39;00m _global_forward_hooks \u001b[38;5;129;01mor\u001b[39;00m _global_forward_pre_hooks):\n\u001b[0;32m-> 1541\u001b[0m     \u001b[38;5;28;01mreturn\u001b[39;00m \u001b[43mforward_call\u001b[49m\u001b[43m(\u001b[49m\u001b[38;5;241;43m*\u001b[39;49m\u001b[43margs\u001b[49m\u001b[43m,\u001b[49m\u001b[43m \u001b[49m\u001b[38;5;241;43m*\u001b[39;49m\u001b[38;5;241;43m*\u001b[39;49m\u001b[43mkwargs\u001b[49m\u001b[43m)\u001b[49m\n\u001b[1;32m   1543\u001b[0m \u001b[38;5;28;01mtry\u001b[39;00m:\n\u001b[1;32m   1544\u001b[0m     result \u001b[38;5;241m=\u001b[39m \u001b[38;5;28;01mNone\u001b[39;00m\n",
      "File \u001b[0;32m~/anaconda3/envs/hfenv/lib/python3.12/site-packages/torch/nn/modules/batchnorm.py:175\u001b[0m, in \u001b[0;36m_BatchNorm.forward\u001b[0;34m(self, input)\u001b[0m\n\u001b[1;32m    168\u001b[0m     bn_training \u001b[38;5;241m=\u001b[39m (\u001b[38;5;28mself\u001b[39m\u001b[38;5;241m.\u001b[39mrunning_mean \u001b[38;5;129;01mis\u001b[39;00m \u001b[38;5;28;01mNone\u001b[39;00m) \u001b[38;5;129;01mand\u001b[39;00m (\u001b[38;5;28mself\u001b[39m\u001b[38;5;241m.\u001b[39mrunning_var \u001b[38;5;129;01mis\u001b[39;00m \u001b[38;5;28;01mNone\u001b[39;00m)\n\u001b[1;32m    170\u001b[0m \u001b[38;5;250m\u001b[39m\u001b[38;5;124mr\u001b[39m\u001b[38;5;124;03m\"\"\"\u001b[39;00m\n\u001b[1;32m    171\u001b[0m \u001b[38;5;124;03mBuffers are only updated if they are to be tracked and we are in training mode. Thus they only need to be\u001b[39;00m\n\u001b[1;32m    172\u001b[0m \u001b[38;5;124;03mpassed when the update should occur (i.e. in training mode when they are tracked), or when buffer stats are\u001b[39;00m\n\u001b[1;32m    173\u001b[0m \u001b[38;5;124;03mused for normalization (i.e. in eval mode when buffers are not None).\u001b[39;00m\n\u001b[1;32m    174\u001b[0m \u001b[38;5;124;03m\"\"\"\u001b[39;00m\n\u001b[0;32m--> 175\u001b[0m \u001b[38;5;28;01mreturn\u001b[39;00m \u001b[43mF\u001b[49m\u001b[38;5;241;43m.\u001b[39;49m\u001b[43mbatch_norm\u001b[49m\u001b[43m(\u001b[49m\n\u001b[1;32m    176\u001b[0m \u001b[43m    \u001b[49m\u001b[38;5;28;43minput\u001b[39;49m\u001b[43m,\u001b[49m\n\u001b[1;32m    177\u001b[0m \u001b[43m    \u001b[49m\u001b[38;5;66;43;03m# If buffers are not to be tracked, ensure that they won't be updated\u001b[39;49;00m\n\u001b[1;32m    178\u001b[0m \u001b[43m    \u001b[49m\u001b[38;5;28;43mself\u001b[39;49m\u001b[38;5;241;43m.\u001b[39;49m\u001b[43mrunning_mean\u001b[49m\n\u001b[1;32m    179\u001b[0m \u001b[43m    \u001b[49m\u001b[38;5;28;43;01mif\u001b[39;49;00m\u001b[43m \u001b[49m\u001b[38;5;129;43;01mnot\u001b[39;49;00m\u001b[43m \u001b[49m\u001b[38;5;28;43mself\u001b[39;49m\u001b[38;5;241;43m.\u001b[39;49m\u001b[43mtraining\u001b[49m\u001b[43m \u001b[49m\u001b[38;5;129;43;01mor\u001b[39;49;00m\u001b[43m \u001b[49m\u001b[38;5;28;43mself\u001b[39;49m\u001b[38;5;241;43m.\u001b[39;49m\u001b[43mtrack_running_stats\u001b[49m\n\u001b[1;32m    180\u001b[0m \u001b[43m    \u001b[49m\u001b[38;5;28;43;01melse\u001b[39;49;00m\u001b[43m \u001b[49m\u001b[38;5;28;43;01mNone\u001b[39;49;00m\u001b[43m,\u001b[49m\n\u001b[1;32m    181\u001b[0m \u001b[43m    \u001b[49m\u001b[38;5;28;43mself\u001b[39;49m\u001b[38;5;241;43m.\u001b[39;49m\u001b[43mrunning_var\u001b[49m\u001b[43m \u001b[49m\u001b[38;5;28;43;01mif\u001b[39;49;00m\u001b[43m \u001b[49m\u001b[38;5;129;43;01mnot\u001b[39;49;00m\u001b[43m \u001b[49m\u001b[38;5;28;43mself\u001b[39;49m\u001b[38;5;241;43m.\u001b[39;49m\u001b[43mtraining\u001b[49m\u001b[43m \u001b[49m\u001b[38;5;129;43;01mor\u001b[39;49;00m\u001b[43m \u001b[49m\u001b[38;5;28;43mself\u001b[39;49m\u001b[38;5;241;43m.\u001b[39;49m\u001b[43mtrack_running_stats\u001b[49m\u001b[43m \u001b[49m\u001b[38;5;28;43;01melse\u001b[39;49;00m\u001b[43m \u001b[49m\u001b[38;5;28;43;01mNone\u001b[39;49;00m\u001b[43m,\u001b[49m\n\u001b[1;32m    182\u001b[0m \u001b[43m    \u001b[49m\u001b[38;5;28;43mself\u001b[39;49m\u001b[38;5;241;43m.\u001b[39;49m\u001b[43mweight\u001b[49m\u001b[43m,\u001b[49m\n\u001b[1;32m    183\u001b[0m \u001b[43m    \u001b[49m\u001b[38;5;28;43mself\u001b[39;49m\u001b[38;5;241;43m.\u001b[39;49m\u001b[43mbias\u001b[49m\u001b[43m,\u001b[49m\n\u001b[1;32m    184\u001b[0m \u001b[43m    \u001b[49m\u001b[43mbn_training\u001b[49m\u001b[43m,\u001b[49m\n\u001b[1;32m    185\u001b[0m \u001b[43m    \u001b[49m\u001b[43mexponential_average_factor\u001b[49m\u001b[43m,\u001b[49m\n\u001b[1;32m    186\u001b[0m \u001b[43m    \u001b[49m\u001b[38;5;28;43mself\u001b[39;49m\u001b[38;5;241;43m.\u001b[39;49m\u001b[43meps\u001b[49m\u001b[43m,\u001b[49m\n\u001b[1;32m    187\u001b[0m \u001b[43m\u001b[49m\u001b[43m)\u001b[49m\n",
      "File \u001b[0;32m~/anaconda3/envs/hfenv/lib/python3.12/site-packages/torch/nn/functional.py:2507\u001b[0m, in \u001b[0;36mbatch_norm\u001b[0;34m(input, running_mean, running_var, weight, bias, training, momentum, eps)\u001b[0m\n\u001b[1;32m   2494\u001b[0m     \u001b[38;5;28;01mreturn\u001b[39;00m handle_torch_function(\n\u001b[1;32m   2495\u001b[0m         batch_norm,\n\u001b[1;32m   2496\u001b[0m         (\u001b[38;5;28minput\u001b[39m, running_mean, running_var, weight, bias),\n\u001b[0;32m   (...)\u001b[0m\n\u001b[1;32m   2504\u001b[0m         eps\u001b[38;5;241m=\u001b[39meps,\n\u001b[1;32m   2505\u001b[0m     )\n\u001b[1;32m   2506\u001b[0m \u001b[38;5;28;01mif\u001b[39;00m training:\n\u001b[0;32m-> 2507\u001b[0m     \u001b[43m_verify_batch_size\u001b[49m\u001b[43m(\u001b[49m\u001b[38;5;28;43minput\u001b[39;49m\u001b[38;5;241;43m.\u001b[39;49m\u001b[43msize\u001b[49m\u001b[43m(\u001b[49m\u001b[43m)\u001b[49m\u001b[43m)\u001b[49m\n\u001b[1;32m   2509\u001b[0m \u001b[38;5;28;01mreturn\u001b[39;00m torch\u001b[38;5;241m.\u001b[39mbatch_norm(\n\u001b[1;32m   2510\u001b[0m     \u001b[38;5;28minput\u001b[39m, weight, bias, running_mean, running_var, training, momentum, eps, torch\u001b[38;5;241m.\u001b[39mbackends\u001b[38;5;241m.\u001b[39mcudnn\u001b[38;5;241m.\u001b[39menabled\n\u001b[1;32m   2511\u001b[0m )\n",
      "File \u001b[0;32m~/anaconda3/envs/hfenv/lib/python3.12/site-packages/torch/nn/functional.py:2475\u001b[0m, in \u001b[0;36m_verify_batch_size\u001b[0;34m(size)\u001b[0m\n\u001b[1;32m   2473\u001b[0m     size_prods \u001b[38;5;241m*\u001b[39m\u001b[38;5;241m=\u001b[39m size[i \u001b[38;5;241m+\u001b[39m \u001b[38;5;241m2\u001b[39m]\n\u001b[1;32m   2474\u001b[0m \u001b[38;5;28;01mif\u001b[39;00m size_prods \u001b[38;5;241m==\u001b[39m \u001b[38;5;241m1\u001b[39m:\n\u001b[0;32m-> 2475\u001b[0m     \u001b[38;5;28;01mraise\u001b[39;00m \u001b[38;5;167;01mValueError\u001b[39;00m(\u001b[38;5;124mf\u001b[39m\u001b[38;5;124m\"\u001b[39m\u001b[38;5;124mExpected more than 1 value per channel when training, got input size \u001b[39m\u001b[38;5;132;01m{\u001b[39;00msize\u001b[38;5;132;01m}\u001b[39;00m\u001b[38;5;124m\"\u001b[39m)\n",
      "\u001b[0;31mValueError\u001b[0m: Expected more than 1 value per channel when training, got input size torch.Size([1, 256, 1, 1])"
     ]
    }
   ],
   "source": [
    "# use DeepLabv3 from torchvision?\n",
    "\n",
    "\n",
    "# Define the custom backbone class\n",
    "class MobileViT_Backbone(nn.Module):\n",
    "    def __init__(self, model):\n",
    "        super(MobileViT_Backbone, self).__init__()\n",
    "        self.model = model\n",
    "        \n",
    "    def forward(self, x):\n",
    "        features = self.model(x)\n",
    "        return features[-4]  # Use the last feature map: [1, 256, 8, 8] -> [1,64,64,64] / [1,128,32,32] or else too small\n",
    "\n",
    "# Load the MobileViT v2 model without the classification head\n",
    "mobilevitv2_model = timm.create_model(\n",
    "    'mobilevitv2_050.cvnets_in1k', \n",
    "    pretrained=True, \n",
    "    features_only=True\n",
    ")\n",
    "\n",
    "# Create the backbone\n",
    "backbone = MobileViT_Backbone(mobilevitv2_model)\n",
    "\n",
    "# Define the custom model with DeepLabV3 head\n",
    "class MobileViT_DeepLabV3(nn.Module):\n",
    "    def __init__(self, backbone):\n",
    "        super(MobileViT_DeepLabV3, self).__init__()\n",
    "        self.backbone = backbone\n",
    "        self.deeplab_head = DeepLabHead(\n",
    "            in_channels=64,  # Adjust in_channels if needed\n",
    "            num_classes=1, \n",
    "            atrous_rates=(6,12,18) #from the paper, default (12,24,36)\n",
    "        )  \n",
    "        \n",
    "    def forward(self, x):\n",
    "        x = self.backbone(x) #last feature map from mobilevitv2: [1, 256, 8, 8] -> [1,128,32,32]\n",
    "        x = self.deeplab_head(x)\n",
    "        return x\n",
    "\n",
    "# Instantiate the model\n",
    "model = MobileViT_DeepLabV3(backbone)\n",
    "\n",
    "# Check the model architecture\n",
    "print(model)\n",
    "\n",
    "# Sample input tensor\n",
    "input_tensor = torch.randn(1, 3, 256, 256)\n",
    "\n",
    "# Forward pass\n",
    "output = model(input_tensor)\n",
    "print(output.shape)  # Output should be [1, 1, 256, 256] for binary segmentation\n"
   ]
  },
  {
   "cell_type": "markdown",
   "metadata": {},
   "source": [
    "### Visualize Feature map"
   ]
  },
  {
   "cell_type": "code",
   "execution_count": null,
   "metadata": {},
   "outputs": [],
   "source": [
    "import torchvision.transforms as trans\n",
    "# Feature map\n",
    "m2 = timm.create_model(\n",
    "    'mobilevitv2_050.cvnets_in1k', \n",
    "    features_only=True, \n",
    "    pretrained=True) \n",
    "\n",
    "# get model specific transforms (normalization, resize)\n",
    "data_config = timm.data.resolve_model_data_config(m2)\n",
    "transforms = timm.data.create_transform(**data_config, is_training=False)\n",
    "\n",
    "m2 = m2.eval()\n",
    "\n",
    "# torchvision transforms module takes PIL image with 3 channels, need to add lines\n",
    "pil_image = trans.ToPILImage()(slice_ADC)\n",
    "x = transforms(pil_image).unsqueeze(0) #torch.Size([1, 3, 256, 256])\n",
    "print(\"x.shape = {}\".format(x.shape))\n",
    "output = m2(x) #list with len=5 tensors\n",
    "\n",
    "#for o in output:\n",
    "    # print shape of each feature map in output\n",
    "    # e.g.:\n",
    "    #  torch.Size([1, 32, 128, 128])\n",
    "    #  torch.Size([1, 64, 64, 64])\n",
    "    #  torch.Size([1, 128, 32, 32])\n",
    "    #  torch.Size([1, 192, 16, 16])\n",
    "    #  torch.Size([1, 256, 8, 8])\n",
    "\n",
    "    #print(o.shape)\n",
    "#m2.feature_info.channels() #[32, 64, 128, 192, 256]\n"
   ]
  },
  {
   "cell_type": "code",
   "execution_count": null,
   "metadata": {},
   "outputs": [],
   "source": [
    "# draft\n",
    "print(data_config)"
   ]
  },
  {
   "cell_type": "code",
   "execution_count": null,
   "metadata": {},
   "outputs": [],
   "source": [
    "# visualize feature map\n",
    "fms = []\n",
    "\n",
    "for feature_map in output:\n",
    "    feature_map = feature_map.squeeze(0)\n",
    "    gray_scale = torch.sum(feature_map,0)\n",
    "    gray_scale = gray_scale / feature_map.shape[0] #feature_map.shape[0] = 32,64,128,192,256\n",
    "    fm = gray_scale.data.cpu().numpy()\n",
    "    fms.append(fm)\n",
    "\n",
    "    print(fm.shape)\n",
    "    # the feature map become smaller and contain more information, \"folding\"???\n",
    "    #(128, 128)\n",
    "    #(64, 64)\n",
    "    #(32, 32)\n",
    "    #(16, 16)\n",
    "    #(8, 8)"
   ]
  },
  {
   "cell_type": "code",
   "execution_count": null,
   "metadata": {},
   "outputs": [],
   "source": [
    "fig = plt.figure(figsize=(30, 50))\n",
    "fig.add_subplot(6, 3, 1)\n",
    "ori = plt.imshow(x.squeeze(0)[1,:,:], cmap='Greys_r'); plt.title(\"transforms(ADC)\", fontsize=30)\n",
    "\n",
    "for i in range(len(fms)):\n",
    "    a = fig.add_subplot(6, 3, i+2)\n",
    "    imgplot = plt.imshow(fms[i])\n",
    "    a.axis(\"off\")\n",
    "    a.set_title(\"Layer {} from last {}\".format(len(fms)-i, fms[i].shape), fontsize=30)\n",
    "#plt.savefig(str('feature_maps.jpg'), bbox_inches='tight')\n",
    "cbar = plt.colorbar()"
   ]
  },
  {
   "cell_type": "code",
   "execution_count": null,
   "metadata": {},
   "outputs": [],
   "source": [
    "# temp output for T2\n",
    "fig = plt.figure(figsize=(30, 50))\n",
    "fig.add_subplot(6, 3, 1)\n",
    "ori = plt.imshow(x.squeeze(0)[1,:,:], cmap='Greys_r'); plt.title(\"transforms(T2)\", fontsize=30)\n",
    "\n",
    "for i in range(len(fms)):\n",
    "    a = fig.add_subplot(6, 3, i+2)\n",
    "    imgplot = plt.imshow(fms[i])\n",
    "    a.axis(\"off\")\n",
    "    a.set_title(\"Layer {} from last {}\".format(len(fms)-i, fms[i].shape), fontsize=30)\n",
    "#plt.savefig(str('feature_maps.jpg'), bbox_inches='tight')\n",
    "cbar = plt.colorbar()"
   ]
  },
  {
   "cell_type": "code",
   "execution_count": null,
   "metadata": {},
   "outputs": [],
   "source": [
    "# try a different model v1\n",
    "import torchvision.transforms as trans\n",
    "\n",
    "m1 = timm.create_model(\n",
    "    'mobilevit_xxs.cvnets_in1k', \n",
    "    features_only=True, \n",
    "    pretrained=True)\n",
    "\n",
    "# get model specific transforms (normalization, resize)\n",
    "data_config = timm.data.resolve_model_data_config(m1)\n",
    "transforms = timm.data.create_transform(**data_config, is_training=False)\n",
    "\n",
    "# torchvision transforms module takes PIL image with 3 channels, need to add lines\n",
    "pil_image = trans.ToPILImage()(slice_T2)\n",
    "x = transforms(pil_image).unsqueeze(0) #torch.Size([1, 3, 256, 256])\n",
    "print(\"x.shape = {}\".format(x.shape))\n",
    "output = m1(x) #list with len=5 tensors\n",
    "\n",
    "for o in output:\n",
    "    # print shape of each feature map in output\n",
    "    # e.g.:\n",
    "    #  torch.Size([1, 16, 128, 128])\n",
    "    #  torch.Size([1, 24, 64, 64])\n",
    "    #  torch.Size([1, 48, 32, 32])\n",
    "    #  torch.Size([1, 64, 16, 16])\n",
    "    #  torch.Size([1, 320, 8, 8])\n",
    "\n",
    "    print(o.shape)"
   ]
  },
  {
   "cell_type": "code",
   "execution_count": null,
   "metadata": {},
   "outputs": [],
   "source": [
    "# temp output for T2 in m1\n",
    "fig = plt.figure(figsize=(30, 50))\n",
    "fig.add_subplot(6, 3, 1)\n",
    "ori = plt.imshow(x.squeeze(0)[1,:,:], cmap='Greys_r'); plt.title(\"transforms(T2)\", fontsize=30)\n",
    "\n",
    "for i in range(len(fms)):\n",
    "    a = fig.add_subplot(6, 3, i+2)\n",
    "    imgplot = plt.imshow(fms[i])\n",
    "    a.axis(\"off\")\n",
    "    a.set_title(\"Layer {} from last {}\".format(len(fms)-i, fms[i].shape), fontsize=30)\n",
    "#plt.savefig(str('feature_maps.jpg'), bbox_inches='tight')\n",
    "cbar = plt.colorbar()"
   ]
  },
  {
   "cell_type": "markdown",
   "metadata": {},
   "source": [
    "### Example Codes from HF\n",
    "https://huggingface.co/timm/mobilevitv2_050.cvnets_in1k "
   ]
  },
  {
   "cell_type": "markdown",
   "metadata": {},
   "source": [
    "##### Image Classification"
   ]
  },
  {
   "cell_type": "code",
   "execution_count": null,
   "metadata": {},
   "outputs": [],
   "source": [
    "# Example code from HF (Image Classification)\n",
    "from urllib.request import urlopen\n",
    "from PIL import Image\n",
    "#import timm\n",
    "\n",
    "img = Image.open(urlopen(\n",
    "    'https://huggingface.co/datasets/huggingface/documentation-images/resolve/main/beignets-task-guide.png'\n",
    "))\n",
    "\n",
    "model = timm.create_model('mobilevitv2_050.cvnets_in1k', pretrained=True)\n",
    "model = model.eval()\n",
    "\n",
    "# get model specific transforms (normalization, resize)\n",
    "data_config = timm.data.resolve_model_data_config(model)\n",
    "transforms = timm.data.create_transform(**data_config, is_training=False)\n",
    "\n",
    "x = transforms(img).unsqueeze(0)\n",
    "output = model(x)  # unsqueeze single image into batch of 1\n",
    "\n",
    "top5_probabilities, top5_class_indices = torch.topk(output.softmax(dim=1) * 100, k=5)\n"
   ]
  },
  {
   "cell_type": "code",
   "execution_count": null,
   "metadata": {},
   "outputs": [],
   "source": [
    "plt.imshow(img)\n",
    "print(x.shape) #[1, 3, 256, 256]\n",
    "#print(output)             #shape: [1, 1000]\n",
    "#print(top5_class_indices) #[969, 967, 928, 960, 927]   shape: [1, 5]\n",
    "#print(top5_probabilities) #[24.9318, 12.4587,  8.9054,  6.5909,  5.6044]  shape:[1, 5]"
   ]
  },
  {
   "cell_type": "markdown",
   "metadata": {},
   "source": [
    "##### Feature Map Extraction"
   ]
  },
  {
   "cell_type": "code",
   "execution_count": null,
   "metadata": {},
   "outputs": [],
   "source": [
    "# Example code from HF (Feature Map Extraction)\n",
    "from urllib.request import urlopen\n",
    "from PIL import Image\n",
    "import timm\n",
    "\n",
    "img = Image.open(urlopen(\n",
    "    'https://huggingface.co/datasets/huggingface/documentation-images/resolve/main/beignets-task-guide.png'\n",
    "))\n",
    "\n",
    "model = timm.create_model(\n",
    "    'mobilevitv2_050.cvnets_in1k',\n",
    "    pretrained=True,\n",
    "    features_only=True,\n",
    ")\n",
    "model = model.eval()\n",
    "\n",
    "# get model specific transforms (normalization, resize)\n",
    "data_config = timm.data.resolve_model_data_config(model)\n",
    "transforms = timm.data.create_transform(**data_config, is_training=False)\n",
    "\n",
    "output = model(transforms(img).unsqueeze(0))  # unsqueeze single image into batch of 1\n",
    "\n",
    "for o in output:\n",
    "    # print shape of each feature map in output\n",
    "    # e.g.:\n",
    "    #  torch.Size([1, 32, 128, 128])\n",
    "    #  torch.Size([1, 64, 64, 64])\n",
    "    #  torch.Size([1, 128, 32, 32])\n",
    "    #  torch.Size([1, 192, 16, 16])\n",
    "    #  torch.Size([1, 256, 8, 8])\n",
    "\n",
    "    print(o.shape)\n"
   ]
  },
  {
   "cell_type": "code",
   "execution_count": null,
   "metadata": {},
   "outputs": [],
   "source": [
    "# visualize feature map\n",
    "processed = []\n",
    "\n",
    "for feature_map in output:\n",
    "    feature_map = feature_map.squeeze(0)\n",
    "    gray_scale = torch.sum(feature_map,0)\n",
    "    gray_scale = gray_scale / feature_map.shape[0]\n",
    "    fm = gray_scale.data.cpu().numpy()\n",
    "    processed.append(fm)\n",
    "\n",
    "    print(fm.shape)\n",
    "    #(128, 128)\n",
    "    #(64, 64)\n",
    "    #(32, 32)\n",
    "    #(16, 16)\n",
    "    #(8, 8)"
   ]
  },
  {
   "cell_type": "code",
   "execution_count": null,
   "metadata": {},
   "outputs": [],
   "source": [
    "fig = plt.figure(figsize=(30, 50))\n",
    "for i in range(len(processed)):\n",
    "    a = fig.add_subplot(5, 3, i+1)\n",
    "    imgplot = plt.imshow(processed[i])\n",
    "    a.axis(\"off\")\n",
    "    a.set_title(\"Layer {} from last {}\".format(len(processed)-i, processed[i].shape), fontsize=30)\n",
    "#plt.savefig(str('feature_maps.jpg'), bbox_inches='tight')\n",
    "cbar = plt.colorbar()"
   ]
  },
  {
   "cell_type": "code",
   "execution_count": null,
   "metadata": {},
   "outputs": [],
   "source": [
    "# try different model v1\n",
    "# Example code from HF (Feature Map Extraction)\n",
    "from urllib.request import urlopen\n",
    "from PIL import Image\n",
    "import timm\n",
    "\n",
    "img = Image.open(urlopen(\n",
    "    'https://huggingface.co/datasets/huggingface/documentation-images/resolve/main/beignets-task-guide.png'\n",
    "))\n",
    "\n",
    "model = timm.create_model(\n",
    "    'mobilevit_xxs.cvnets_in1k',\n",
    "    pretrained=True,\n",
    "    features_only=True,\n",
    ")\n",
    "model = model.eval()\n",
    "\n",
    "# get model specific transforms (normalization, resize)\n",
    "data_config = timm.data.resolve_model_data_config(model)\n",
    "transforms = timm.data.create_transform(**data_config, is_training=False)\n",
    "\n",
    "output = model(transforms(img).unsqueeze(0))  # unsqueeze single image into batch of 1\n",
    "\n",
    "for o in output:\n",
    "    # print shape of each feature map in output\n",
    "    # e.g.:\n",
    "    #  torch.Size([1, 16, 128, 128])\n",
    "    #  torch.Size([1, 24, 64, 64])\n",
    "    #  torch.Size([1, 48, 32, 32])\n",
    "    #  torch.Size([1, 64, 16, 16])\n",
    "    #  torch.Size([1, 320, 8, 8])\n",
    "\n",
    "    # difference in dim[1]: 32,64,128,192,256 -> 16,24,48,64,320\n",
    "\n",
    "    print(o.shape)\n"
   ]
  },
  {
   "cell_type": "code",
   "execution_count": null,
   "metadata": {},
   "outputs": [],
   "source": [
    "fig = plt.figure(figsize=(30, 50))\n",
    "for i in range(len(processed)):\n",
    "    a = fig.add_subplot(5, 3, i+1)\n",
    "    imgplot = plt.imshow(processed[i])\n",
    "    a.axis(\"off\")\n",
    "    a.set_title(\"Layer {} from last {}\".format(len(processed)-i, processed[i].shape), fontsize=30)\n",
    "#plt.savefig(str('feature_maps.jpg'), bbox_inches='tight')\n",
    "cbar = plt.colorbar()"
   ]
  },
  {
   "cell_type": "markdown",
   "metadata": {},
   "source": [
    "##### Image Embedding"
   ]
  },
  {
   "cell_type": "code",
   "execution_count": null,
   "metadata": {},
   "outputs": [],
   "source": [
    "# Example code from HF (Image Embedding)\n",
    "from urllib.request import urlopen\n",
    "from PIL import Image\n",
    "import timm\n",
    "\n",
    "img = Image.open(urlopen(\n",
    "    'https://huggingface.co/datasets/huggingface/documentation-images/resolve/main/beignets-task-guide.png'\n",
    "))\n",
    "\n",
    "model = timm.create_model(\n",
    "    'mobilevitv2_050.cvnets_in1k',\n",
    "    pretrained=True,\n",
    "    num_classes=0,  # remove classifier nn.Linear, but still have global pooling?\n",
    ")\n",
    "model = model.eval()\n",
    "\n",
    "# get model specific transforms (normalization, resize)\n",
    "data_config = timm.data.resolve_model_data_config(model)\n",
    "transforms = timm.data.create_transform(**data_config, is_training=False)\n",
    "\n",
    "output = model(transforms(img).unsqueeze(0))  # output is (batch_size, num_features) = [1, 256] tensor\n",
    "\n",
    "# or equivalently (without needing to set num_classes=0)\n",
    "#output = model.forward_features(transforms(img).unsqueeze(0)) #(1, 256, 8, 8) tensor\n",
    "#output = model.forward_head(output, pre_logits=True) #(1, num_features) tensor\n",
    "\n",
    "plt.imshow(img)\n",
    "print(output)"
   ]
  }
 ],
 "metadata": {
  "kernelspec": {
   "display_name": "hfenv",
   "language": "python",
   "name": "python3"
  },
  "language_info": {
   "codemirror_mode": {
    "name": "ipython",
    "version": 3
   },
   "file_extension": ".py",
   "mimetype": "text/x-python",
   "name": "python",
   "nbconvert_exporter": "python",
   "pygments_lexer": "ipython3",
   "version": "3.12.2"
  }
 },
 "nbformat": 4,
 "nbformat_minor": 2
}
